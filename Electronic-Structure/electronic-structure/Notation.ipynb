{
 "cells": [
  {
   "cell_type": "markdown",
   "metadata": {},
   "source": [
    "# Notation"
   ]
  },
  {
   "cell_type": "markdown",
   "metadata": {},
   "source": [
    "## Abbreviations"
   ]
  },
  {
   "cell_type": "markdown",
   "metadata": {},
   "source": [
    "BZ: first Brillouin zone  \n",
    "\n",
    "wrt: with respect to   \n",
    "\n",
    "+c.c.: denotes adding the complex conjugate of the preceding quantity  "
   ]
  },
  {
   "cell_type": "markdown",
   "metadata": {},
   "source": [
    "## General: physical quantities  "
   ]
  },
  {
   "cell_type": "markdown",
   "metadata": {},
   "source": [
    "$E$: energy; 能量  \n",
    "\n",
    "$\\Omega$: volume(to avoid confusion with V used for potential); 体积, $V$ 表示的是势能  \n",
    "\n",
    "$P = -(dE / d\\Omega)$: pressure;压力  \n",
    "\n",
    "$B = \\Omega( d^2E/ d \\Omega^2 )$: bulk modulus(inverse of compressibility); 体模量, 与压缩率相反  \n",
    "\n",
    "$H = E + P \\Omega$: enthalpy; 焓  \n",
    "\n",
    "$u_{\\alpha \\beta}$: strain tensor(symmetrized form of $\\epsilon_{\\alpha \\beta}$); 应力张量, 对称形式用$\\epsilon_{\\alpha \\beta}$表示     \n",
    "\n",
    "$\\sigma_{\\alpha \\beta} = -(1/\\Omega)(\\partial E/\\partial {u_{\\alpha \\beta} } ) $: stress tensor(note the sign \n",
    "convention); 应变张量, 注意符号约定    \n",
    "\n",
    "$\\mathbf{F}_I = -(dE/d\\mathbf{R}_I) $: force on nucleus I; 作用在原子核 $I$ 上的力     \n",
    "\n",
    "$C_{IJ} = d^2E/ d\\mathbf{R}_I d\\mathbf{R}_J $: force constant matrix; **力常数矩阵**    \n",
    "\n",
    "$n(\\mathbf{r}) $: density of electron; 电子的密度    "
   ]
  },
  {
   "cell_type": "markdown",
   "metadata": {},
   "source": [
    "## Notation for crystals"
   ]
  },
  {
   "cell_type": "markdown",
   "metadata": {},
   "source": [
    "$\\Omega_{cell}$: volume of primitive cell; 原胞的体积     \n",
    "\n",
    "$\\mathbf{a}_i$: primitive translation vectors; 原胞的平移矢量(原胞基矢)    \n",
    "\n",
    "$\\mathbf{T}$ or $\\mathbf{T(n)} \\equiv \\mathbf{T}(n_1,n_2,n_3) = n_1 \\mathbf{a_1} +  n_2 \\mathbf{a_2} +  n_3 \\mathbf{a_3} $: lattice translations; 实空间中的晶格矢量(晶格平移矢量)\n",
    "\n",
    "$\\tau_s, s=1,\\dots, S $: positions of atoms in the basis; 原子在**基组?**中的位置  \n",
    "\n",
    "$\\mathbf{b}_i $: primitive vectors of reciprocal lattice; 倒格子基矢     \n",
    "\n",
    "$\\mathbf{G}$ or $\\mathbf{T(m)} \\equiv \\mathbf{G}(m_1,m_2,m_3) = m_1 \\mathbf{b_1} +  m_2 \\mathbf{b_2} +  m_3 \\mathbf{b_3} $: reciprocal lattice vectors; 倒空间中的晶格矢量       \n",
    "\n",
    "$\\mathbf{k}$: wavevector in BZ; 布里渊区的波矢  \n",
    "\n",
    "$\\mathbf{q} $: general wavevector($\\mathbf{q=k+G}$); 相对于布里渊区而言, 一般化的波矢     "
   ]
  },
  {
   "cell_type": "markdown",
   "metadata": {},
   "source": [
    "## Hamiltonian and eigenvalues"
   ]
  },
  {
   "cell_type": "markdown",
   "metadata": {},
   "source": [
    "$H$: Hamiltonian for either many paritcles or a single particle; 单粒子或多例子的哈密顿算符    \n",
    "\n",
    "$\\Psi(\\{ \\mathbf{r}_i \\})$:     \n",
    "\n",
    "$E_i$:  \n",
    "\n",
    "$\\Phi(\\{ \\mathbf{r}_i \\})$\n",
    "\n",
    "$H_{m,m'}$\n",
    "\n",
    "$S_{m,m'}$\n",
    "\n",
    "$\\psi_i( \\mathbf{r} ) $\n",
    "\n",
    "$\\varepsilon_i$\n",
    "\n",
    "$f_i = f( \\varepsilon_i )$:\n",
    "\n",
    "$\\psi^\\sigma_i( \\mathbf{r} ), \\varepsilon^\\sigma_i$:\n",
    "\n",
    "$\\alpha_i(\\sigma_j)$:  \n",
    "\n",
    "$\\phi_i( \\mathbf{r}_j, \\sigma_j) $:\n",
    "\n",
    "$\\psi_l(r)$:\n",
    "\n",
    "$\\phi_l(r)$:\n",
    "\n",
    "$\\eta_l{\\varepsilon}$:\n",
    "\n",
    "$\\psi_{i,\\mathbf{k}}(\\mathbf{r}) = \\mathrm{e}^{i \\mathbf{k\\cdot r}} u_{i,\\mathbf{k}}(\\mathbf{r})$\n",
    "\n",
    "$\\varepsilon_{i,\\mathbf{k}}$:\n",
    "\n",
    "$\\hat H(\\mathbf{k}) $"
   ]
  },
  {
   "cell_type": "markdown",
   "metadata": {},
   "source": [
    "$\\chi_\\alpha(\\mathbf{r})$: \n",
    "$\\alpha = 1, \\dots, N_{basis} $,\n",
    "$\\psi_i(\\mathbf{r}) = \\sum_\\alpha c_{i\\alpha} \\chi_\\alpha (\\mathbf{r})$\n",
    "\n",
    "$\\chi_\\alpha(\\mathbf{r}-(\\tau+\\mathbf{T}))$\n",
    "\n",
    "$\\chi^{\\mathrm{OPW}}(\\mathbf{r}), \\chi^{\\mathrm{APW}}(\\mathbf{r}), \\chi^{\\mathrm{LMTO}}(\\mathbf{r})$\n",
    "\n",
    "$w_i (\\mathbf{r}- \\mathbf{T})$:  \n",
    "\n",
    "$\\tilde w_i (\\mathbf{r}- \\mathbf{T})$: "
   ]
  },
  {
   "cell_type": "markdown",
   "metadata": {},
   "source": [
    "## Density functional theroy"
   ]
  },
  {
   "cell_type": "markdown",
   "metadata": {},
   "source": [
    "$F[f]$:\n",
    "\n",
    "$E_{\\mathrm{xc}}[n]$\n",
    "\n",
    "$\\epsilon_{\\mathrm{xc}}(\\mathbf{r}) $\n",
    "\n",
    "$V_{\\mathrm{xc}}(\\mathbf{r})$\n",
    "\n",
    "$V^\\sigma_{\\mathrm{xc}}(\\mathbf{r})$\n",
    "\n",
    "$f_{\\mathrm{xc}}(\\mathbf{r}, \\mathbf{r}')$: $\\delta^2 E_{\\mathrm{xc}}[n] / \\delta n(\\mathbf{r}) \\delta n(\\mathbf{r}')$"
   ]
  },
  {
   "cell_type": "markdown",
   "metadata": {},
   "source": [
    "## Response function and correlation functions"
   ]
  },
  {
   "cell_type": "markdown",
   "metadata": {},
   "source": [
    "$\\chi(\\omega)$  \n",
    "\n",
    "$\\chi_0(\\omega)$  \n",
    "\n",
    "$K(\\omega)$: $\\chi^{-1} = [\\chi_0]^{-1} - K$\n",
    "\n",
    "$\\epsilon(\\omega)$\n",
    "\n",
    "$n(\\mathbf{r},\\sigma; \\mathbf{r}',\\sigma')$:\n",
    "\n",
    "$g(\\mathbf{r},\\sigma; \\mathbf{r}',\\sigma')$:\n",
    "\n",
    "$G(z,\\mathbf{r},\\mathbf{r}')$ or $G_{m,m'}(z)$\n",
    "\n",
    "$\\rho(\\mathbf{r},\\sigma; \\mathbf{r}',\\sigma')$:\n",
    "\n",
    "$\\rho_\\sigma(\\mathbf{r},\\mathbf{r}')$:"
   ]
  }
 ],
 "metadata": {
  "kernelspec": {
   "display_name": "Python 3",
   "language": "python",
   "name": "python3"
  },
  "language_info": {
   "codemirror_mode": {
    "name": "ipython",
    "version": 3
   },
   "file_extension": ".py",
   "mimetype": "text/x-python",
   "name": "python",
   "nbconvert_exporter": "python",
   "pygments_lexer": "ipython3",
   "version": "3.6.5"
  },
  "toc": {
   "base_numbering": 1,
   "nav_menu": {},
   "number_sections": true,
   "sideBar": true,
   "skip_h1_title": true,
   "title_cell": "Table of Contents",
   "title_sidebar": "Contents",
   "toc_cell": false,
   "toc_position": {},
   "toc_section_display": true,
   "toc_window_display": false
  },
  "varInspector": {
   "cols": {
    "lenName": 16,
    "lenType": 16,
    "lenVar": 40
   },
   "kernels_config": {
    "python": {
     "delete_cmd_postfix": "",
     "delete_cmd_prefix": "del ",
     "library": "var_list.py",
     "varRefreshCmd": "print(var_dic_list())"
    },
    "r": {
     "delete_cmd_postfix": ") ",
     "delete_cmd_prefix": "rm(",
     "library": "var_list.r",
     "varRefreshCmd": "cat(var_dic_list()) "
    }
   },
   "types_to_exclude": [
    "module",
    "function",
    "builtin_function_or_method",
    "instance",
    "_Feature"
   ],
   "window_display": false
  }
 },
 "nbformat": 4,
 "nbformat_minor": 2
}
