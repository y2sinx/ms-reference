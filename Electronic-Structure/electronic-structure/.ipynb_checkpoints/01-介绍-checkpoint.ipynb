{
 "cells": [
  {
   "cell_type": "markdown",
   "metadata": {},
   "source": [
    "# 概论\n",
    "\n",
    "没有物理学就没有生命--明尼阿波利斯的出租车司机  "
   ]
  },
  {
   "cell_type": "markdown",
   "metadata": {},
   "source": [
    "<font size=3 color=red> **摘要** </font>\n",
    "\n",
    "自 1896-1897 年发现电子以来, 物质中的电子理论已经成为理论物理学的巨大挑战之一. 电子结构已成为认识材料和及其特性的根本依据(fundamental basis). 本章对早期量子力学发展的原始参考文献提供一个简要的概述(a brief outline), 以及具有开创性的定量理论, 其预示了今天所使用的大多数方法.   \n",
    "电子和原子核是决定物质性质的基本粒子, 无论是原子,分子,凝聚态物质,还是人造结构(其都是由原子组成的). 电子(本身)不仅在固-液-气(三态中)形成了将核固定在一起的\"量子胶\", 还(通过)激发(electron excitations)决定了材料大量的电学,光学和磁学性质. 物质中的电子理论已跻身于理论物理学的巨大挑战之中: 发展理论方法和计算方法, 可以准确地处理凝聚态物质和分子中多电子和多核交互的体系.   "
   ]
  },
  {
   "cell_type": "markdown",
   "metadata": {},
   "source": [
    "## 量子理论和电子结构的起源"
   ]
  },
  {
   "cell_type": "markdown",
   "metadata": {},
   "source": [
    "虽然电现象(electric)已被为人所知了几个世纪，但是电子结构的故事却只开始于1890s--电子是组成物质的一种基本粒子. 特别值得注意的是(Of particular note), Hendrik A. Lorentz(洛伦兹) 修改了麦克斯韦理论(电磁学理论), 根据带电粒子的运动去解释物质的电磁特性. 1896年，洛伦兹的学生 Pieter Zeeman(塞曼,莱顿大学)发现[4](), 通过磁场可以分裂谱线, 洛伦兹用他的电子理论进行了解释, 并得出结论: 原子辐射是由质量很小的带负电粒子引起的. 电子是 Thomson(汤姆逊, at the Cavendish Laboratory in Cambridge in 1897)在离子气实验中发现的, 实验发现电子是带负电的粒子, 其荷质比与洛伦兹和塞曼早期提出的类似. 因为这两项工作, 洛伦兹和塞曼于1902年, 汤姆逊于1906年获得诺贝尔奖. "
   ]
  },
  {
   "cell_type": "markdown",
   "metadata": {},
   "source": [
    "由小质量核组成的`补偿性正电荷`(compensating positive charge), 卢瑟福所在的实验室进行了证明(1911年,曼彻斯特)[7]().  这使得经典物理学面临一个主要问题: 如何才能保持物质稳定? 是什么阻止了电子和原子核因吸引而坍塌?  决定性时刻发生在 $Niels Bohr$(在卡文迪什实验室进行博士后工作, 于1911年完成了他的毕业答辩)遇到了卢瑟福之后搬到曼彻斯特, 力求解决这个问题.  在那里, 他提出了一个着名的提议, 即量子力学可以解释稳定性和所观察到的原子光谱(根据一组离散的允电子(允许电子存在)能级[8](). 虽然玻尔的模型从根本上来说是不正确的, 但它为发现量子力学定律奠定了基础, 量子力学出现于1923-1925年, 最著名地工作是由德布罗意, 薛定谔和海森堡所做出."
   ]
  },
  {
   "cell_type": "markdown",
   "metadata": {},
   "source": [
    "电子也是新量子理论的试验场. 著名的 $Stern-Gerlach$ 实验[15,16]()(1921年, 研究原子在磁场中的偏转), 就是被构想出来作为(were formulated as)量子理论对磁场粒子的适用性测试.  \n",
    "与此同时, 康普顿[17]()提出电子具有`内禀磁矩`(an intrinsic moment), 一个`磁偶极子`, 基于对射线束会聚的观测.  \n",
    "`轨道角动量耦合`和电子具有固定自旋数 1/2 是由 $Goudschmidt$ 和 $Uhlenbeck$ [18]()构想出来的, 他们注意到到了早期的康普顿假说."
   ]
  },
  {
   "cell_type": "markdown",
   "metadata": {},
   "source": [
    "新量子力学的胜利之一就是在1925年, 使用 $Pauli$ 不相容原理[19]()(没有两个电子可以处于相同的量状态), 用以解释元素周期表. 在1926年初出版的作品中, 费米[21]()将泡利不相容原理的结果扩展为一个通用公式, 对非相互作用粒子的统计(Eq.(1.1)), 并注意到与相似公式$Bose-Einstein$统计[22,23]()之间的对应性. 当两个粒子被交换时, 全同粒子(many identical particles)波函数的一般原则必须是对称的或反对称的, 该原则是由海森堡[24]()首先讨论的, 亦由狄拉克[25]()于1926年独立\"提出\".以及后来的工作--狄拉克制定了相对论性的量子力学, 统计力学定理(the great advances), 1920s最伟大的进步形成了现代电子结构理论的基础(研究对象是物质,原子,分子,凝聚态)"
   ]
  },
  {
   "cell_type": "markdown",
   "metadata": {},
   "source": [
    "理论进一步的发展, 快速提升了对分子和固体中电子的理解. 通过量子力学这个坚实的理论基础(theoretical basis), 形成了化学键合的基本概念(其中的规则已经由刘易斯[28]和其他人在1920年之前制定): 分子(或分子轨道)是通过修改原子原子轨道的方式而来的(参见, 例如, $Heitler$ 和 $London$, 在1927年的工作[29]). 原子成键数的规则由量子力学规定, 其中允许电子在多个原子上离域, 降低动能, 并充分利用电子对每个原子核的吸引力.  "
   ]
  },
  {
   "cell_type": "markdown",
   "metadata": {},
   "source": [
    "凝聚态物质中的电子理论是一个多体问题, 我们必须使用统计概念来描述大系统热力学极限下材料的固有属性.   \n",
    "定量理论的发展需要用到各种近似, 至今仍在广泛使用的是一种近似是**独立电子近似**(independent-electron approximation). 在这种近似下, 除了电子遵循不相容原理外, 每个电子的运动都与其他电子无关, 每个电子都在一些平均有效势(average effective potential)中运动, 这种平均势可以由其他电子确定.  \n",
    "随后, 系统的状态由`无关粒子本征态`(independent-particle eigenstates)指定, 每个无关粒子本证态用 $i$ 标记, 每个无关粒子本征态在`综合态`中的`占有数`(occupation numbers, 占有比例)使用 $f_i$ 标记, 占有数在热平衡状态下由下式指定, 其中减号适用于玻色-爱因斯坦统计, 加号适用于费米-狄拉克统计:  \n",
    "$$ \\large f_i^\\sigma = \\frac{1}{ e^{\\beta(\\epsilon_i^\\sigma-\\mu)} \\pm 1 } $$  "
   ]
  },
  {
   "cell_type": "markdown",
   "metadata": {},
   "source": [
    "量子理论的第一个成就由 $Wolfgang\\,Pauli$(沃尔夫冈 保利) 和 $Arnold\\,Sommerfeld$(阿诺德 默菲尔德)[30,31]()于1926-1928年解决了经典 $Drude-Lorentz$ 理论的主要问题. 保利于1926年末提交的论文[30]()是第一步, 遵循 `费米-狄拉克统计` 的电子的自旋极化可以解释弱顺磁性(weak paramagnet-ism). 当温度和磁场为零时, 电子自旋配对并填充最低能量状态(相对于费米能级而言), 高于该能量将导致空态. 温度或磁场场非零时，`但是低于特征电子能`, 只有费米能级附近的电子态能够参与导电(electrical conduction), 热容量, 顺磁性等现象. Pauli 和 Sommerfeld 将他们成功的模型建立在金属的`均质自由电子气模型`之上, 解决了 Drude-Lorentz 理论中令人迷惑的主要部分. 然而此时, 对于在理论中包含核和晶体结构会造成什么样的结果,理论并不明确(被认为可以强烈地干扰电子)."
   ]
  },
  {
   "cell_type": "markdown",
   "metadata": {},
   "source": [
    "<font size=3 color=red> **独立电子(independent electrons)的能带理论**</font>"
   ]
  },
  {
   "cell_type": "markdown",
   "metadata": {},
   "source": [
    "理解晶体中电子的关键一步是意识到周期势中`独立非交互电子`(independent non-interacting electrons)的性质. 这可在 布洛赫(海森堡在莱比锡的学生) 的理论中被清晰的阐明. 基于\"布洛赫定理\"(见第4章和第12章), 布洛赫提出了晶体中电子带的概念[36], 即: 完整晶体中的波函数是\"晶体势\"的本征态. 这解决了 Pauli-Sommerfeld 金属电导理论中的一个关键问题: 电子可以完整晶格中自由移动, 只会受到缺陷和`原子热振动位移`而散射.  "
   ]
  },
  {
   "cell_type": "markdown",
   "metadata": {},
   "source": [
    "然而, 直到后来才认识到能带理论的全部结果. 基于能带理论和泡利不相容原理, 允态(允许状态), 对于每种自旋情况, 只能容纳每个单位晶胞中的一个电子. 海森堡课题组(莱比锡大学)的 $Rudolf Peierls$(鲁道夫 皮尔斯), 意识到在解释金属霍尔效应和其他性质中`填充带`和`空带`(即缺失电子)的重要性[37,38](). 然而, 只有威尔逊(1930s,也是莱比锡大学)的工作，奠定了将所有晶体分类为金属, 半导体和绝缘体的理论基础[39,40]().  "
   ]
  },
  {
   "cell_type": "markdown",
   "metadata": {},
   "source": [
    "随着原子聚集在一起, 带的发展如图1.1所示, 改图主要基于 GE Kimball(金博尔) 在1935年的工作[34](). 金博尔考虑了金刚石结构的晶体, 因为电子在当时很难研究, 因为电子态的性质完全不同于原子的性质. 用他的话说: 虽然从这些结果中并不能得出很多定量性质, 但是金刚石结构和其他金属结构之间的区别是很明显的.  "
   ]
  },
  {
   "cell_type": "markdown",
   "metadata": {},
   "source": [
    "基于图1.1中所示的键的填充进行材料的分类, 这取决于电子数:  \n",
    "* 绝缘体的填充带有很大的能隙(energy gap), 形成禁带, 电子很难从基态跃至激发态\n",
    "* 半导体只有很小的能隙, 热能足以激发电子达到传导的程度\n",
    "* 金属具有部分填充的带, 没有激发带隙, 因此电子可以在零温度下导电"
   ]
  },
  {
   "cell_type": "markdown",
   "metadata": {},
   "source": [
    "![1d1](data/1d1.png)\n",
    "\n",
    "> Figure 1.1: 图示化电子能级, 显示了离散原子能级形成 允态band 的过程, 这些允态band 之间由禁态分隔.  \n",
    "考虑独立电子近似, 可以将固体划分为绝缘体, 半导体, 和导体."
   ]
  },
  {
   "cell_type": "markdown",
   "metadata": {},
   "source": [
    "## 定量(quantitative)计算的出现"
   ]
  },
  {
   "cell_type": "markdown",
   "metadata": {},
   "source": [
    "对多电子体系的第一次定量计算是针对原子的, 最著名的是 $D.R.Hartree$ [43]() 和 $Hylleraas$ [44,45]() 的工作. Hartree的工作开创了(pioneered)自洽场方法, 用数值方法求解处在中心势场中(由原子核和其他电子决定)的每个电子步(moving)方程, 并为许多至今仍在使用的数值方法奠定了基础. 然而, 这种方法是有点启发式的, 也是在1930年, $Fock$ [46]发布了第一个正确使用`反对称行列式波函数`进行的计算, 这是`Hartree–Fock` 方法的第一个例子. 目前在微扰理论中使用的许多方法(Sec.3.7 and Ch.19)都起源于 $Hylleraas$(海勒拉)的工作, 它为两电子系统的基态提供了精确解(早在1930年)[45]().  "
   ]
  },
  {
   "cell_type": "markdown",
   "metadata": {},
   "source": [
    "20世纪30年代见证了大多数目前仍在使用的固态电子结构理论方法的初步表述(the initial formulations of). 电子态的第一个定量计算是在金属Na上所做的工作, 由 $Wigner$ 和 $Seitz$ 发表于1933和19334年. 他们使用了`cellular`方法, 一个原子球形近似(the atomic sphere approximation)的先驱, 能够允许所需的计算在一个类原子球结构中进行计算. 即使有了这种简化, 此工作在时间上的耗费可以在他们的描述中得到:  一个波函数的计算大约花了两个下午, 总共计算了五个波函数, 给出了该图上的十个点. 原始图再版为图1.2, 显示了最低电子态的能量(下面的线)和晶体的总能量(上面的线), 与实验惊人的吻合.  "
   ]
  },
  {
   "cell_type": "markdown",
   "metadata": {},
   "source": [
    "![1d2](data/1d2.png)\n",
    "\n",
    "> Figure 1.2: 能量-Na半径关系(Wigner and Seitz)[49]().  \n",
    "底部曲线: 最低电子态的能量曲线;  \n",
    "顶部曲线: 总能,包括来自均质自由电子气模型的附加动能(given in Tab. 5.3)."
   ]
  },
  {
   "cell_type": "markdown",
   "metadata": {},
   "source": [
    "Na 中的电子能带由 Slater [51]() 和 Wigner-Seitz[50]() 计算于1934年, 他们都使用了 cellular 方法. Slater的结果如 图1.3 所示, 与 Wigner-Seitz 发现的能带结构非常类似. 尽管波函数在每个原子核附近具有原子特性, 然而还是与近自由电子非常类似, 该结果形成了关于sp-键合金属的基础. 1930s 和 1940s 对高对称金属( $Krutter$ 计算了Cu的带) 和离子固体($Shockley$研究了NaCl)进行了很多计算, 都是使用的 cellular 方法.  \n",
    "\n"
   ]
  },
  {
   "cell_type": "markdown",
   "metadata": {},
   "source": [
    "![1d3](data/1d3.png)\n",
    "\n",
    "> Figure 1.3: Na的能带(1934,Slater)[51]().  \n",
    "即使在每个核附近波函数具有原子特征, 该能带还是清楚的表明了近自由电子的特征, "
   ]
  },
  {
   "cell_type": "markdown",
   "metadata": {},
   "source": [
    "普通固体中的困难之处在于如何正确处理电子在核附近和平滑键合区的精度. 缀加平面波(Augmented plane waves, Ch6), 1937年由 Slater 提出[54], 发展于1950s[55,56], 因出现与边界处匹配的基组而完善. 正交平面波(Orthogonalized plane waves, Ch11)由 Herring 于1940年提出, 可以将核(cores)对价电子的影响考虑在内. 自 Fermi[58] 于1934年描述电子(来自于原子)和中子散射(来自于核)以后, 有效势(赝势的先驱, Chs11,12)被引进物理的许多领域. 或许固体应用的起源来源于$H.Hellmann$ [59,60](1935–1936), 他发展了金属中价电子的理论, 与现代赝势计算惊人的相似. 尽管此类计算并不适用与所有的固体, 但是概念以及实验的研究的发展导致了重要的科技进展, 最著名的就是晶体管(transistor)."
   ]
  },
  {
   "cell_type": "markdown",
   "metadata": {},
   "source": [
    "在困难情形下的计算(例如半导体)的第一个定量精确计算, 其电子态完全不同于其处于原子中的状态(图1), 完成于1950s, 由赫尔曼(Herman)进行的审查. 图1.4 显示了Ge的能带, 由 $Herman$和$Callaway$[61]计算于1953. 他们指出, 他们的带隙比实验值大一些. 被证明这是正确的: 研究方向上的带隙应大于最小带隙, 布里渊区的不同方向不同(带隙与所研究的方向有关)--当时难以计算. 比较最近的计算(图2.25), 表明结果基本正确."
   ]
  },
  {
   "cell_type": "markdown",
   "metadata": {},
   "source": [
    "![1d4](data/1d4.png)"
   ]
  },
  {
   "cell_type": "markdown",
   "metadata": {},
   "source": [
    "## 最大的挑战-电子相关"
   ]
  },
  {
   "cell_type": "markdown",
   "metadata": {},
   "source": [
    "尽管能带理论在描述固体中的电子方面非常成功, 但是电子之间仅通过泡利不相容原理进行关联, 仅通过一些平均势进行交互, 现在最大的问题是: 如果考虑电子-电子相互作用会有什么样的结果? 这种交互作用一个最重要的影响, 在电子结构的历史早期就已经确立: 磁性的根本原因由海森堡[64]和狄拉克[65]根据互作用电子的\"交换能\"所确认, 其取决于电子自旋态以及当两个电子交换时波函数必须变号. 在原子物理和化学中, 人们很快认识到精确的描述必须超越`有效独立电子近似`, 因为在局域系统和分子的特征键中, 电子之间具有很强的相关性."
   ]
  },
  {
   "cell_type": "markdown",
   "metadata": {},
   "source": [
    "在凝聚态物质中, 与电子-电子相互作用有关的重大问题被简捷地提出的[70], 其根据是 $Eugene Wigner$(尤金 维格纳)和 $Sir Nevill Mott$[71-73]所描述的金属-绝缘体晶体管, 自1950s至今, 已在此(晶体管)之上建立了很多关于多体效应的研究. 提出这些问题的另一种方式是将图1.1 能带的形成与交互效应对比, 交互效应在局域体系中最强(**in the atomic limit?**). 如果原子是一个开壳系统, 众所周知, **库仑相互作用将导致独立粒子电子态分裂成多电子态**, 基态由Hund定律给出[74–76]. 总的来说，`能带效应`(在高密度下占主导地位)和`多体-类原子效应`(在低密度下占主导地位)之间存在竞争. 最具挑战性的问题出现在中等密度处(intermediate densities), 此时上述两种效应存在竞争机制. 特征示例总结于Ch2, 尤其是 Sec.13."
   ]
  },
  {
   "cell_type": "markdown",
   "metadata": {},
   "source": [
    "电子之间的关联是(stands out as defining)当今电子结构领域的巨大困难和挑战. 高温超导材料和巨磁电阻材料(colossal-magneto-resistance materials)的实验发现, 刺激了新的实验技术, 并将`电子强相关理论`变为的一个前沿问题. 也许P.W.安德森最能雄辩地表达这些想法, 在他的书`凝聚态物理的基本概念`(Basic Notions of Condensed Matter Physics)[77]和题为 \"More is different\" [78]的论文中, 其中强调交互作用可能导致相变, 出现具有`对称性破坏,长程有序或出现在多粒子体系中的其他集体行为`的态。这些概念的持续性特征(概念的发展)可以在: \"More is Different: Fifty Years of Condensed Matter Physics\"[79]查看. 注意\"大局\"(big picture)是至关重要的, 即多体电电相互作用可能产生的结果(大局), 随着科学界朝着实用(practical), 高效的方向发展, 理论方法可以为物质的电子结构提供更加真实的描述."
   ]
  },
  {
   "cell_type": "markdown",
   "metadata": {},
   "source": [
    "## 近期发展"
   ]
  },
  {
   "cell_type": "markdown",
   "metadata": {},
   "source": [
    "在20世纪的最后几十年里, 许多发展为凝聚态物理中新的理解和机遇奠定了基础. 当然, 最重要的是实验进展: 富勒烯和高温等超导体新材料的发现; 超导性和量子霍尔效应等新现象的发现; 以及开启了无法想象之门的新测量技术, 如扫描隧道显微镜(STM), 高分辨率光电发射(high-resolution photoemission), 还有很多其他的. 对实验的研究完全超出了本书的范围, 但是在某些情况下必须参考具体的实验, 提及某些重要的实验探索(probes)."
   ]
  },
  {
   "cell_type": "markdown",
   "metadata": {},
   "source": [
    "关于这一理论, 也许最具影响性的进步是 $Bardeen, Cooper, Schrieffer$提出的超导理论(BCS理论)[80], 该理论影响了物理学的所有领域, 并为全新现象的出现(来源于多粒子协同运动)提供了理论基础. 从广义上讲, 超导理论讨论的主题也是\"电子结构\", 然而, 宏观凝聚(macroscopic coherence), 应用等等方面是一块属于自己的领域--一个需要深入的主题, 只有下面的费米面特性和电子-声子交互作用被认为是当今电子结构理论的一部分. 事实上, 费米面在许多章节中都有讨论, 电子-声子相互作用是现代电子结构理论的一个内在组成部分(Ch.19)."
   ]
  },
  {
   "cell_type": "markdown",
   "metadata": {},
   "source": [
    "在另一个意义上, 一系列理论的共同发展创造了一个新的研究方向, 影响了所有物理学和其他科学. \n",
    "这些最近在概念和计算算法反面的进步使得处理真实体系(也包括理想化的模型)成为可能.  \n",
    "最近几年出现了四个进展, 现已成为对当前大多数理论研究和计算方法(关于物质电子结构的计算方法)的理论基础:  \n",
    "* 用于计算电子基态的密度泛函理论, 及其处理激发态的扩展  \n",
    "* 量子蒙特卡洛方法, 可以直接处理电子与核的多体交互体系\n",
    "* 多体微扰方法--电子体系激发谱(the spectra of excitations)\n",
    "* 使实际计算可行的计算学进步, 并反过来影响这个领域的发展  \n",
    "\n",
    "该卷的其余部分用于独立粒子方法, 这在很大程度上基于密度泛函理论, 这是在独立粒子方程中包含多体效应近似的理论基础.  这些方法在许多问题上被证明是非常成功的, 对于现实问题中的定量计算, 是迄今为止使用最广泛的方法. 尽管这里主要强调的是泛函的使用, 但是所选材料(建议读者继续阅读的材料)包括多体效应(隐式并入泛函功能); 这需要感谢广用近似泛函的局限和可能改进的手段.  \n",
    "`Although the primary emphasis here **is on** the use of the functionals, selected material **is included on** the many-body effects(implicitly incorporated into the functionals); this is required for **appreciation of** the limitations of widely used approximate functionals and avenues for possible improvements.`"
   ]
  },
  {
   "cell_type": "markdown",
   "metadata": {},
   "source": [
    "**显式多体方法**(Explicit many-body methods), 如量子蒙特卡罗[81], 多体微扰理论[82]和动力学平均场理论[83]变得越来越重要, 并且应包括在电子结构的完全阐述中.  \n",
    "由于空间不足, 然而, 当前卷仅限于涉及**平均场独立粒子法**.  \n",
    "然而, 值得注意的是, 越来越多地使用`显式多体方法`只会使`理解独立粒子方法`变得越来越重要, 因为它们不可避免地是建立在独立粒子计算的输出之上."
   ]
  },
  {
   "cell_type": "markdown",
   "metadata": {},
   "source": [
    "<font size=5 color=red> !kk1: 词汇 </font>:  \n",
    "1. have ranked among: 跻身于...之中  \n",
    "1. fundamental basis: 根本(依据)  \n",
    "1. be demonstrated by: 被...证明\n",
    "1. dissertation; 学位论文, 毕业答辩\n",
    "1. a discrete set of: 一组离散的\n",
    "1. allowed levels for electrons: 允电子能级, 允许电子存在的能级\n",
    "1. set the stage for: 奠定了...的基础\n",
    "1. most notably: 尤其, 最突出地, 最著名地\n",
    "1. testing ground: 试验场\n",
    "1. deflection of atoms in a magnetic field: 原子在磁场中的偏转\n",
    "1. be formulated as: 被构想作为..., 被表述为...\n",
    "1. be formulated by: 由...构想出, 由...制定\n",
    "1. the initial formulations of: ...的初步表述\n",
    "1. noted the correspondence to: 注意与...之间的对应性\n",
    "1. quickly led to improved understanding of: 快速导致了对...的理解力的提升 => 删掉`led to`译为: 快速提升了对...的理解\n",
    "1. crystal momentum: 晶体势, 不是晶体动量.\n",
    "1. the electron states change qualitatively from those in the atom:   \n",
    "change qualitatively: 蜕变; 电子态的性质完全不同于原子的性质\n",
    "1. be gleaned from: 从…得到\n",
    "1. the effort required at the time: 在时间上的努力(耗费)\n",
    "1. the gap in the direction studied: 研究方向上的带隙\n",
    "1. the underlying cause: 根本原因\n",
    "1. contrast...with: 将...与...进行对比\n",
    "1. stands out as defining: 把无法翻译的动词翻译成, `是`, `有`...等最基本的动词\n",
    "1. bring to the fore issues of the theory: 将...带到该理论的前沿\n",
    "1. with: 翻译成动词, 具有\n",
    "1. ever more realistic description of...: 对...提供更加真实的描述\n",
    "1. with references to: 参考\n",
    "1. implicitly incorporated into: 隐含地并入\n",
    "1. widely used approximate functionals: (广泛使用的)近似泛函 -> 广用泛函, 将十分啰嗦的长定语翻译成中文时, 尽量使用缩写 \n",
    "1. be of increasing importance: 变得越来越重要"
   ]
  }
 ],
 "metadata": {
  "kernelspec": {
   "display_name": "Python 3",
   "language": "python",
   "name": "python3"
  },
  "language_info": {
   "codemirror_mode": {
    "name": "ipython",
    "version": 3
   },
   "file_extension": ".py",
   "mimetype": "text/x-python",
   "name": "python",
   "nbconvert_exporter": "python",
   "pygments_lexer": "ipython3",
   "version": "3.6.5"
  },
  "toc": {
   "base_numbering": 1,
   "nav_menu": {},
   "number_sections": true,
   "sideBar": true,
   "skip_h1_title": false,
   "title_cell": "Table of Contents",
   "title_sidebar": "Contents",
   "toc_cell": false,
   "toc_position": {},
   "toc_section_display": true,
   "toc_window_display": false
  },
  "varInspector": {
   "cols": {
    "lenName": 16,
    "lenType": 16,
    "lenVar": 40
   },
   "kernels_config": {
    "python": {
     "delete_cmd_postfix": "",
     "delete_cmd_prefix": "del ",
     "library": "var_list.py",
     "varRefreshCmd": "print(var_dic_list())"
    },
    "r": {
     "delete_cmd_postfix": ") ",
     "delete_cmd_prefix": "rm(",
     "library": "var_list.r",
     "varRefreshCmd": "cat(var_dic_list()) "
    }
   },
   "types_to_exclude": [
    "module",
    "function",
    "builtin_function_or_method",
    "instance",
    "_Feature"
   ],
   "window_display": false
  }
 },
 "nbformat": 4,
 "nbformat_minor": 2
}
