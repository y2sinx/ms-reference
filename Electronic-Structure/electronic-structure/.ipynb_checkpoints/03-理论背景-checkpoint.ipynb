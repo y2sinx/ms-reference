{
 "cells": [
  {
   "cell_type": "markdown",
   "metadata": {},
   "source": [
    "# 理论背景"
   ]
  },
  {
   "cell_type": "markdown",
   "metadata": {},
   "source": [
    "**摘要**:  \n",
    "我们对物质电子结构的理解是基于量子力学和统计力学的理论方法.\n",
    "本章回顾了基本的定义和表达,包括对多体相互作用电子系统有效的最基本形式,以及对非相互作用粒子有效的有用简化公式.\n",
    "这篇材料是后续章节的基础,这些章节涉及理论的进一步发展和进行计算的方法."
   ]
  },
  {
   "cell_type": "markdown",
   "metadata": {},
   "source": [
    "## 电子和原子核相互作用的基本方程"
   ]
  },
  {
   "cell_type": "markdown",
   "metadata": {},
   "source": [
    "本书的主题是从基本方程中扎根的理论方法描述物质性质的最新进展.\n",
    "因此,我们的出发点是电子和原子核系统的哈密顿量($\\displaystyle \\nabla^2_i = \n",
    "\\frac{\\partial^2}{\\partial^2_{x_i}}\n",
    "+ \\frac{\\partial^2}{\\partial^2_{y_i}}\n",
    "+ \\frac{\\partial^2}{\\partial^2_{z_i}}$):"
   ]
  },
  {
   "cell_type": "markdown",
   "metadata": {},
   "source": [
    "\\begin{equation}\n",
    "\\begin{split}\n",
    "\\displaystyle \\hat{H} = \n",
    "&- \\frac{\\hbar^2}{2m_e}\\sum_i \\nabla^2_i\n",
    " + \\frac{1}{2}\\sum_{i\\neq j}\\frac{e^2}{\\left|\\mathbf{r}_i-\\mathbf{r}_j\\right|}\n",
    " - \\sum_{i,I}\\frac{Z_Ie^2}{\\left|\\mathbf{r}_i-\\mathbf{R}_I\\right|}\\\\\n",
    "&- \\frac{\\hbar^2}{2M_I}\\sum_I\\nabla_I^2 \n",
    " + \\frac{1}{2}\\sum_{I\\neq J}\\frac{Z_IZ_Je^2}{\\left|\\mathbf{R}_I-\\mathbf{R}_J\\right|}\n",
    "\\end{split} \\tag{3.1}\n",
    "\\end{equation}"
   ]
  },
  {
   "cell_type": "markdown",
   "metadata": {},
   "source": [
    "其中电子由小写下标表示, 核电荷数 $ Z_I $ 和质量 $ M_I $,由大写下标表示.\n",
    "必须包括困难的许多术语的影响,即电子-电子库仑相互作用和由所有相互作用的综合效应产生的核的复杂结构.\n",
    "电子结构理论的核心是开发出足够精确的电子相关处理方法,从(3.1)开始可以预测物质表现出的各种现象.\n",
    "从基本的多体理论开始,它是最具信息性和生产力的.\n",
    "许多表达式,如力定理,更容易在完整的理论中得出,没有近似值.\n",
    "然后,可以直接专注于独立粒子方法以及以下大多数章节所需的实际公式."
   ]
  },
  {
   "cell_type": "markdown",
   "metadata": {},
   "source": [
    "> ${}^1$ 这里不包括相对论效应,磁场和量子电动力学.这些将在不同程度上合并.\n",
    "例如,Dirac方程包括在(在Ch10中)原子上,并且在赝势上讨论(在Ch11中)和在增强方法上的(Ch16).\n",
    "磁场仅作为塞曼术语明确包括在内."
   ]
  },
  {
   "cell_type": "markdown",
   "metadata": {},
   "source": [
    "一般汉密尔顿主义中只有一种术语可以被视为\"小\",\n",
    "核1 / MI的反质量.\n",
    "可以根据该参数定义扰动系列,该参数预期对于电子和原子核的完全相互作用系统具有一般有效性.\n",
    "如果我们首先将原子核的质量设定为无穷大,那么可以忽略原子核的动能.\n",
    "这是Born-Oppenheimer或绝热近似\n",
    "[89]在App中定义. C,对于许多目的而言是很好的近似,例如计算大多数固体中的核振动模式[90,152].\n",
    "在其他情况下,它形成了电子 - 声子相互作用中扰动理论的起点,\n",
    "这是理解金属中电输运,绝缘子中极化子形成,某些金属 - 绝缘体转变和BCS超导理论的基础.\n",
    "因此,我们将重点关注电子的哈密顿量,其中原子核的位置是参数.\n",
    "忽略核动能,电子结构理论的基本哈密顿可以写成:  \n",
    "\n",
    "$\\displaystyle \\hat{H} = \\hat{T} + \\hat{V}_{ext} + \\hat{V}_{int} + E_{II} \\tag{3.2}$"
   ]
  },
  {
   "cell_type": "markdown",
   "metadata": {},
   "source": [
    "如果我们使用 Hartree 原子单位, $\\hbar = m_e = e = 4π/ \\epsilon_0 = 1$, 那么这些项可以写成最简单的形式. 电子的动能算符:  \n",
    "\n",
    "\\begin{equation}\n",
    "\\hat{T} = \\sum_{i} -\\frac{1}{2}\\nabla^2_i  \\tag{3.3}\n",
    "\\end{equation}"
   ]
  },
  {
   "cell_type": "markdown",
   "metadata": {},
   "source": [
    "电子的外部势能是原子核对电子的势能:  \n",
    "\n",
    "\\begin{equation}\n",
    "\\hat{V}_{ext} = \\sum_{i,I} V_I \\left( \\left| \\mathbf{r}_i-\\mathbf{R}_I \\right| \\right)  \\tag{3.4}\n",
    "\\end{equation}"
   ]
  },
  {
   "cell_type": "markdown",
   "metadata": {},
   "source": [
    "内部势能是电子与电子之间的相互作用势能:  \n",
    "\n",
    "\\begin{equation}\n",
    "\\hat{V} _{int} = \\frac{1}{2} \\sum_{i\\neq j} \\frac{1}{\\left|\\mathbf{r}_i-\\mathbf{r}_j \\right|}  \\tag{3.5}\n",
    "\\end{equation}"
   ]
  },
  {
   "cell_type": "markdown",
   "metadata": {},
   "source": [
    "最后一个术语 $ E_ {II} $ 是原子核彼此之间的经典相互作用以及任何其他术语(有助于系统的总能量)(但与描述电子的问题没有密切关系).\n",
    "这里,原子核对电子的影响包含在电子的\"外部\"固定电位中.\n",
    "如果裸核库仑相互作用被考虑核心电子效应的赝势代替(除了电势是\"非局部的\",见见第11章),这种一般形式仍然有效.\n",
    "此外,可以容易地包括其他\"外部电位\",例如电场和塞曼项.\n",
    "因此,对于电子,哈密顿(3.2)是电子结构理论的核心."
   ]
  },
  {
   "cell_type": "markdown",
   "metadata": {},
   "source": [
    "### 多体电子系统的薛定谔方程"
   ]
  },
  {
   "cell_type": "markdown",
   "metadata": {},
   "source": [
    "控制非相对论量子系统的基本方程是含时(时间依赖的)薛定谔方程,\n",
    "\n",
    "$$i\\hbar\\frac{\\text{d} \\Psi(\\{ \\mathbf{r}_j\\};t) }{\\text{d}t} = \n",
    "\\hat{H} \\Psi(\\{ \\mathbf{r}_j\\};t) \\tag{3.6}$$"
   ]
  },
  {
   "cell_type": "markdown",
   "metadata": {},
   "source": [
    "多体波函数(对于电子)是 \n",
    "$\\Psi(\\{ \\mathbf{r}_j\\};t) \\equiv \\Psi(\\mathbf{r}_1,\\mathbf{r}_2,\\dots,\\mathbf{r}_N;t)$, \n",
    "自旋被认为包含在坐标中 \n",
    "$\\mathbf{r}_i$(或$\\mathbf{r}_1,\\mathbf{r}_2,\\dots,\\mathbf{r}_N$), 当然, 波函数必须是反对称的(对于电子坐标). \n",
    "(3.6)的本征态可以写成 \n",
    "$ \\Psi(\\{ \\mathbf{r}_j\\};t) = \\Psi(\\{ \\mathbf{r}_j\\}) \\text{e}^{-i(E/\\hbar)t}$\n",
    "这是理解Ch20和AppD中动力学性质的基础."
   ]
  },
  {
   "cell_type": "markdown",
   "metadata": {},
   "source": [
    "对于本征态,与时间无关的表达式(对于任何可观察的)是运算符$ \\hat{O} $ 的期望值,其涉及所有坐标的积分,\n",
    "$\\displaystyle \\left\\langle \\hat{O} \\right \\rangle =  \n",
    "\\frac{ \\left\\langle \\Psi \\right| \\hat{O} \\left| \\Psi \\right\\rangle }{\\left\\langle \\Psi \\right| \\Psi \\left. \\right\\rangle }\\tag{3.7}$"
   ]
  },
  {
   "cell_type": "markdown",
   "metadata": {},
   "source": [
    "在电子结构理论中发挥核心作用的粒子密度$n(\\mathbf{r})$是\n",
    "由密度算子的期望值给出:  \n",
    "$ n(r)=?i = 1,Nδ(r-ri)$,\n",
    "$$ n(r)= ?? | n(r)| ?? ?? | ?? = N? d3r2···d3rN?σ1|?(r,r2,r3,...,rN)| 2? d3r1d3r2···d3rN |?(r1,r2,r3,...,rN)| 2,(3.8)$$"
   ]
  },
  {
   "cell_type": "code",
   "execution_count": 3,
   "metadata": {},
   "outputs": [
    {
     "name": "stdout",
     "output_type": "stream",
     "text": [
      "因为所有电子坐标中波函数的对称性,所以具有这种形式.\n",
      "如果省略σ1的总和,则产生每次旋转的密度.\n"
     ]
    }
   ],
   "source": [
    "ggtrans(\"\"\"which has this form because of the symmetry of the wavefunction in all the electron coordinates.\n",
    "The density for each spin results if the sum over σ1 is omitted.\"\"\")"
   ]
  },
  {
   "cell_type": "code",
   "execution_count": 4,
   "metadata": {},
   "outputs": [
    {
     "name": "stdout",
     "output_type": "stream",
     "text": [
      "它有这种形式是因为波函数在所有电子坐标中的对称性。\n",
      "每个自旋密度结果如果省略对σ1求和。\n"
     ]
    },
    {
     "data": {
      "text/plain": [
       "dict"
      ]
     },
     "execution_count": 4,
     "metadata": {},
     "output_type": "execute_result"
    }
   ],
   "source": [
    "kk_youdao2(\"\"\"which has this form because of the symmetry of the wavefunction in all the electron coordinates.\n",
    "The density for each spin results if the sum over σ1 is omitted.\"\"\")"
   ]
  },
  {
   "cell_type": "markdown",
   "metadata": {},
   "source": [
    "因为所有电子坐标中波函数的对称性,所以具有这种形式. (如果省略σ1的总和,则每次旋转的密度都会产生.)\n",
    "总能量是哈密顿的期望值,\n",
    "$$ E = ?? | H | ?? ?? | ?? ≡?H? =?T? +?Vint? +? d3r Vext(r)n(r)+ E I I,(3.9)$$\n",
    "其中外部电位的期望值已明确写为密度函数的简单积分.\n",
    "最后一个术语$ E I I $是静电核 - 核(或离子 - 离子)相互作用,它在总能量计算中是必不可少的,但在电子结构理论中只是一个经典的附加项."
   ]
  },
  {
   "cell_type": "code",
   "execution_count": 19,
   "metadata": {},
   "outputs": [
    {
     "name": "stdout",
     "output_type": "stream",
     "text": [
      "控制非相对论量子系统的基本方程是时间依赖的薛定谔方程,\n",
      "3.6\n",
      "多体波函数(对于电子)是$?({ri}; t)≡?(r1,r2,...,rN; t)$,假设旋转包含在坐标$ ri中$,当然,波函数必须是反对称的(在电子的坐标中$ r1,r2,...,rN $.\n",
      "(3.6)的本征态可以写成$?({ri}; t)=?({ri})e-i(E / h-)t $.\n",
      "这是理解Ch20和AppD中动态特性的基础.\n",
      "对于本征态,与时间无关的表达式(对于任何可观察的)是运算符$ O $的期望值,其涉及所有坐标的积分,\n",
      "$$?O? = ?? | O | ???? | ??. (3.7)$$\n",
      "在电子结构理论中发挥核心作用的粒子密度$ n(r)$是\n",
      "由密度算子的期望值给出$ n(r)=?i = 1,Nδ(r-ri)$,\n",
      "$$ n(r)= ?? | n(r)| ?? ?? | ?? = N? d3r2···d3rN?σ1|?(r,r2,r3,...,rN)| 2? d3r1d3r2···d3rN |?(r1,r2,r3,...,rN)| 2,(3.8)$$\n",
      "因为所有电子坐标中波函数的对称性,所以具有这种形式. (如果省略σ1的总和,则每次旋转的密度都会产生.)\n",
      "总能量是哈密顿的期望值,\n",
      "$$ E = ?? | H | ?? ?? | ?? ≡?H? =?T? +?Vint? +? d3r Vext(r)n(r)+ E I I,(3.9)$$\n",
      "其中外部电位的期望值已明确写为密度函数的简单积分.\n",
      "最后一个术语$ E I I $是静电核 - 核(或离子 - 离子)相互作用,它在总能量计算中是必不可少的,但在电子结构理论中只是一个经典的附加项.\n"
     ]
    }
   ],
   "source": [
    "raw=\"\"\"\n",
    "The fundamental equation governing a non-relativistic quantum system is the timedependent Schrodinger equation,\n",
    "3.6\n",
    "where the many-body wavefunction (for the electrons) is $\u0004({ri}; t) ≡ \u0004(r1, r2, . . . , rN ; t)$, the spin is assumed to be included in the coordinate $ri$, and, of course, the wavefunction must be antisymmetric (in the coordinates of the electrons $r1, r2, . . . , rN$.\n",
    "The eigenstates of (3.6) can be written as $\u0004({ri}; t) = \u0004({ri})e−i(E/h-)t$. \n",
    "This is the basis for understanding dynamical properties in Ch20 and AppD.\n",
    "For an eigenstate, the time-independent expression (for any observable) is an expectation value of an operator $O$ , which involves an integral over all coordinates,\n",
    "$$\u0005Oˆ \u0006 = \u0005\u0004|Oˆ |\u0004\u0006\u0005\u0004|\u0004\u0006. (3.7)$$\n",
    "The density of particles $n(r)$, which plays a central role in electronic structure theory, is\n",
    "given by the expectation value of the density operator $nˆ(r) = \u0003i=1,N δ(r − ri)$,\n",
    "$$n(r) = \u0005\u0004|nˆ(r)|\u0004\u0006 \u0005\u0004|\u0004\u0006 = N \u0004 d3r2 · · · d3rN \u0003σ1 |\u0004(r, r2, r3, . . . , rN )|2 \u0004 d3r1d3r2 · · · d3rN|\u0004(r1, r2, r3, . . . , rN )|2 , (3.8)$$\n",
    "which has this form because of the symmetry of the wavefunction in all the electron coordinates. (The density for each spin results if the sum over σ1 is omitted.) \n",
    "The total energy is the expectation value of the hamiltonian,\n",
    "$$ E = \u0005\u0004|Hˆ |\u0004\u0006 \u0005\u0004|\u0004\u0006 ≡ \u0005Hˆ \u0006 = \u0005Tˆ \u0006 + \u0005Vˆint\u0006 + \u0005 d3r Vext(r)n(r) + E I I, (3.9)$$\n",
    "where the expectation value of the external potential has been explicitly written as a simple integral over the density function. \n",
    "The final term $E I I$ is the electrostatic nucleus–nucleus (or ion–ion) interaction, which is essential in the total energy calculation, but is only a classical additive term in the theory of electronic structure.\n",
    "\n",
    "\n",
    "\"\"\"\n",
    "ggtrans(raw)"
   ]
  },
  {
   "cell_type": "markdown",
   "metadata": {},
   "source": [
    "### 基态和激发态"
   ]
  },
  {
   "cell_type": "markdown",
   "metadata": {},
   "source": [
    "从解决电子的多体方程的角度来看,基态和激发态之间的区别(在Ch2中指出)同样明显.\n",
    "除特殊情况外,基态必须采用非微扰方法处理,因为能量方程中的不同项很大并且趋于抵消.\n",
    "基态的性质包括总能量,电子密度和相关函数.\n",
    "从最后一个可以得出乍看之下不会被认为是基态属性的属性,例如材料是金属还是绝缘体.\n",
    "在任何情况下,都需要确定哪个状态是基态,通常比较特征上但能量相似的状态."
   ]
  },
  {
   "cell_type": "markdown",
   "metadata": {},
   "source": [
    "另一方面,凝聚态物质中的激发通常是整个系统的小扰动.\n",
    "这些扰动可以分为地电子状态的变化(例如声子模式中离子的小位移)或真正的电子激发,例如,电子激发.光学电子激励.\n",
    "在这两种情况下,扰动理论都是合适的工具.\n",
    "使用扰动技术,可以计算激发光谱以及响应函数的实部和虚部.\n",
    "然而,即使在这种情况下,也需要知道基态,因为激励是基态的扰动."
   ]
  },
  {
   "cell_type": "markdown",
   "metadata": {},
   "source": [
    "这些方法既适用于独立粒子,也适用于多体问题.\n",
    "基态在两种情况下都是特殊的,有趣的是密度泛函理论和量子蒙特卡罗都是主要的基态方法.\n",
    "微扰理论在独立粒子和多体问题中的作用是相当不同的 - 在后者中,它在图解扰动系列问题的基本表达中起着关键作用,并提出了对适当图表求和的关键思想."
   ]
  },
  {
   "cell_type": "markdown",
   "metadata": {},
   "source": [
    "> ${}^2$这是AppA中描述的功能导数的一个例子,其中能量函数(3.9)在 bra $\\left\\langle \\Psi \\right|$ 和 ket $\\left| \\Psi \\right\\rangle$ 函数中都是线性的. \n",
    "因此,可以同时改变两者之一或同时改变两者,具有相同的结果."
   ]
  },
  {
   "cell_type": "markdown",
   "metadata": {},
   "source": [
    "1. lower case subscripts: 小写下标\n",
    "1. most informative and productive: 最具有信息性和生产力  \n",
    "1. be not germane to: 与..无关\n",
    "1. \n",
    "1. \n",
    "1.\n"
   ]
  },
  {
   "cell_type": "markdown",
   "metadata": {},
   "source": []
  },
  {
   "cell_type": "markdown",
   "metadata": {},
   "source": [
    "## 库仑在凝聚态物质中的相互作用"
   ]
  },
  {
   "cell_type": "markdown",
   "metadata": {},
   "source": []
  },
  {
   "cell_type": "markdown",
   "metadata": {},
   "source": []
  },
  {
   "cell_type": "markdown",
   "metadata": {},
   "source": []
  },
  {
   "cell_type": "markdown",
   "metadata": {},
   "source": []
  },
  {
   "cell_type": "markdown",
   "metadata": {},
   "source": []
  },
  {
   "cell_type": "markdown",
   "metadata": {},
   "source": []
  },
  {
   "cell_type": "markdown",
   "metadata": {},
   "source": []
  },
  {
   "cell_type": "markdown",
   "metadata": {},
   "source": [
    "## 力和压力定理"
   ]
  },
  {
   "cell_type": "markdown",
   "metadata": {},
   "source": []
  },
  {
   "cell_type": "markdown",
   "metadata": {},
   "source": []
  },
  {
   "cell_type": "markdown",
   "metadata": {},
   "source": []
  },
  {
   "cell_type": "markdown",
   "metadata": {},
   "source": []
  },
  {
   "cell_type": "markdown",
   "metadata": {},
   "source": []
  },
  {
   "cell_type": "markdown",
   "metadata": {},
   "source": []
  },
  {
   "cell_type": "markdown",
   "metadata": {},
   "source": []
  },
  {
   "cell_type": "markdown",
   "metadata": {},
   "source": [
    "## 统计力学和密度矩阵"
   ]
  },
  {
   "cell_type": "markdown",
   "metadata": {},
   "source": []
  },
  {
   "cell_type": "markdown",
   "metadata": {},
   "source": []
  },
  {
   "cell_type": "markdown",
   "metadata": {},
   "source": []
  },
  {
   "cell_type": "markdown",
   "metadata": {},
   "source": []
  },
  {
   "cell_type": "markdown",
   "metadata": {},
   "source": []
  },
  {
   "cell_type": "markdown",
   "metadata": {},
   "source": []
  },
  {
   "cell_type": "markdown",
   "metadata": {},
   "source": []
  },
  {
   "cell_type": "markdown",
   "metadata": {},
   "source": [
    "## 独立电子近似"
   ]
  },
  {
   "cell_type": "markdown",
   "metadata": {},
   "source": []
  },
  {
   "cell_type": "markdown",
   "metadata": {},
   "source": []
  },
  {
   "cell_type": "markdown",
   "metadata": {},
   "source": []
  },
  {
   "cell_type": "markdown",
   "metadata": {},
   "source": []
  },
  {
   "cell_type": "markdown",
   "metadata": {},
   "source": []
  },
  {
   "cell_type": "markdown",
   "metadata": {},
   "source": []
  },
  {
   "cell_type": "markdown",
   "metadata": {},
   "source": []
  },
  {
   "cell_type": "markdown",
   "metadata": {},
   "source": [
    "## 交换和关联"
   ]
  },
  {
   "cell_type": "code",
   "execution_count": 1,
   "metadata": {},
   "outputs": [],
   "source": [
    "!code plain.ldr"
   ]
  },
  {
   "cell_type": "markdown",
   "metadata": {},
   "source": []
  },
  {
   "cell_type": "markdown",
   "metadata": {},
   "source": []
  },
  {
   "cell_type": "markdown",
   "metadata": {},
   "source": []
  },
  {
   "cell_type": "markdown",
   "metadata": {},
   "source": []
  },
  {
   "cell_type": "markdown",
   "metadata": {},
   "source": []
  },
  {
   "cell_type": "markdown",
   "metadata": {},
   "source": []
  },
  {
   "cell_type": "markdown",
   "metadata": {},
   "source": []
  },
  {
   "cell_type": "markdown",
   "metadata": {},
   "source": [
    "## 微扰理论和\"2n + 1\"定理"
   ]
  },
  {
   "cell_type": "markdown",
   "metadata": {},
   "source": []
  },
  {
   "cell_type": "markdown",
   "metadata": {},
   "source": []
  },
  {
   "cell_type": "markdown",
   "metadata": {},
   "source": []
  },
  {
   "cell_type": "markdown",
   "metadata": {},
   "source": []
  },
  {
   "cell_type": "markdown",
   "metadata": {},
   "source": []
  },
  {
   "cell_type": "markdown",
   "metadata": {},
   "source": []
  },
  {
   "cell_type": "markdown",
   "metadata": {},
   "source": []
  }
 ],
 "metadata": {
  "kernelspec": {
   "display_name": "Python 3",
   "language": "python",
   "name": "python3"
  },
  "language_info": {
   "codemirror_mode": {
    "name": "ipython",
    "version": 3
   },
   "file_extension": ".py",
   "mimetype": "text/x-python",
   "name": "python",
   "nbconvert_exporter": "python",
   "pygments_lexer": "ipython3",
   "version": "3.6.5"
  },
  "toc": {
   "base_numbering": "3",
   "nav_menu": {},
   "number_sections": true,
   "sideBar": true,
   "skip_h1_title": false,
   "title_cell": "Table of Contents",
   "title_sidebar": "Contents",
   "toc_cell": false,
   "toc_position": {},
   "toc_section_display": true,
   "toc_window_display": false
  },
  "varInspector": {
   "cols": {
    "lenName": 16,
    "lenType": 16,
    "lenVar": 40
   },
   "kernels_config": {
    "python": {
     "delete_cmd_postfix": "",
     "delete_cmd_prefix": "del ",
     "library": "var_list.py",
     "varRefreshCmd": "print(var_dic_list())"
    },
    "r": {
     "delete_cmd_postfix": ") ",
     "delete_cmd_prefix": "rm(",
     "library": "var_list.r",
     "varRefreshCmd": "cat(var_dic_list()) "
    }
   },
   "types_to_exclude": [
    "module",
    "function",
    "builtin_function_or_method",
    "instance",
    "_Feature"
   ],
   "window_display": false
  }
 },
 "nbformat": 4,
 "nbformat_minor": 2
}
