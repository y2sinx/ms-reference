{
 "cells": [
  {
   "cell_type": "markdown",
   "metadata": {},
   "source": [
    "https://www.cambridge.org/core/books/electronic-structure/DDFE838DED61D7A402FDF20D735BC63A"
   ]
  },
  {
   "cell_type": "markdown",
   "metadata": {},
   "source": [
    "<font size=6 color=red> ** Part I Overview and background topics ** </font>"
   ]
  },
  {
   "cell_type": "markdown",
   "metadata": {},
   "source": [
    "# Introduction\n",
    "## Quantum theory and the origins of electronic structure   \n",
    "## Emergency of quantitative calculations  \n",
    "## The greatest challenge: electron correlation   \n",
    "## Recent development "
   ]
  },
  {
   "cell_type": "markdown",
   "metadata": {},
   "source": [
    "# Overview   \n",
    "\n",
    "## Electronic ground state: bonding and characteristic structure   \n",
    "\n",
    "## Volume or Pressure as the most fundamental variable  \n",
    "\n",
    "## Elasticity: stress-strain relations  \n",
    "\n",
    "## Magnesium and electron-electron interaction \n",
    "\n",
    "## Phones and displacive phase transitions  \n",
    "\n",
    "## Thermal properties: solids, liquid, and phase diagrams  \n",
    "\n",
    "## Atomic motion: diffusion, reaction, and catalyst \n",
    "\n",
    "## Surfaces, interfaces, and defects  \n",
    "\n",
    "## Nanomaterials: between molecules and condensed matter \n",
    "\n",
    "## Electronic excitations: bands and bands gaps  \n",
    "\n",
    "## Electronic excitations: heat capacity, conductivity, and optical spectra   \n",
    "\n",
    "## Example of MgB2: bands, phonons, and superconductivity   \n",
    "\n",
    "## The continuing challenge: electron correlation "
   ]
  },
  {
   "cell_type": "markdown",
   "metadata": {},
   "source": [
    "# Theoretical background  \n",
    "\n",
    "## Basic equations for interacting electrons and nuclei  \n",
    "\n",
    "## Coulomb interaction in condensed matter  \n",
    "\n",
    "## Force and stress theorems  \n",
    "\n",
    "## Statistical mechanics and the density matrix  \n",
    "\n",
    "## Independent-electron approximations \n",
    "\n",
    "## Exchange and correlation  \n",
    "\n",
    "## Perturbation theory and \"2n+1\" theorem  "
   ]
  },
  {
   "cell_type": "markdown",
   "metadata": {},
   "source": [
    "# Periodic solids and electron bands  \n",
    "\n",
    "## Structure of crystals: lattice + basis  \n",
    "\n",
    "## The reciprocal lattice and Brillouin zone  \n",
    "\n",
    "## Excitations and the Bloch theorem  \n",
    "\n",
    "## Time reversal and inversion symmetries  \n",
    "\n",
    "## Point symmetries  \n",
    "\n",
    "## Integration over the Brillouin zone and special points    \n",
    "\n",
    "## Density of states "
   ]
  },
  {
   "cell_type": "markdown",
   "metadata": {},
   "source": [
    "# Uniform electron gas and simple metals  \n",
    "\n",
    "## Non-interacting and Hatree-Fock approximations  \n",
    "\n",
    "## The correlation hole and energy   \n",
    "\n",
    "## Binding in sp-bonded metals  \n",
    "\n",
    "## Excitations and the Lindhard dielectic function  "
   ]
  },
  {
   "cell_type": "markdown",
   "metadata": {},
   "source": [
    "<font size=6 color=red> ** Part II Density functional theory ** </font>"
   ]
  },
  {
   "cell_type": "markdown",
   "metadata": {},
   "source": [
    "# Density functional theory: foundations    \n",
    "\n",
    "## Thomas-Fermi-Dirac approximation: example of functional   \n",
    "\n",
    "## The Hohenberg-Kone theorems \n",
    "\n",
    "## Constrained search formulation of density functional theory  \n",
    "\n",
    "## Extension of Hohenberg-Kone theorems  \n",
    "\n",
    "## Intricacies of exact density functional theory  \n",
    "\n",
    "## Difficulties in proceedings from the density "
   ]
  },
  {
   "cell_type": "markdown",
   "metadata": {},
   "source": [
    "# The Kohn-Sham ansatz    \n",
    "\n",
    "## Replacing one problem with another   \n",
    "\n",
    "## the Kohn-Sham variational equations  \n",
    "\n",
    "## $E_{xc}, V_{xc}$ and the exchange-correlation hole   \n",
    "\n",
    "## Meaning of the eigenvalues  \n",
    "\n",
    "## Intricies of exact Kohn-Sham theory    \n",
    "\n",
    "## Time-dependent density functional theory   \n",
    "\n",
    "## Other generalizations the Kohn-Sham approach   "
   ]
  },
  {
   "cell_type": "markdown",
   "metadata": {},
   "source": [
    "# Functionals for exchange and correlation \n",
    "\n",
    "## The local spin density approximation(LSDA)  \n",
    "\n",
    "## Generalized-gradient approximations(GGAs)  \n",
    "\n",
    "## LDA and GGA expressions for potential $V_{XC}^\\sigma(\\mathbf{r})$    \n",
    "\n",
    "## Non-collinear spin density  \n",
    "\n",
    "## Non-local density formulation: ADA and WDA  \n",
    "\n",
    "## Orbital-dependent functionals I: SIC and LDA+U  \n",
    "\n",
    "## Orbital-dependent functionals II: OEP and EXX  \n",
    "\n",
    "## Hybrid functionals \n",
    "\n",
    "## Tests of functionals "
   ]
  },
  {
   "cell_type": "markdown",
   "metadata": {},
   "source": [
    "# Solving Kohn-Sham equations  \n",
    "\n",
    "## Self-consistent coupled Kohn-Sham equations  \n",
    "\n",
    "## Total energy functionals  \n",
    "\n",
    "## Achieving self-consistency  \n",
    "\n",
    "## Force and stress  "
   ]
  },
  {
   "cell_type": "markdown",
   "metadata": {},
   "source": [
    "<font size=6 color=red >** Part III Important preliminaries on atoms ** </font>"
   ]
  },
  {
   "cell_type": "markdown",
   "metadata": {},
   "source": [
    "# Electronic Structure of atoms  \n",
    "\n",
    "## One-electron radial $Schr\\ddot o dinger$ equation\n",
    "\n",
    "## Independent-particle equations: spherical potentials  \n",
    "\n",
    "## Open-shell atoms: non-spherical potentials  \n",
    "\n",
    "## Relativistic Dirac equation and spin-orbit interactions   \n",
    "\n",
    "## Example of atomic states: transition elements   \n",
    "\n",
    "## Delta-SCF: electron addition, removal, and interactive energies  \n",
    "\n",
    "## Atomic sphere approximation in solids  "
   ]
  },
  {
   "cell_type": "markdown",
   "metadata": {},
   "source": [
    "# Pseudopotentials  \n",
    "\n",
    "## Scattering amplitudes and pseudopotentials   \n",
    "\n",
    "## Orthogonalized plane wave (OPWs) and pseudopotentials  \n",
    "\n",
    "## Model ion potential  \n",
    "\n",
    "## Norm-conserving pseudopotentials(NCPPs)     \n",
    "\n",
    "## Generation of l-dependent norm-conserving pseudopotentials  \n",
    "\n",
    "## Unscreening and core corrections  \n",
    "\n",
    "## Transferabiliy and hardness  \n",
    "\n",
    "## Separable pseudopotentials  operators and projectors  \n",
    "\n",
    "## Extended norm conservation: beyond the linear regime  \n",
    "\n",
    "## Ultrasoft pseudopotentials  \n",
    "\n",
    "## Projector augmented wave(PAWs): keeping the full wavefunction  \n",
    "\n",
    "## additional  topics "
   ]
  },
  {
   "cell_type": "markdown",
   "metadata": {},
   "source": [
    "<font size=6 color=red> **Part IV Determination of electronic structure: <br> the three basic methods** </font>"
   ]
  },
  {
   "cell_type": "markdown",
   "metadata": {},
   "source": [
    "# Plane waves and girds: basics  \n",
    "\n",
    "## The independent-particle Schrodinger equation in a plane wave basis  \n",
    "\n",
    "## The Bloch theorem and electron bands  \n",
    "\n",
    "## Nearly-free-electron approximation  \n",
    "\n",
    "## Form factors and structure factors  \n",
    "\n",
    "## Approximate atomic-like potentials  \n",
    "\n",
    "## Empirical pseudopotentials method(EPM)  \n",
    "\n",
    "## Calculation of density: introduction of grids  \n",
    "\n",
    "## Real-space methods  "
   ]
  },
  {
   "cell_type": "markdown",
   "metadata": {},
   "source": [
    "# Plane waves and grids: full calculations  \n",
    "\n",
    "## \"ab initio\"pseudopotential method   \n",
    "\n",
    "## Projector augmented waves(PAWs)   \n",
    "\n",
    "## Simple crystals: structure, bands, ..  \n",
    "\n",
    "## Supercells: surfaces, intersurfaces, phonons, defects \n",
    "\n",
    "## Clusters and molecules   "
   ]
  },
  {
   "cell_type": "markdown",
   "metadata": {},
   "source": [
    "# Localized orbitals: tight-binding  \n",
    "\n",
    "## Localized atom-centered orbitals   \n",
    "\n",
    "## Matrix elements with atomic orbitals  \n",
    "\n",
    "## Slater-Koster two-center approximation  \n",
    "\n",
    "## Tight-binding bandsL illustrative examples  \n",
    "\n",
    "## Square lattice and CuO2 planes   \n",
    "\n",
    "## Examples of bands: semiconductor and transition metals  \n",
    "\n",
    "## Electronic states of nanotubes  \n",
    "\n",
    "## Total energy,force,and stress in tight-binding \n",
    "\n",
    "## Transferability:non-orthogonality and environment dependence  "
   ]
  },
  {
   "cell_type": "markdown",
   "metadata": {},
   "source": [
    "# Localized orbitals: full calculations   \n",
    "\n",
    "## Solution of Kohn-Sham equations in localized bases  \n",
    "\n",
    "## Analytic basis function: gaussians  \n",
    "\n",
    "## Gaussian methods:ground state and excitation energies  \n",
    "\n",
    "## Numerical orbitals  \n",
    "\n",
    "## Localized orbitals:total energy,force,and stress  \n",
    "\n",
    "## Application of numerical local orbitals  \n",
    "\n",
    "## Green's function and recursion methods   \n",
    "\n",
    "## Mixed basis  "
   ]
  },
  {
   "cell_type": "markdown",
   "metadata": {},
   "source": [
    "# Augmented functions: APW, KKP, MTO  \n",
    "\n",
    "## Augmented plane waves(APWs) and \"muffin tins\"  \n",
    "\n",
    "## Solving APW equations: examples  \n",
    "\n",
    "## The KKR or multiple-scattering theory(MST)method  \n",
    "\n",
    "## Alloys and the coherent potential approximation(CPA)  \n",
    "\n",
    "## Muffin-tin orbitals(MTOs)    \n",
    "\n",
    "## Canonical bands \n",
    "\n",
    "## Localized \"tight-binding\" MTO and KKP formulations  \n",
    "\n",
    "## Total energy,force,and pressure in augmented methods  "
   ]
  },
  {
   "cell_type": "markdown",
   "metadata": {},
   "source": [
    "# Augmented functions: linear methods  \n",
    "\n",
    "## Energy derivative of the wavefunction: $\\psi$ and $\\dot \\psi$  \n",
    "\n",
    "## General form of linearized equations  \n",
    "\n",
    "## Linearized augmented plane waves(LAPWs)  \n",
    "\n",
    "## Applications of the LAPW method  \n",
    "\n",
    "## Linear muffin-tin orbital(LMTO) method   \n",
    "\n",
    "## \"ab initio\" tight-binding   \n",
    "\n",
    "## Applications of the LMTO method  \n",
    "\n",
    "## Beyond linear methods: NMTO  \n",
    "\n",
    "## Full potential in augmented methods "
   ]
  },
  {
   "cell_type": "markdown",
   "metadata": {},
   "source": [
    "<font size=6 color=red> ** Part V Predicting properties of matter from <br> electronic structure-recent developments** </font>"
   ]
  },
  {
   "cell_type": "markdown",
   "metadata": {},
   "source": [
    "# Quantum molecular dynamics(QMD)    \n",
    "\n",
    "## Molecular dynamics(MD): forces from the electrons\n",
    "\n",
    "## Car-Parrinello unified algorithm for electrons and inos  \n",
    "\n",
    "## Expressions for plane waves  \n",
    "\n",
    "## Alternative approaches to density functional QMD  \n",
    "\n",
    "## Non-self-consistent QMD methods  \n",
    "\n",
    "## Examples of simulations "
   ]
  },
  {
   "cell_type": "markdown",
   "metadata": {},
   "source": [
    "# Response functions: phonons, magnons  \n",
    "\n",
    "## Lattice dynamics from electronic structure theory  \n",
    "\n",
    "## The direct approach:\"frozen phonons\",magnons,...  \n",
    "\n",
    "## Phonons and density response functions  \n",
    "\n",
    "## Green's function formulation  \n",
    "\n",
    "## Variational expressions  \n",
    "\n",
    "## Periodic perturbations and phonon dispersion curves  \n",
    "\n",
    "## Dielectric response functions,effective charges,...    \n",
    "\n",
    "## Electron-phonon interactions and superconductivity  \n",
    "\n",
    "## Magnons and spin response functions  "
   ]
  },
  {
   "cell_type": "markdown",
   "metadata": {},
   "source": [
    "# Excitation spectra and optical properties \n",
    "\n",
    "## Dielectric response for non-interacting particles  \n",
    "\n",
    "## Time-dependent density functional theory and linear response  \n",
    "\n",
    "## Variational Green's function methods for dynamical linear  response  \n",
    "\n",
    "## Explicit real-time calculations  \n",
    "\n",
    "## Beyond the adiabatic local approximation  "
   ]
  },
  {
   "cell_type": "markdown",
   "metadata": {},
   "source": [
    "# Wannier functions  \n",
    "\n",
    "## Definiton and properties  \n",
    "\n",
    "## \"Maximally projected\" Wannier functions \n",
    "\n",
    "## Maximally localized Wannier functions  \n",
    "\n",
    "## Non-orthogonal localized functions  \n",
    "\n",
    "## Wannier functions for \"entangled bands\"   "
   ]
  },
  {
   "cell_type": "markdown",
   "metadata": {},
   "source": [
    "# Polarization, localization, and Berry's phases  \n",
    "\n",
    "## Polarization: the fundamental difficulty  \n",
    "\n",
    "## Geometric Berry's phase theroy  of polarization  \n",
    "\n",
    "## Relation to centers of Wannier functions \n",
    "\n",
    "## Calculation of polarization in crystals  \n",
    "\n",
    "## Localization: a rigorous measure  \n",
    "\n",
    "## Geometric Berry's phase theory of spin waves  "
   ]
  },
  {
   "cell_type": "markdown",
   "metadata": {},
   "source": [
    "# Locality and linear scaling O(N) methods  \n",
    "\n",
    "## Locality and linear scaling in many-particle quantum systems  \n",
    "\n",
    "## Building the hamiltonian  \n",
    "\n",
    "## Solution of equations: non-variational methods  \n",
    "\n",
    "## Variational density matrix methods  \n",
    "\n",
    "## Variational(generalized) Wannier function methods  \n",
    "\n",
    "## Linear-scaling self-consistent density functional calculations  \n",
    "\n",
    "## Factorized density matrix for large basis sets \n",
    "\n",
    "## Combining the methods "
   ]
  },
  {
   "cell_type": "markdown",
   "metadata": {},
   "source": [
    "# Where to find more"
   ]
  },
  {
   "cell_type": "markdown",
   "metadata": {},
   "source": [
    "## Appendix A: Functional equations  \n",
    "\n",
    "### Basic definitions and variational equations \n",
    "\n",
    "### Functionals in density functional theory including gradients "
   ]
  },
  {
   "cell_type": "markdown",
   "metadata": {},
   "source": [
    "## Appendix B: LSDA and GGA functionals  \n",
    "\n",
    "### Local spin density approximation(LSDA)  \n",
    "\n",
    "### Generalized gradient approximation(GGAs)\n",
    "\n",
    "### GGAs: explicit PBE form  "
   ]
  },
  {
   "cell_type": "markdown",
   "metadata": {},
   "source": [
    "## Appendix C: Adiabatic approximation  \n",
    "\n",
    "### General formulation  \n",
    "\n",
    "### Electron-phonon interaction "
   ]
  },
  {
   "cell_type": "markdown",
   "metadata": {},
   "source": [
    "## Appendix D: Response functional and Green's functions  \n",
    "\n",
    "### Static response functions \n",
    "\n",
    "### Response functions in self-consistent field theories  \n",
    "\n",
    "### Dynamic response and Kramers-Kroning relations \n",
    "\n",
    "### Green's functions"
   ]
  },
  {
   "cell_type": "markdown",
   "metadata": {},
   "source": [
    "## Appendix E: Dielectric functions and optical properties   \n",
    "\n",
    "### Electromagnetic waves in matter  \n",
    "\n",
    "### Conductivity and dielectric tensors  \n",
    "\n",
    "### The factorized sum rule \n",
    "\n",
    "### Scalar longitudinal dielectric\n",
    "\n",
    "### Tensor transverse dielectric functions  \n",
    "\n",
    "### Lattice contributions to dielectric response "
   ]
  },
  {
   "cell_type": "markdown",
   "metadata": {},
   "source": [
    "## Appendix F: Coulomb interactions in extended  systems  \n",
    "\n",
    "### Basic issues \n",
    "\n",
    "### Point charges in a background: Ewald sums \n",
    "\n",
    "### Smeared nuclei or ions  \n",
    "\n",
    "### Energy relative to neutral atoms  \n",
    "\n",
    "### Surface and interface dipoles  \n",
    "\n",
    "### Reducing effects of artificial image charges  "
   ]
  },
  {
   "cell_type": "markdown",
   "metadata": {},
   "source": [
    "## Appendix G: Stress from electronic structure  \n",
    "\n",
    "### Macroscopic stress and strain  \n",
    "\n",
    "### Stress from two-body pair-wise forces  \n",
    "\n",
    "### Expressions in Fourier  components  \n",
    "\n",
    "### Internal strain "
   ]
  },
  {
   "cell_type": "markdown",
   "metadata": {},
   "source": [
    "## Appendix H: Energy and stress densities  \n",
    "\n",
    "### Energy density   \n",
    "\n",
    "### Stress density   \n",
    "\n",
    "### Applications "
   ]
  },
  {
   "cell_type": "markdown",
   "metadata": {},
   "source": [
    "## Appendix I: Alternative force expressions   \n",
    "\n",
    "### Variational freedom and forces \n",
    "\n",
    "### Energy differences \n",
    "\n",
    "### Pressure \n",
    "\n",
    "### Force and stress  \n",
    "\n",
    "### Force in APW-type methods "
   ]
  },
  {
   "cell_type": "markdown",
   "metadata": {},
   "source": [
    "## Appendix J: Scattering and phase shifts   \n",
    "\n",
    "### Scattering and phase shifts for spherical  potentials  "
   ]
  },
  {
   "cell_type": "markdown",
   "metadata": {},
   "source": [
    "## Appendix K: Useful relations and formulas   \n",
    "\n",
    "### Bessel, Neumann, and Hankel functions \n",
    "\n",
    "### Spherical harmonics and Legendre polynomials  \n",
    "\n",
    "### Real spherical harmonics  \n",
    "\n",
    "### Clebsch-Cordon and Gaunt coefficients \n",
    "\n",
    "### Chebyshev polynomials  "
   ]
  },
  {
   "cell_type": "markdown",
   "metadata": {},
   "source": [
    "## Appendix L: Numerical methods   \n",
    "\n",
    "### Numerical intergration and Numerov method  \n",
    "\n",
    "### Steepest descent  \n",
    "\n",
    "### Conjugate gradient  \n",
    "\n",
    "### Quasi-Newton-Raphson methods  \n",
    "\n",
    "### Pulay DIIS full-subspace method  \n",
    "\n",
    "### Broyden Jacobian update methods   \n",
    "\n",
    "### Moments, maximum entropy, kernel polynomial method, and randon vectors  "
   ]
  },
  {
   "cell_type": "markdown",
   "metadata": {},
   "source": [
    "## Appendix M: Iterative methods in electronic structure  \n",
    "\n",
    "### Why use iterative methods  \n",
    "\n",
    "### Simple relaxation algorithms \n",
    "\n",
    "### Preconditoning  \n",
    "\n",
    "### Iterative(Krylov) subspaces  \n",
    "\n",
    "### The Lanzos algorithm and recursion  \n",
    "\n",
    "### Davidson algorithms  \n",
    "\n",
    "### Residual minimization in the subspace-RMM-DIIS\n",
    "\n",
    "### Solution by minimization of the energy functional  \n",
    "\n",
    "### Comparison/combination of method: minimization of residual or energy \n",
    "\n",
    "### Exponential projection in imaginary time   \n",
    "\n",
    "### Algorithmic complexity: transforms and sparse hamiltonians  "
   ]
  },
  {
   "cell_type": "markdown",
   "metadata": {},
   "source": [
    "## Appendix N: Code for empirical pseudopotential and tight-bonding   \n",
    "\n",
    "### Calculations of eigenvalues: modules common to all methods  \n",
    "\n",
    "### Plane wave empirical pseudopotential method(EPM)\n",
    "\n",
    "### Slater-Koster tight-binding(TB) method   \n",
    "\n",
    "### Sample input file for TBPW  \n",
    "\n",
    "### Two-center matrix elements: expressions for arbitrary angular  momentum $l$"
   ]
  },
  {
   "cell_type": "markdown",
   "metadata": {},
   "source": [
    "## Appendix O: Units and conversion factors "
   ]
  }
 ],
 "metadata": {
  "kernelspec": {
   "display_name": "Python 3",
   "language": "python",
   "name": "python3"
  },
  "language_info": {
   "codemirror_mode": {
    "name": "ipython",
    "version": 3
   },
   "file_extension": ".py",
   "mimetype": "text/x-python",
   "name": "python",
   "nbconvert_exporter": "python",
   "pygments_lexer": "ipython3",
   "version": "3.6.5"
  },
  "toc": {
   "base_numbering": 1,
   "nav_menu": {},
   "number_sections": true,
   "sideBar": true,
   "skip_h1_title": false,
   "title_cell": "Table of Contents",
   "title_sidebar": "Contents",
   "toc_cell": false,
   "toc_position": {
    "height": "calc(100% - 180px)",
    "left": "10px",
    "top": "150px",
    "width": "226px"
   },
   "toc_section_display": true,
   "toc_window_display": false
  },
  "varInspector": {
   "cols": {
    "lenName": 16,
    "lenType": 16,
    "lenVar": 40
   },
   "kernels_config": {
    "python": {
     "delete_cmd_postfix": "",
     "delete_cmd_prefix": "del ",
     "library": "var_list.py",
     "varRefreshCmd": "print(var_dic_list())"
    },
    "r": {
     "delete_cmd_postfix": ") ",
     "delete_cmd_prefix": "rm(",
     "library": "var_list.r",
     "varRefreshCmd": "cat(var_dic_list()) "
    }
   },
   "types_to_exclude": [
    "module",
    "function",
    "builtin_function_or_method",
    "instance",
    "_Feature"
   ],
   "window_display": false
  }
 },
 "nbformat": 4,
 "nbformat_minor": 2
}
