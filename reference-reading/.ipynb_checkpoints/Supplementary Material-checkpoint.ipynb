{
 "cells": [
  {
   "cell_type": "markdown",
   "metadata": {},
   "source": [
    "## 计算细节  "
   ]
  },
  {
   "cell_type": "markdown",
   "metadata": {},
   "source": [
    "**晶体模型**:   \n",
    "二元合金: 4层{100}端基表面  \n",
    "多元合金: 5层, $4\\times2$, 只有最上面的两层金属松弛;  \n",
    "**计算参数**:  \n",
    "The electronic occupation of Kohn-Sham eigenstates was smeared by the Fermi-Dirac approach with width of 0.2 eV to aid in SCF convergence for metallic systems, and all energies were extrapolated to T = 0 K. "
   ]
  },
  {
   "cell_type": "markdown",
   "metadata": {},
   "source": [
    "## 表面中间体的束缚能  "
   ]
  },
  {
   "cell_type": "markdown",
   "metadata": {},
   "source": [
    "$$\\displaystyle \\large \\Delta E_{*C_xH_yO_z} = E_{*C_xH_yO_z}/slab - (E_{slab} + xE_C +yE_H+zE_O)$$  \n",
    "The energies of C, H, and O atoms were calculated from the electronic energies of gas phase H2O, H2, and CO.   \n",
    "The reference slab is the surface with specific \\*CO coverage.  \n",
    "The electronic energy of a gas phase CO molecule was added by +0.20 eV to correct the limitation of PBE functional"
   ]
  },
  {
   "cell_type": "markdown",
   "metadata": {},
   "source": [
    "## 计算氢电极  "
   ]
  },
  {
   "cell_type": "markdown",
   "metadata": {},
   "source": []
  },
  {
   "cell_type": "markdown",
   "metadata": {},
   "source": [
    "## 气/液相分子和吸附物种的自由能  "
   ]
  },
  {
   "cell_type": "markdown",
   "metadata": {},
   "source": []
  },
  {
   "cell_type": "markdown",
   "metadata": {},
   "source": [
    "## 在反应火上图中检测CO的平衡线  "
   ]
  },
  {
   "cell_type": "markdown",
   "metadata": {},
   "source": []
  },
  {
   "cell_type": "markdown",
   "metadata": {},
   "source": [
    "## 化学吸附的**d-带模型**"
   ]
  },
  {
   "cell_type": "markdown",
   "metadata": {},
   "source": [
    "![figs1](figs1.png) \n",
    "> Figure S1. CO2在Cu(100)表面还原时的自由能路径, Cu(100)表面上的CO的初始覆盖率分别为为3/8和1/8ML"
   ]
  },
  {
   "cell_type": "markdown",
   "metadata": {},
   "source": [
    "![figs2](figs2.png)\n",
    "> Figure S2. 吸附中间体与CO共吸附于Cu(100)表面时的几何结构"
   ]
  },
  {
   "cell_type": "markdown",
   "metadata": {},
   "source": [
    "![figs3](figs3.png)\n",
    "> Figure S3. 吸附中间体和CO之间的束缚能缩放关系"
   ]
  },
  {
   "cell_type": "markdown",
   "metadata": {},
   "source": [
    "![figs4](figs4.png)\n",
    "> Figure S4. {100}-端基合金的结构"
   ]
  },
  {
   "cell_type": "markdown",
   "metadata": {},
   "source": [
    "![tabs1](tabs1.png)\n",
    "> Table S1. 对非吸附物种的电子的和自由能修正"
   ]
  },
  {
   "cell_type": "markdown",
   "metadata": {},
   "source": [
    "![tabs2](tabs2.png)\n",
    "> Table S2. 对吸附物种自由能的修正\n"
   ]
  },
  {
   "cell_type": "markdown",
   "metadata": {},
   "source": [
    "用于ML的输入特征和双金属表面的CO吸附能:  "
   ]
  }
 ],
 "metadata": {
  "kernelspec": {
   "display_name": "Python 3",
   "language": "python",
   "name": "python3"
  },
  "language_info": {
   "codemirror_mode": {
    "name": "ipython",
    "version": 3
   },
   "file_extension": ".py",
   "mimetype": "text/x-python",
   "name": "python",
   "nbconvert_exporter": "python",
   "pygments_lexer": "ipython3",
   "version": "3.6.5"
  },
  "toc": {
   "base_numbering": 1,
   "nav_menu": {},
   "number_sections": true,
   "sideBar": true,
   "skip_h1_title": false,
   "title_cell": "Table of Contents",
   "title_sidebar": "Contents",
   "toc_cell": false,
   "toc_position": {},
   "toc_section_display": true,
   "toc_window_display": false
  },
  "varInspector": {
   "cols": {
    "lenName": 16,
    "lenType": 16,
    "lenVar": 40
   },
   "kernels_config": {
    "python": {
     "delete_cmd_postfix": "",
     "delete_cmd_prefix": "del ",
     "library": "var_list.py",
     "varRefreshCmd": "print(var_dic_list())"
    },
    "r": {
     "delete_cmd_postfix": ") ",
     "delete_cmd_prefix": "rm(",
     "library": "var_list.r",
     "varRefreshCmd": "cat(var_dic_list()) "
    }
   },
   "types_to_exclude": [
    "module",
    "function",
    "builtin_function_or_method",
    "instance",
    "_Feature"
   ],
   "window_display": false
  }
 },
 "nbformat": 4,
 "nbformat_minor": 2
}
