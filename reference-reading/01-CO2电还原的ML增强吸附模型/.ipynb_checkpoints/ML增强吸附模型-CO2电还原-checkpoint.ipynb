{
 "cells": [
  {
   "cell_type": "markdown",
   "metadata": {},
   "source": [
    "![head](data/head.png)"
   ]
  },
  {
   "cell_type": "markdown",
   "metadata": {},
   "source": [
    "# 正文"
   ]
  },
  {
   "cell_type": "markdown",
   "metadata": {},
   "source": [
    "**[Machine-Learning-Augmented Chemisorption Model for CO2 Electroreduction Catalyst Screening](https://pubs.acs.org/doi/10.1021/acs.jpclett.5b01660)  \n",
    "用于$CO_2$电还原催化剂筛选的 ML增强型 化学吸附模型**"
   ]
  },
  {
   "cell_type": "markdown",
   "metadata": {},
   "source": [
    "**Abstract:**  \n",
    "\n",
    "我们提出了一种 `ML增强型` 化学吸附模型, 能够快速准确地预测金属合金表面的反应活性.  \n",
    "我们的工作表明: 通过拟合一系列的从头算吸附能和理想化双金属表面的电子指纹, 人工神经网络可捕捉吸附物( ${}^*CO$ )在多金属表面上复杂非线性的相互作用(`0.1eV 误差`), 在预测中优于 `两级交互模型`.  \n",
    "通过比较(leveraging)相似吸附质吸附能之间的大小关系(scaling relations), 这种集成方法极大地促进了催化剂的高通量筛选, 具体来说, 有望在多金属合金{100}面的端基处 提高 $CO_2$ 还原为 $C_2$ 的效率和选择性.   \n",
    "通过统计分析--`神经网络对输入特征扰动的响应`, 可以加强我们对`金属表面化学键合`的理解. "
   ]
  },
  {
   "cell_type": "markdown",
   "metadata": {},
   "source": [
    "**Bimetallic or multimetallic materials:**  \n",
    "\n",
    "具有原子级精确结构和成分的二元或多元金属材料, 在许多化学催化和电化学催化反应中具有广阔的应用前景[1-7]().  \n",
    "金属合金可以利用各金属物种之间的协同作用, 使其表面位点的理化性质具有最优异的性能.   \n",
    "但是通过高通量实验和量子化学计算搜索高度优化的合金非常耗时且成本高昂.   \n",
    "在这方面, 化学吸附的**d带理论**[8,9](), 可以将活性位点的电子特性与关键中间体的吸附能(通常称为描述符)联系起来, 为探索最佳催化剂(optimal catalyst)的特性提供了物理上的洞察力(insight), 已成为催化剂筛选的理论基础[10-12]().    \n",
    "由于d带理论中紧束缚近似[13]()的约束, 只有相对于主合金材料具有微小扰动的元素可以在一个合理的精度内直接被探索, 这限制了它的应用.  \n",
    "为了解决这个问题, 我们在这里提出了ML增强化学吸附模型, 以捕捉`吸附质和基底之间`(**质基之间**)复杂非线性的相互作用, 从而能够在大规模合金**材料空间**中应用反应描述符. "
   ]
  },
  {
   "cell_type": "markdown",
   "metadata": {},
   "source": [
    "**In this work:**  \n",
    "\n",
    "在本工作中, 将以 $CO_2$ 在金属电极上的电化学还原为例进行说明, 因为该过程可持续生产燃料和增值化学品[14−18]().  \n",
    "在过渡金属和后过渡金属中, $Cu$ 显示出对 $CO_2$ 电还原反应具有明显的活性, 主要归因于其均衡的表面反应活性(balanced surface reactivity), 既可以强烈的吸附 $CO_2$ 和表面中间体(以打破所需的化学键), 又对可以使其进一步还原为碳氢化合物或氧化物的物种是弱吸附的[19,20]().  \n",
    "众所周知, 该反应与表面金属原子的几何排列有关[21-26]().   \n",
    "例如: $Cu(111)$ 可以将 $CO_2$ 还原为 $CH_4$, 法拉第效率约为50％, 尽管要求非常高的过电势(~1.0V)[17]().   \n",
    "有趣的是, $Cu(100)$ 对 $C_2$物种($C_2 H_4, C_2 H_5 OH$) 具有特殊的选择性, 可以在较低的过电势(~0.8V)下进行[21,23,24,26]().   \n",
    "通过控制 $Cu$ 纳米粒子{100}表面端基的形状, 被证明可以有效的促进 $CO_2$ 的电还原[26]()."
   ]
  },
  {
   "cell_type": "markdown",
   "metadata": {},
   "source": [
    "**Some recent studies:**  \n",
    "\n",
    "最近, 关于 $CO/CO_2@Cu(100)$ 电还原的一些研究表明: ${}^*CO$ 的二聚化(有序的电子和质子传输)控制着 $C_2$ 路径的起始电位(onset potentials), 而到 ${}^*CO$ 所进行的同步的质子-电子转移 是 $C_1$ 途径中的关键步骤[16,22,27,28]().   \n",
    "基于此机制, 我们的目标是确定(identify)反应描述符, 以表征有效的合金电催化剂, 可以有选择地 将 $CO_2$ 转化为 $C_2$ 物种.   \n",
    "为了合适地描述具有竞争性的 $C_1$ 和 $C_2$ 在 $Cu(100)$上的能量路径, 明确考虑现实的 $CO_2$  电化学还原条件是重要的, 即在现实条件下, 要求 ${}^*CO$ 具有很高的覆盖率[29]().  \n",
    "图1显示了沿 $C_1$ 和 $C_2$ 路径相关步骤的自由能, 在相对于RHE的 0V 和 -0.7V 下通过DFT计算得到, ${}^*CO$ 的覆盖率为 3/8 ML.  \n",
    "为了比较, 在支持材料的图S1中, 亦显示了 ${}^*CO$ 覆盖率为 1/8 ML 时的自由能途径.   "
   ]
  },
  {
   "cell_type": "markdown",
   "metadata": {},
   "source": [
    "![fig1](data/fig1.png)\n",
    "> Figure 1. 在0V和-0.7V下, $CO_2$ 在 $Cu(100)$ 表面还原时最有利的自由能路径(在路径的终点分解为 $C_1$或者$C_2$), 上图显示的是中间产物的几何构型(snapshots), 其详细结构可以在Figure S2中查看;"
   ]
  },
  {
   "cell_type": "markdown",
   "metadata": {},
   "source": [
    "**Quantum ESPRESSO**[30](), 使用平面波基组和超软赝势计算电子结构的开源软件, 被用于本文的所有计算.  \n",
    "在计算质子-电子对($H^+ + e^- $)的自由能时, 使用 **CHE** 模型(计算H电极模型)[31]()来解释电极电势.  \n",
    "有关计算方法的所有细节都显示在支持信息当中, 以及能量校正(气相分子的电子能, 零点能, 熵和溶剂化效应)可以在 表S1和S2 中查到.   \n",
    "开始于 3/8ML的 ${}^*CO$ (在c(2×2)表面结构很好表征过的, 具有 1/8ML的 ${}^*CO$ 空位), ${}^*CO$ 质子化为 ${}^*CHO$ 是 ${C_1}$ 路径的决速步骤(potential limiting), 需要 `-0.9eV` 的理论起始电压(定义: 最小外加电位/applied potential, 电极被施加该电压后, 反应路径中所有的步骤都会自发进行).   "
   ]
  },
  {
   "cell_type": "code",
   "execution_count": 6,
   "metadata": {},
   "outputs": [
    {
     "name": "stdout",
     "output_type": "stream",
     "text": [
      ">>>>>>>>>>>>>>>>>>>>>>>>>>>>>>>>>>>>>>>>>>>>!kk1:active>>>>>>>>>>>>>>>>>>>>>>>>>>>>>>>>>>>>>>>>>>>>>\n"
     ]
    }
   ],
   "source": [
    "kk 1"
   ]
  },
  {
   "cell_type": "markdown",
   "metadata": {},
   "source": [
    "相比之下(红实线和绿实线的对比), C2路径(从两个相邻的 \\*CO和一个质子-电子对形成 \\*COCOH), 相比于C1需要更小的负起始电位(-0.7).   \n",
    "考虑到这种模型系统的简单性(没有明确的电场和动力学屏障), 计算出的C1/C2路径起始电位与最近的铜单晶CO2电还原实验的一致性仍然非常显著.  \n",
    "低覆盖率模型(1/8 ML \\*CO)无法捕获反应性趋势, 如图S1所示, 因此, 在调节表面反应的能量路径时, 应强调吸附物-吸附物之间的相互作用. "
   ]
  },
  {
   "cell_type": "markdown",
   "metadata": {},
   "source": [
    "![fig2](data/fig2.png)\n",
    "\n",
    "> Figure 2. 对于 CO2 电还原为 C1,C2 的反应, 极限电势的预测值与 $CO$ 吸附能(覆盖率为1/8ML)之间的关系. 几个d区过渡金属元素被标注在了图上. CO的解吸附线被放置在基元反应 $CO(g) + * → *CO$处于平衡时的状态(0.01 atm, 298.15K)."
   ]
  },
  {
   "cell_type": "markdown",
   "metadata": {},
   "source": [
    "**Using linear scaling relations:**  \n",
    "\n",
    "使用反应中间体吸附能和 \\*CO 吸附能($\\Delta E_{CO}$)之间的线性缩放关系, 我们计算了沿 C1和C2 路径关键步的理论极限电势(作为 CO 吸附能的函数), 如图2所示 .  \n",
    "试验发现, 在1/8 ML \\*CO 下, 使用 PBE 交换关联泛函 所预测的CO吸附能(-0.63 eV), 与测量值非常吻合(-0.66 eV).  \n",
    "可以观察到 C1和C2 路径的反应曲线类似于火山状图, 其中发现 Cu 接近顶部, 证明了实验的合理性, 在 CO2的电还原反应中, 过渡金属 Cu 具有最优越的特性.   \n",
    "向图的左侧移动, 会增加两种路径的过电位, 尽管更有利于C1物种的形成.   \n",
    "弱化 CO 与表面键合的强度(向图的右侧移动), 将导致 C2 路径的极限电势具有一个较低的负值, 而 从 \\*CO 到\\*CHO的热力学驱动力变化缓慢(\\*CO和\\*CHO的键合相似), 因此对 C2 产物具有更好的选择性.   \n",
    "如果一个表面(Au和Ag)过于惰性, 要么来自 \\*CO2的COOH变为潜在限制, 要么\\*CO会脱附而变为气相, 而不会进一步还原.  \n",
    "最佳催化剂应该满足CO的吸附能位于图中的阴影区域, 即: 比在Cu(100)上的极限电势弱0-0.2eV.   \n",
    "问题仍然存在, 我们应该怎么才能探索合金的无限化学空间以获取其想要的属性？ "
   ]
  },
  {
   "cell_type": "markdown",
   "metadata": {},
   "source": [
    "**To address this challenge:**  \n",
    "\n",
    "为了应对这一挑战, 已经做出了重多努力开发预测模型, 将金属位点的表面反应与其电子性质联系起来, 然后通过标准表或数据库即可预测其电子性质.   \n",
    "在这方面, 最初由 Hammer和Nørskov开发的d-带理论, 已广泛用于了解各种吸附物的在纯过渡金属及其合金表面吸附能的变化.  \n",
    "d带中心, $\\epsilon_d$, 即电子的d态投影到一个表面金属原子之上的加权平均能量, 是该理论框架中是最重要的参数.   \n",
    "如果 d带中心在能量上向上移动, 那么吸附质-金属之间的反键态也会发生上移, 可以减少对反键状态的占用, 提高键合.   \n",
    "这中简单的在金属表面上的化学键合图景, 已经被光谱技术验证.   \n",
    "许多研究表明, d带模型对过渡金属和和一小部分合金材料的表面反应进行了相当好的预测."
   ]
  },
  {
   "cell_type": "markdown",
   "metadata": {},
   "source": [
    "![fig3](data/fig3.png)\n",
    "\n",
    "> Figure 3.   \n",
    "X轴表示使用DFT在一系列的二元合金表面计算的CO吸附能, Y轴表示使用不同方法预测的吸附能;  \n",
    "内置图(insets)显示了模型的图示; a): 二级交互模型; b): ML模型;   \n",
    "为避免样本偏差, 两个模型的RMSE都是通过16个随机的样本进行计算的;  "
   ]
  },
  {
   "cell_type": "markdown",
   "metadata": {},
   "source": [
    "**Still in pursuit:  **\n",
    "\n",
    "仍在进行的追求是开发一个全面的化学吸附模型, 用以描述合金的表面反应, 使模型适应于更大的化学空间.  \n",
    "图3a给出了寻找更先进的模型的理由: 与DFT自洽计算相比, 在d带理论框架内使用两级交互模型预测CO的吸附能, 显示出较大的偏差(均方根误差~0.3eV).  \n",
    "在该模型中, 我们考虑了金属 d-态与 $*CO$ 两个归一共振轨道($5\\sigma, 2\\pi^* $)之间的杂化(将气相分子轨道转变成均匀的电子气).   \n",
    "$5\\sigma, 2\\pi^* $ 的能级(相对于费米能级)分别在-7.25eV, 1.32eV, 结果直接提取于CO@Al(100)的投影态密度(类似于过渡金属价电子sp成分).  \n",
    "随机选取约250个模型当中的90%, 用作交互模型的训练集, 剩余的10%用于测试集. 交互模型实则是确定`清洁表面的d-带中心`同 `CO的吸附能量`之间关系的**线性最小二乘回归**.    \n",
    "重新选取测试集和训练集, 计算RMSE的平均值(误差的波动范围)大概为~0.3 eV, 比图2中的能量窗口(0.2eV)要大, 因此该模型并不是一个可应用的模型."
   ]
  },
  {
   "cell_type": "markdown",
   "metadata": {},
   "source": [
    "**Motivated by:**  \n",
    "\n",
    "受不断增长的材料特性数据库的启发, 我们使用机器学习(ML)方法来进行问题映射(转换), 使用统计学模型解决复杂的物理交互(作用).  \n",
    "ML最重要的成分是每个学习例子的数字表示, 这些例子反映了特定应用模型的先验知识.   \n",
    "受 d-band 化学吸附理论的启发, 我们使用清洁表面的电子性质, 即d-态分布的特征, 包括`filling`(相对于费米能级的**零阶矩**), `center`(一阶矩), width(第二个中心力矩的平方根), 偏度(第三标准力矩)和峰度(第四标准力矩), `定域鲍林电负性`(主要由离域的sp-态决定.  \n",
    "与主体金属有关物理常数, 如金属d轨道的空间范围, 质金原子间的d耦合矩阵元平方, 功函数, 原子半径, 电离势, 电子亲和力和`鲍林电负性`作为二次因素(**两个电负性有什么区别?**), 以更好地描述在一系列金属表面上化学键合的趋势.   \n",
    "合金表面的特征所有输入及其相应的CO吸附能量都包括在表S3中.   \n",
    "这些属性构成了每个学习样本的唯一指纹.  \n",
    "理想情况下, 这个矢量可以通过紧束缚理论估算, 但在本工作中, 我们将这些属性作为几何结构优化过程的\"副产品\"."
   ]
  },
  {
   "cell_type": "markdown",
   "metadata": {},
   "source": [
    "**Using a feedforward ANN model:**  \n",
    "使用开源软件PyBrain中的前馈人工神经网络(ANN)模型, 我们试图构建指纹矢量和输出目标(CO的吸附能)之间的非线性映射.  \n",
    "该软件已成功用于众多材料性质的预测.  \n",
    "该网络包含一系列的层, 每一层都包含一系列的神经元作为处理单元.  \n",
    "在一个给定层上, 每个神经元从先前层的神经元接收一些列带权重的输入, 并且通过一个激发函数(对隐藏层是一个`sigmoid`函数, 对输出层是一个线性函数)处理这些累积输入然后产生输出.  \n",
    "随着该数据集通过网络不断进行处理, 与不同神经元相关的权重会通过梯度下降优化算法不断进行调整, 直到结果收敛.  \n",
    "该初始过程是网络的训练过程, 此时, 机器会尽可能的对每个数据进行准确的预测.  \n",
    "执行输入特征的标准化可以使神经网络具有更好的性能.  \n",
    "在训练期间, 使用**10倍交叉验证**(重复随机化数据选择)以确定网络结构(例如,隐藏层的数量和神经元的数量)并评估网络性能.  \n",
    "以上过程通常应用于人工神经网络, 目的是避免抽样偏差和过度的误差估计(过拟合).   \n",
    "如图3的插图所示, 该神经网络配置了两个隐藏层, 分别有5个和2个神经元, 此时的模型可以给出最小的预测误差(~0.1eV), 相比于二级交互模型(~0.3eV)显示出巨大的优异性. **两个值具有可比性么?**"
   ]
  },
  {
   "cell_type": "markdown",
   "metadata": {},
   "source": [
    "![fig4](data/fig4.png)"
   ]
  },
  {
   "cell_type": "markdown",
   "metadata": {},
   "source": [
    "> Figure 4.   \n",
    "(a)使用神经网络模型筛选CO在二代核-壳合金表面($Cu_3B-A@Cu_{ML}$)的吸附能;   \n",
    "(b)奇偶图(横纵坐标的数值含义相同), 横坐标数值来源于DFT计算, 纵坐标的数值来源于ML预测, 数值都表示CO在所选Cu单层合金上的吸附能量.  \n",
    "合金$Cu_3Y-Ni@Cu_{ML}$ 和 $Cu_3Sc-Ni@Cu_{ML}$, 被鉴定为具有所需的CO吸附能量.   \n",
    "图b中的插图显示了模型系统的几何结构.   \n",
    "**第四种结构 $Cu_3B-A@Cu_{ML}$ 并没有使用DFT计算其吸附能, 而只使用了ML模型预测了吸附能?**"
   ]
  },
  {
   "cell_type": "markdown",
   "metadata": {},
   "source": [
    "**To assess the applicability of the model:**  \n",
    "\n",
    "为了评估该模型在实际催化剂设计中的适用性, 我们将所有二元金属(前三种结构)的数据用作神经网络模型的训练集([Table S3. 没有第四种结构的数据]()), 用于预测CO在第四种结构的吸附能, 第四种结构是一种核壳结构的铜基合金($Cu_3B-A@Cu_{ML}$), 它具有单层Cu原子沉积在合金表面上(具有特定原子比(例如$Cu_3B$), 另一层客体金属A作为它们之间的缓冲区.   \n",
    "这种合金由于具有调节主体金属反应性能的潜在效用(应变和配体效应), 在催化剂设计中显示出巨大的灵活性, 已被广泛应用于许多电子化学反应, 如PEM燃料电池的氧还原反应.   \n",
    "正如在图四所显示的, 许多合金在预测中显示为满足束缚能条件(弱于$CO@Cu100$吸附能0-0.2eV).   \n",
    "使用ML模型预测CO的吸附能, 该工作只需极少的CPU时间, 而如果使用标准的DFT计算, 在100个电脑也将会花费数周.  \n",
    "为了进一步验证模型的预测性能(有效性), 此类合金的少部分样本也使用了DFT进行计算.   \n",
    "为此选择了两类结构进行验证, $Cu_3B-Ni@Cu_{ML} 和 $Cu_3 B-Rh@Cu_{ML}(A为Ni或Rh, B为任意元素), 因为这种选取方式可以使CO吸附能具有一个较大的范围.   \n",
    "图4b显示了神经网络预测与非常好的自洽DFT计算的所得到的CO吸附能量是一致的(RMSE为0.13eV)."
   ]
  },
  {
   "cell_type": "markdown",
   "metadata": {},
   "source": [
    "**To further shed light on underlying factors governing the dsorbate−substrate interactions:**   \n",
    "\n",
    "进一步阐明控制吸附质-基底之间的相互作用, 使用\"微扰\"方法对神经网络执行灵敏度分析.  \n",
    "对输入特征i和主金属M的归一化灵敏度系数($NSC_i^M$):\n",
    "$$NSC_i^M = \\frac{1}{m}\\sum_{j=1}^{m} \\bigg|\\frac{\\partial \\Delta E_j}{\\partial z^i_j}\\bigg| \\cdot \\frac{ max(z^i) - min(z^i) }{ max(\\Delta E) - min(\\Delta E) }$$  \n",
    "\n",
    "其中 $z_j^i$ 表示样本 j 的输入特征 i , 其扰动高达 +25％, $\\Delta E_j$ 是 CO 在样本 j 上的吸附能量,  m 是M-基合金子集中的样本数.   \n",
    "为了能够直接在方程1中比较这些输入特征, 其使用了一个额外的比例因子来归一化输出, 并且考虑了不同尺度的输入特征.[59]()  \n",
    "NSC指明了在化学键合中的每个特征的统计重要性.  \n",
    "对于每个主要特征i和主金属M的的结果显示在图5当中.  "
   ]
  },
  {
   "cell_type": "markdown",
   "metadata": {},
   "source": [
    "![fig5](data/fig5.png)\n",
    "\n",
    "> Figure 5.   \n",
    "通过神经网络对输入特征的微扰相应, 计算而得的归一化灵敏度系数.  \n",
    "d-带 filling 并没有在此分析, 因为对于给定类型的合金它几乎不变.  "
   ]
  },
  {
   "cell_type": "markdown",
   "metadata": {},
   "source": [
    "我们可以看到:  \n",
    "1. 对于所有金属合金, d带中心在d-带理论中起着相对重要的作用;  \n",
    "2. 由d-态分布高阶矩表征的d带形状, 相比于其他的金属(Ni, Pd和Pt), 对铸造金属合金(Cu,Ag和Au)具有更高的重要性. \n",
    "3. 局部泡利电负性表明质-金键合距离(原子间耦合强度)比我们之前认为的起着更重要的作用, 对于铸造金属合金来说尤其如此(在 d-带 被完全占用而 sp-带相互作用占主导地位).   \n",
    "\n",
    "这强烈暗示, 在两级交互模型中缺失的d-带形状(d-带的高阶矩)和sp-带特性(局部Pauli电负性), 在广泛的化学空间内, 对于捕获过渡金属合金表面反应性至关重要.   \n",
    "该灵敏度分析不应该被用来削弱 d带中心在捕获化学结合趋势中的重要性.  \n",
    "我们认为 d-带中心可以通过应变和配体工程轻松调整, 而其他的因素(例如,局部的泡利电负性)在整个元素周期表中的变化很轻微."
   ]
  },
  {
   "cell_type": "markdown",
   "metadata": {},
   "source": [
    "**In conclusion:**  \n",
    "\n",
    "我们使用人工神经网络和一组从头计算, 开发了机器学习-增强化学吸附模型, 用以捕捉复杂非线性的吸附质-底物相互作用.  \n",
    "基于该模型以及已发展完善的使用描述符的催化剂设计方法, 我们已经确定了有希望的{100}-端的Cu多元合金, 具有较低过电位且可能更高的选择性(CO2电还原为C2物种).   \n",
    "通过`神经网络对输入特征微扰响应`的统计分析, 将会巩固我们对金属表面化学键合的理解.   \n",
    "该研究开辟了基于催化剂设计的复杂性(例如几何结构和组成,促进剂和毒化,缺陷和纳米效应)设计金属基催化剂的新方法."
   ]
  },
  {
   "cell_type": "markdown",
   "metadata": {},
   "source": [
    "**参考文献**:  "
   ]
  },
  {
   "cell_type": "markdown",
   "metadata": {},
   "source": [
    "# 补充材料"
   ]
  },
  {
   "cell_type": "markdown",
   "metadata": {},
   "source": [
    "## 计算细节  "
   ]
  },
  {
   "cell_type": "markdown",
   "metadata": {},
   "source": [
    "**晶体模型**:   \n",
    "二元合金: 4层{100}端基表面  \n",
    "多元合金: 5层, $4\\times2$, 只有最上面的两层金属松弛;  \n",
    "**计算参数**:  \n",
    "The electronic occupation of Kohn-Sham eigenstates was smeared by the Fermi-Dirac approach with width of 0.2 eV to aid in SCF convergence for metallic systems, and all energies were extrapolated to T = 0 K. "
   ]
  },
  {
   "cell_type": "markdown",
   "metadata": {},
   "source": [
    "## 表面中间体的束缚能  "
   ]
  },
  {
   "cell_type": "markdown",
   "metadata": {},
   "source": [
    "$$\\displaystyle \\large \\Delta E_{*C_xH_yO_z} = E_{*C_xH_yO_z}/slab - (E_{slab} + xE_C +yE_H+zE_O)$$  \n",
    "The energies of C, H, and O atoms were calculated from the electronic energies of gas phase H2O, H2, and CO.   \n",
    "The reference slab is the surface with specific \\*CO coverage.  \n",
    "The electronic energy of a gas phase CO molecule was added by +0.20 eV to correct the limitation of PBE functional"
   ]
  },
  {
   "cell_type": "markdown",
   "metadata": {},
   "source": [
    "## 计算氢电极  "
   ]
  },
  {
   "cell_type": "markdown",
   "metadata": {},
   "source": [
    "一个反应路径的理论起始电势被定义为: 全路径的最负极限电势(the most negative limiting potential)."
   ]
  },
  {
   "cell_type": "markdown",
   "metadata": {},
   "source": [
    "## 气/液相共存分子和吸附物种的能量修正"
   ]
  },
  {
   "cell_type": "markdown",
   "metadata": {},
   "source": [
    "对于 gas/liquid 共存相分子: $$ G = E_{DFT} + E_{corr} + ZPE - TS +E_{liquid} $$  \n",
    "\n",
    "Table S1. 对非吸附物种的自由能修正:  \n",
    "$E_{corr}$: CO和CO2的电子能量修正, 用于[调节PBE泛函的误差](How Copper Catalyzes the Electroreduction of Carbon Dioxide into Hydrocarbon Fuels).  \n",
    ">![tabs1](data/tabs1.png)\n",
    "\n",
    "对于表面中间体: $$ G = E_{DFT} + ZPE - TS +E_{sol} $$  \n",
    "\n",
    "Table S2. 对吸附物种自由能的修正:  \n",
    "零点能和熵修正选自文献或者振动分析;  \n",
    "[溶剂化修正](Theoretical Considerations on the Electroreduction of CO to C2 Species on Cu_100\n",
    "Electrodes)\n",
    "> ![tabs2](data\\tabs2.png)"
   ]
  },
  {
   "cell_type": "markdown",
   "metadata": {},
   "source": [
    "## 在反应火山图中检测CO的平衡线  "
   ]
  },
  {
   "cell_type": "markdown",
   "metadata": {},
   "source": [
    "从Table S1, S2的到的自由能修正是0.48而不是0.38?"
   ]
  },
  {
   "cell_type": "code",
   "execution_count": 2,
   "metadata": {},
   "outputs": [
    {
     "data": {
      "text/plain": [
       "0.48"
      ]
     },
     "execution_count": 2,
     "metadata": {},
     "output_type": "execute_result"
    }
   ],
   "source": [
    "# 从S1和S2得自由能修正: \n",
    "\n",
    "dZPE = 0.18-0.15\n",
    "TdS = 0.16-0.61\n",
    "dZPE -TdS"
   ]
  },
  {
   "cell_type": "markdown",
   "metadata": {},
   "source": [
    "求解CO脱附时的吸附能: -0.43 eV"
   ]
  },
  {
   "cell_type": "markdown",
   "metadata": {},
   "source": [
    "## 化学吸附的 d-带模型"
   ]
  },
  {
   "cell_type": "markdown",
   "metadata": {},
   "source": [
    "在d-带模型中, 吸附质和金属表面的交互作用被分成了两步.  \n",
    "吸附质首先与局域的sp-电子交互, 将会导致吸附共振态(adsorbate resonance states)的形成.  \n",
    "在随后的步骤, 这些吸附共振态进一步与d-态(centered at the average energy of the d-band of the surface atoms)交互, 形成成键和反键轨道.  \n",
    "因此总的吸附能可以写作: $\\Delta E = \\Delta E_{sp} + \\Delta E_{d}$  \n",
    "上式中第一项, 吸附质价层轨道(类似于自由电子的sp-态)的交互能, 对于不同的过渡金属和合金可以看做是常数项.  \n",
    "这意味着$\\Delta E$的主要来自于吸附质共振态与基底d-带的交互作用.  \n",
    "\n",
    "对于CO在金属表面的吸附, 占据态的 5$\\sigma$ 和非占据的 2$\\pi*$ 轨道参与该过程.  \n",
    "使用紧束缚近似, 5$\\sigma$ 和 2$\\pi*$ 轨道与金属表面d-带的共振交互可以使用如下的方式描述:  "
   ]
  },
  {
   "cell_type": "markdown",
   "metadata": {},
   "source": [
    "$$\\large \\displaystyle \\Delta E_d \\approx \\displaystyle 4 \\bigg[ f \\frac{ V^2_{2 \\pi^*} }{| \\varepsilon_{2\\pi^*} - \\varepsilon_d |} + f S_{2 \\pi^*} V_{2 \\pi^*} \\bigg] -2 \\bigg[ (1-f) \\frac{ V^2_{5 \\sigma} }{| \\varepsilon_{5\\sigma} - \\sigma_d |} + (1+f) S_{5\\sigma} V_{5 \\sigma} \\bigg]$$\n",
    "\n",
    "每个括号中的第一项表示 金属d-态和吸附质轨道之间的共价吸引, 第二项表示当两个电子云结合在一起时的Pauli排斥.  \n",
    "括号之前的系数是对应吸附质轨道的简并度.  \n",
    "f, $\\varepsilon_d$ 是d-带投影到表面金属原子之上时的填充因子和中心;  \n",
    "$\\varepsilon_{5\\sigma}, \\varepsilon_{2\\pi^*}$ 是归一化吸附质共振态的能级(形成于与宽广近自由电子基底sp-带的交互).   \n",
    "为了计算这些能级, 我们在CO@Al(100)模型上执行了DFT计算.  \n",
    "之所以选择Al, 是因为它没有d电子, 它的态密度分布是宽广其无特殊性的(broad and featureless), 类似于过渡金属sp-带.  \n",
    "成占据态的 $5\\sigma$中心在费米能级之下-7.25 eV附近, 成未占据态的 $2\\pi^*$ 态在费米能级之上 1.32eV.  \n",
    "S和V是重叠积分和耦合矩阵元, 用于描述**吸附质轨道和金属d-轨道**之间的相互作用.    \n",
    "基于轨道的对称性, $V_{5\\sigma}$ 可以近似为 1.3 $V_{2\\pi^*}$.  \n",
    "更进一步说, 我们认为耦合矩阵元V与重叠积分S成线性关系, $S = \\alpha V$, $\\alpha$是依赖于吸附质的参数, 与耦合轨道的排斥作用有关.  我们将 $\\alpha$作为一个拟合参数.  \n",
    "\n",
    "为了获得V的绝对值, V是原子间的耦合矩阵元, 用于捕获金属d-轨道和吸附质轨道之间的杂化, 我们使用关系: $V^2_{2\\pi^*}=\\beta V^2_{ad}$.  \n",
    "其中, $V^2_{ad}$是相对耦合矩阵元, 是金属的一个特性.   \n",
    "$V_{ad}$可以通过LMTO(linear muffin tin orbital)框架求解. [我们使用标准表中的数据](Harrison, W. A. Electronic Structure and the Properties of Solids: The Physics of the Chemical Bond; Dover Publications,1989.).  "
   ]
  },
  {
   "cell_type": "markdown",
   "metadata": {},
   "source": [
    "## Figures"
   ]
  },
  {
   "cell_type": "markdown",
   "metadata": {},
   "source": [
    "![figs1](data/figs1.png) \n",
    "> Figure S1. CO2在Cu(100)表面还原时的自由能路径, Cu(100)表面上的CO的初始覆盖率分别为为3/8和1/8ML"
   ]
  },
  {
   "cell_type": "markdown",
   "metadata": {},
   "source": [
    "![figs2](data/figs2.png)\n",
    "> Figure S2. 吸附中间体与CO共吸附于Cu(100)表面时的几何结构"
   ]
  },
  {
   "cell_type": "markdown",
   "metadata": {},
   "source": [
    "![figs3](data/figs3.png)\n",
    "> Figure S3. 吸附中间体和CO之间的**束缚能缩放关系**??"
   ]
  },
  {
   "cell_type": "markdown",
   "metadata": {},
   "source": [
    "![figs4](data/figs4.png)  \n",
    "> Figure S4. {100}-端基合金的结构:  \n",
    "(a): B@A, (b): AB@A, (c): A3B@A, (4): Cu3B-A@CuML.    \n",
    "B@A:  VIII and IB metals (Cu, Ag, Au, Ni, Pd, and Pt).  "
   ]
  },
  {
   "cell_type": "markdown",
   "metadata": {},
   "source": [
    "Table 3. 用于ML的输入特征和双金属表面的CO吸附能:  \n",
    "> ![tabs3](data/tabs3.png)"
   ]
  },
  {
   "cell_type": "markdown",
   "metadata": {},
   "source": [
    "* $\\Delta E_{*CO}$: Binding energy of adsorbed CO on a metal surface \n",
    "* $f$: Filling of a d-band \n",
    "* $\\varepsilon_d$: Center of a d-band \n",
    "* $W_d$: Width of a d-band \n",
    "* $\\gamma_1$: Skewness of a d-band \n",
    "* $\\gamma_1$: Kurtosis of a d-band \n",
    "* W: Work function \n",
    "* $r_0$: Atomic radius \n",
    "* $r_d$: Spatial extent of d-orbitals \n",
    "* IE: Ionization potential \n",
    "* EA: Electron affinity \n",
    "* $\\chi_0$: Pauling electronegativity \n",
    "* $\\chi$: Local Pauling electronegativity \n",
    "* $V^2_{ad}$: Adsorbate-metal interatomic d coupling matrix element squared15 "
   ]
  },
  {
   "cell_type": "markdown",
   "metadata": {},
   "source": [
    "参考文献"
   ]
  },
  {
   "cell_type": "markdown",
   "metadata": {},
   "source": [
    "# 附录"
   ]
  },
  {
   "cell_type": "markdown",
   "metadata": {},
   "source": [
    "**词汇表:**  "
   ]
  },
  {
   "cell_type": "markdown",
   "metadata": {},
   "source": [
    "1. leveraging: 杠杆 -> 比较  \n",
    "1. scaling relations: 大小关系    \n",
    "1. as a specific case(specifically): 具体来说  \n",
    "1. underpin: 加强...的基础  \n",
    "1. perturbation: 泼特北深  \n",
    "1. alloy materials space: 是一个具有上下文环境的名词短语, 上文中说由于紧束缚近似的限制, d带理论只能使用于少部分元素, 但是作者使用了机器学习的方法之后, 可以使合金具有更大的`材料空间`, 也就是可以在合金中使用d带理论探索更多的元素;  \n",
    "1. ANNs: artificial neural networks  \n",
    "1. hydrocarbons: 碳水化合物  \n",
    "1. oxygenates: 氧化物  \n",
    "1. geometric arrangement of surface metal atoms: 表面金属原子的几何排列  \n",
    "1. CHE: computational hydrogen electrode model  \n",
    "1. exergonic: /爱咳涩 高内咳/, 放出能量的  \n",
    "1. protonation: 质子化即加 H 的过程, 如 the protonation of \\*CO to \\*CHO  \n",
    "1. potential limiting/limiting potentials: 极限电势, 决速步骤  \n",
    "1. linear scaling relations: 线性尺度关系, 文献[36](Scaling Properties of Adsorption Energies for Hydrogen-Containing Molecules).  \n",
    "1. justifying the experimental observation of ..: 证明了试验的合理性  \n",
    "1. has less negative onset potential(-0.7V): 具有较低的负起始电位(-0.7V), 势垒为0.7V, 外加电压(起始电位)就需要-0.7V.  \n",
    "1. less negative: 较低的负值  \n",
    "1. either.. or..: 不是..就是, 两者中的一个\n",
    "1. developed by sb: 由谁开发, 不要一味的翻译成发展\n",
    "1. RMSE: root-mean-square error, 根均方误差, $\\displaystyle \\mathrm{RMSE} = \\sqrt{\\frac{\\sum_{t=1}^{T}{(\\hat{y}_t-y_t)}^2}{T}}$\n",
    "1. A justification for: 为..的理由\n",
    "1. ever-growing: 不断增长的\n",
    "1. prior knowledge: 先验知识\n",
    "1. skewness:  [sk'ju:nes], 偏斜\n",
    "1. kurtosis: [kɜ:'toʊsɪs], 峭度, 值越大分布曲线越陡峭"
   ]
  },
  {
   "cell_type": "code",
   "execution_count": 5,
   "metadata": {},
   "outputs": [
    {
     "name": "stdout",
     "output_type": "stream",
     "text": [
      "$$$$$$$$$$$$$$$$$$$$$$$$$$$$$$$$$$$$$$$$$$$$$!kk2:end>$$$$$$$$$$$$$$$$$$$$$$$$$$$$$$$$$$$$$$$$$$$$$$\n"
     ]
    }
   ],
   "source": [
    "kk 2"
   ]
  }
 ],
 "metadata": {
  "kernelspec": {
   "display_name": "Python 3",
   "language": "python",
   "name": "python3"
  },
  "language_info": {
   "codemirror_mode": {
    "name": "ipython",
    "version": 3
   },
   "file_extension": ".py",
   "mimetype": "text/x-python",
   "name": "python",
   "nbconvert_exporter": "python",
   "pygments_lexer": "ipython3",
   "version": "3.6.5"
  },
  "toc": {
   "base_numbering": 1,
   "nav_menu": {},
   "number_sections": true,
   "sideBar": true,
   "skip_h1_title": false,
   "title_cell": "Table of Contents",
   "title_sidebar": "Contents",
   "toc_cell": false,
   "toc_position": {},
   "toc_section_display": true,
   "toc_window_display": false
  },
  "varInspector": {
   "cols": {
    "lenName": 16,
    "lenType": 16,
    "lenVar": 40
   },
   "kernels_config": {
    "python": {
     "delete_cmd_postfix": "",
     "delete_cmd_prefix": "del ",
     "library": "var_list.py",
     "varRefreshCmd": "print(var_dic_list())"
    },
    "r": {
     "delete_cmd_postfix": ") ",
     "delete_cmd_prefix": "rm(",
     "library": "var_list.r",
     "varRefreshCmd": "cat(var_dic_list()) "
    }
   },
   "types_to_exclude": [
    "module",
    "function",
    "builtin_function_or_method",
    "instance",
    "_Feature"
   ],
   "window_display": false
  }
 },
 "nbformat": 4,
 "nbformat_minor": 2
}
