{
 "cells": [
  {
   "cell_type": "markdown",
   "metadata": {},
   "source": [
    "**过渡金属表面含氢分子吸附能的比例性质**"
   ]
  },
  {
   "cell_type": "markdown",
   "metadata": {},
   "source": [
    "![36_head](data/36_head.png)"
   ]
  },
  {
   "cell_type": "markdown",
   "metadata": {},
   "source": [
    "**摘要**:  \n",
    "我们使用密度泛函理论计算了一系列吸附质($ NH_x,x=0,1,2,3 $, $ NH_x,x=0,1,2 $, $ OH_x,x=0,1 $, $SH_x,x=0,1$ )在一系列过渡金属表面上(密堆积和阶梯式)的吸附.    \n",
    "我们发现, 上述分子的吸附能大致与中心原子(C, N, O或S)的吸附能成比例, 其比例系数仅取决于x.  \n",
    "为了理解这种行为, 我们提出了一个模型, 该模型可称之为**比例模型**(scaling model, 缩放模型?), 我们将该模型开发成一个通用框架, 可用于估算加氢和脱氢反应的反应能. "
   ]
  },
  {
   "cell_type": "markdown",
   "metadata": {},
   "source": [
    "**The formation of a bond :**  \n",
    "在一些过程中, 分子和金属表面之间的成键是一个重要的现象, 例如, 多相催化[1], 分子电子学中的接触形成[2], 生物分子在固体传感器上的锚定, 及其其他生物医学应用[3]. 吸附能是描述分子与表面相互作用强度的关键物理量. 吸附能量可以通过先进的表面科学技术进行测量[4-6]. 此外, DFT 提供了在合理精度内计算吸附能的可能性[7-11]. 实验和DFT计算只对有限数量的体系来说可行, 它们很难在所有可能感兴趣的吸附体系中详细地执行. 因此需要一个更简单的模型, 可以在第一次筛选有趣体系时估计键能.  一个成功的模型也会揭露`质-表`(吸附质-表面)键合强度的决定因素. 在本快报(letter)中, 我们将开发这一种含氢分子的模型.  我们使用DFT计算来推出在吸附能之间的一系列相关性, 然后提出一个模型解释他们. 该模型显示了吸附物价带(电子), 以及表面d电子的性质, 如何决定吸附能.  我们进一步将比例模型发展成一种估算方法, 用于计算有机分子在过渡金属表面上的氢化或脱氢反应的反应能.  该模型相对于完全DFT计算进行了测试, 对于关于碳氢化合物, 醇类, 硫醇(thiols)和氨基酸的反应."
   ]
  },
  {
   "cell_type": "markdown",
   "metadata": {},
   "source": [
    "**First, we present results of extensive DFT calculations:**    \n",
    "首先, 我们展示了一系列( extensive, 广范的) DFT 吸附能计算的结果. 该研究-涉及的密堆表面包括: fcc(111), fcc(100), hcp(0001) 和 bcc(110), 阶梯式表面包括: fcc(211)和bcc(210). 每个密堆面由 $2\\times 2$表面单胞建模, 而阶梯式表面使用 $1\\times2$ 的表面单胞. 在垂直于紧密堆积的方向上, 每块板的厚度为3层表面.  这些厚度足以捕捉在化学吸附能量学中趋势.  在所有构型中, 允许吸附质和最顶层中完全放松, 由于 Fe, Ni 和 Co 的参与, 考虑了自旋极化.  不同物种的结合能选用表面上的最稳吸附位点. 使用广义梯度近似中的 RPBE 泛函[12] 描述交换-相关效应.  计算方法和设置与参考文献[13]中描述的一致."
   ]
  },
  {
   "cell_type": "markdown",
   "metadata": {},
   "source": [
    "![36_fig1](data/36_fig1.png)\n",
    "\n",
    "> Fig 1: 中间体的吸附能-中心原子的的吸附能;   \n",
    "$CH_x$: 交叉点: x=1; 圆: x=2; 三角形: x=3. $NH_X$: 圆: x=1; 三角形: x=2. $OH_x$ 和 $SH_x$: x=1.  \n",
    "黑线表示密堆面(`fcc(111)或者hcp(0001)`), 红色表示阶梯状面(`fcc(211)或bcc(210)`), $OH_x$ 还包含了`fcc(100)`面, 蓝色."
   ]
  },
  {
   "cell_type": "markdown",
   "metadata": {},
   "source": [
    "**Figure 1 summarizes the results of**:    \n",
    "图1 总结了DFT计算的结果.  我们发现所有分子的吸附能 $AH_x$ 都与 原子 A 的吸附能线性相关:    \n",
    "\\begin{equation}\n",
    "\\Delta E^{AH_x} = \\gamma \\Delta E^A + \\xi \\tag{1}\n",
    "\\end{equation} \n",
    "\n",
    "线性关系周围有一些散点, 但是我们注意得到, 尽管吸附能的变化范围有几个电子伏特(那么大), 但是(离散点的)平均绝对误差(MAE)只有 0.13eV. 一些散点与--因为吸附质有不同数量的氢所以吸附位点存在差异--有关. 例如, $CH_3$, 通常位于密堆面的单重吸附位点, 而 C 通常位于三重吸附位点.  如果我们使用 C 的单重吸附位点作为参考, 相关性的质量将会变得更好(MAE 0:06eV); 见图2. 我们还发现, 当我们将所有分子的吸附构型统一时(使$AH_x$具有相同的吸附位点), 线性模型可以适用于合金(与元素金属具有相同的精度)."
   ]
  },
  {
   "cell_type": "markdown",
   "metadata": {},
   "source": [
    "**The main observation from Figs.1 and 2**:    \n",
    "对图1和图2的主要观察是公式1中线性关系的斜率 $\\gamma$ 可以通过 $AH_x$ 的 H 原子数 $x$ 近似, 即 $ \\displaystyle \\gamma(x) = \\frac{x_{max}-x}{x_{max}} $, 其中 H的最大原子数 $x_{max}$, 等于中心原子 A 的最大成键数, $A=C,\\,x_{max}=4$, $A=N,\\, x_{max}=3$, $A=O,S,\\, x_{max}=2$. 因为 $x_{max}-x$ 是分子 $AH_x$ 的价电子数, 我们可以得出结论: 对于上述四种目标分子族, 线性关系的斜率取决于吸附质的价电子数(化合价). 在后面的讨论中我们将要考虑一个模型, 可以使我们理解这种效应的起源."
   ]
  },
  {
   "cell_type": "markdown",
   "metadata": {},
   "source": [
    "![36_fig2](data/36_fig2.png)\n",
    "\n",
    "> Fig 2: CH3 的束缚能-C原子的束缚能(稳定 + on-top).  \n",
    "三角: C原子为与最稳吸附位; 方形: CH3 和 C 原子都固定在 on-top 位.  \n",
    "该图想要说明`整体线性行为与吸附质的几何吸附构型`."
   ]
  },
  {
   "cell_type": "markdown",
   "metadata": {},
   "source": [
    "**For some of the considered systems**:    \n",
    "对于某些目标体系, 简单的参数如价电子数或成键数[14]可以解释结果: 对比密堆积表面上的 CH, CH2, CH3, 我们通常会发现CH(价电子数为3)优先选择三重吸附位点, CH2(价电子数为2)优先选择双重吸附位点, CH3(价电子数为1)优先选择单重吸附位点. 这些趋势的含义表明碳原子上的不饱和键会与表面金属原子形成键合; 实际上, 在中心C原子上, 每个不饱和的 sp3 杂化轨道, 都可与最近邻金属原子的 d态结合, **符合图1中的斜率?**(斜率与价电子数的关系式).  但是, 这张图片不能包含吸附原子C. C原子的吸附也成三重吸附位点(忽略远程重建), 但它不具有四个键(解释图1中的数据需要C原子形成四个键). 我们还注意到`整体线性行为`与几何吸附构型无关, 因此也与键合的细节无关; 见图2. 因此, 图1和图2中的线性关系一定有一个更一般的解释, 可以包括以上的论点, 因为 CH,CH2和CH3只是特殊的情况."
   ]
  },
  {
   "cell_type": "markdown",
   "metadata": {},
   "source": [
    "**We will base our analysis**:   \n",
    "我们将基于 d-band 模型进行分析, 该模型已成功用于理解--从一种过渡金属到下一种过渡金属过程中--吸附能的趋势[8,15-19]. 根据 d-band 模型, 将质-表键的形成分成两步进行是很有用的. 首先, 我们让吸附质的态与过渡金属的 `sp态` 相互作用, 然后我们再包含来自于`d态耦合`的额外贡献:  \n",
    "\n",
    "\\begin{equation}\n",
    "\\Delta E = \\Delta E_{sp} + \\Delta E_d \\tag{2}\n",
    "\\end{equation} \n",
    "\n",
    "`与金属-sp态的耦合项` $\\Delta E_{sp}$ 通常有助于`键合的最大部分`, 涉及相当多的杂化和电荷转移. 然而, 从一个过渡金属到另一个过渡金属, `与金属-sp态的耦合项`基本上可以看做是一个常数; sp带是宽广的, 并且**所有过渡金属的每个金属原子都有一个**`sp电子`, 当原子处于金属态时(metallic state)[20].  根据 d-band 模型, 从一种过渡金属到下一种过渡金属, 键能变化的主要贡献来自于(吸附质)与金属-d状态的耦合; **d态会形成位于费米能级附近处的窄带**(**d态->d带**), d带的宽度和能量在过渡金属之间变化很大. 根据 d-band 模型, 在图1中金属之间所观察到(可以省略)的所有变化(吸附能的变化), 都由 $\\Delta_d$ 给出. 这意味 $\\Delta E^{AH_x}(x)$ 关于 x 的依赖性必须由d耦合单独给出, 即在公式2中, x 的贡献完全由 $\\Delta E_d$提供:    \n",
    "\n",
    "\\begin{equation}\n",
    "\\Delta E_d^{AH_x}= \\gamma(x) \\Delta E_d^A \\tag{3}\n",
    "\\end{equation} \n",
    "\n",
    "使用Eq.(1), 这将导致图1所示的那种关系. 根据原子A的吸附能, 我们可以写出分子 $AH_x$ 的吸附能:    \n",
    "\n",
    "\\begin{equation} \\begin{split}\n",
    "\\Delta E^{AH_x} \n",
    "& = \\Delta E_d^{AH_x} + \\Delta E_{sp}^{AH_x}\\\\\n",
    "& = \\gamma(x) \\Delta E_d^A + \\Delta E_{sp}^{AH_x}\\\\\n",
    "& = \\gamma(x) \\Delta E^A + \\xi \n",
    "\\end{split} \\tag{4} \\end{equation} \n",
    "\n",
    "其中 $ \\xi = \\Delta E_{sp}^{AH_x}  - \\gamma(x) \\Delta E_{sp}^A $ 与问题中的金属无关. $AH_x/A$组合中的参数 $\\gamma $ 可以从图1读取;(见图1). 参数 $\\xi$ 可以从计算中获取. 下述所示的所有模型数据都是用Pt(111)作为参考态."
   ]
  },
  {
   "cell_type": "markdown",
   "metadata": {},
   "source": [
    "**The basic question remains**:  \n",
    "d态耦合为什么与1式中吸附物的价数线性相关, 仍然是现在的基本问题. 我们无法为Eq.(1)的线性关系提供通用严谨证明, 更有可能并不存在这样的证据--图1中的散点表示线性关系只是近似地. 不管怎样(however), 我们要做的是表明Eq.(1)在目标体系应该保持这种近似性."
   ]
  },
  {
   "cell_type": "markdown",
   "metadata": {},
   "source": [
    "**The coupling of the adsorbate states**:  \n",
    "吸附态与d带的耦合有两个贡献[15,16,21], \n",
    "$ \\displaystyle \\Delta E_(d?) = \\Delta_d^{hyb} + \\Delta_d^{orth} $. \n",
    "第一项描述了`与成键态和反键态的形成`相关的能量改变. 因为d耦合通常被描述为二阶微扰[8,15,21], 我们可以写出 \n",
    "$\\displaystyle \\Delta E_d^{hyb} \\propto V_d^{orth} \\propto V_{ad}^2$, \n",
    "其中 $V_{ad}$ 是吸附物和金属d态之间的哈密顿矩阵元[21]. 如果有多个吸附态(吸附质的态), 总相互作用能将来自吸附态的贡献总和, $V^2_{ad} = \\sum_i V^2_{a_i d}$. \n",
    "我们认为 $V^2_{ad} \\propto \\gamma $, 原因如下.  "
   ]
  },
  {
   "cell_type": "code",
   "execution_count": 1,
   "metadata": {},
   "outputs": [
    {
     "name": "stdout",
     "output_type": "stream",
     "text": [
      ">>>>>>>>>>>>>>>>>>>>>>>>>>>>>>>>>>>>>>>!kk1:active>>>>>>>>>>>>>>>>>>>>>>>>>>>>>>>>>>>>>>>>\n"
     ]
    }
   ],
   "source": [
    "kk 1"
   ]
  },
  {
   "cell_type": "markdown",
   "metadata": {},
   "source": []
  },
  {
   "cell_type": "markdown",
   "metadata": {},
   "source": [
    "耦合强度 V 2 广告 ... F R AÿI G†是的函数 金属邻居的数量和他们的距离 吸附物.  由于 d耦合通常是次要的 - 对于键能而言, 它是 sp耦合 主要决定吸附的键长, R Aÿ 我 .  当H原子加到中心C, N, O或S原子上时,  吸附键长度增加和耦合 力量减少.  有效介质理论(EMT) [ 22 ]提供了一种量化这种效果的简单方法.  在里面 EMT原子 A与其他原子的键合 附近近似于 A与a 的相互作用 a的均相电子气(有效介质) 由密度的球面平均值 n给出的密度 由周围的原子提供 ：电子é 坎 ... N†.  这种相互作用的局部密度近似 能量很好地描述了债券的一般趋势 - 包括金属中原子的键长, 吸附物 在金属表面和分子[ 22 - 24 ].  能量 将原子嵌入均相电子气中,  E hom ... n †, 通常具有特定电子的最小值 tron密度,  n 0 , 原子A的平衡几何是 由 A经历最佳的位置给出 电子密度 , N N 0.  考虑例如金属表面外的C原子.  吸附键长度由外部距离给出 表面电子密度的表面 周围的C原子是 正 冲浪 N 0.  现在将H原子添加到C中 原子.  每个H原子将为C提供电子密度 原子和表面所需的电子密度 达到 N N 0越小.  对于固定吸附部位(一个,  表面之间的键长. 二或三倍) 因此原子和C原子必须增加.  Alterna- 吸附位点可以像CH一样改变,  上面讨论的CH 2和CH 3 .  在那种情况下, 我们会 期望C-金属键长度与 x 无关 ,  由于金属配位数的变化相关 完全符合H配位数的增加 这个系统的序列.  这正是我们的意思 在计算中找到.  回到一般情况下,  从获得所需的面 N 冲浪 电子密度 N N 0将继续下降为H的数x 原子增加.  当 x 4时, H原子必须有贡献 中心C原子所需的所有电子密度,  4 N H n 中 0中, 由于甲烷分子不结合于 表面(忽略范德瓦尔斯相互作用).  该 平衡时表面的密度贡献 因此, CH x的 站点 n 冲浪 ... X 最大 Y X† x 最大 n 0 ...... x † n 0 ： (5) 等式中x 的线性依赖性 .  ( 五 )是基于 合理假设对电子的贡献 所有 x H原子的密度都是相同的 , 即总和 密度应该加起来为 n 0 [ 25 ].  电子密度n 可视为广义债券订单[ 26 ,  27 ], 和 的要求, 即 N N 0是然后键顺序的一个例子 保护.  因为我们使用EMT来模拟 sp贡献 键合,  n surf表示外部的sp电子密度 表面.  表面外n 冲浪 的衰减长度是 通过工作函数(能量)渐近地给出 相对于真空的费米水平).  由于 d州有 能量接近费米水平, 它们的衰变长度 大致相同.  这意味着第一次近似 - 重刑 V 2 广告 与 n冲浪鳞片 .  因此我们证明了这一点 以下关系约占,  E d ... x †/ V 2 ad ... x †/ n surf ... x †/ X 最大 Y X x 最大 ...... x † ; (6) 这意味着Eq.  ( 1 ).  鉴于上面提供的理解, 我们可以尝试 概括了图 1中 的发现 .  对于任何氢化或 分子键合的脱氢反应 过渡金属表面通过C, N, O或S原子, 我们应该 能够估计所有过渡的反应能量 金属只给出一种金属的反应能量.  对于 每个原子 A i i 1 ; ... ; N粘合到表面, 我们 确定期间价格参数的变化 i 反应, 然后我们可以估计债券的变化 从债券的变化中获得完整系统的能量 A i的 能量 ： PRL 99, 016105(2007) 物理评论信 一周结束 2007年7月6日 016105-3"
   ]
  },
  {
   "cell_type": "markdown",
   "metadata": {},
   "source": [
    "第4页\n",
    "E. X N. 我 1 ... I E A I‡ 我 † X N. 我 1 ... i E A i †‡ ： (7) 改变了 特定反应的参数 需要通过计算得到一次性计算 单一金属的反应能量.  在图 3中 , 我们进行比较 该模型完成氢化的DFT计算 或脱氢一系列碳氢化合物, 醇类,  硫醇和氨基酸.  在每种情况下, 我们都计算了 来自Pt(111)数据.  模型之间的协议 并且完整的DFT计算表明该模型具有 描述绝对量值和. 的力量 氢化或脱氢反应能的趋势 许多有机分子的生成反应 过渡金属表面.  我们注意到缩放关系 可以很容易地推广出来的吸附能量 任何氢化物质 A H y用作参考 而不是 A. 通过将现有模型与布朗斯台德 - Evans-Polanyi型相关已建立 激活障碍和反应能量之间 用于表面反应[ 8 ,  10 ,  11 ], 有可能估计 - 配对表面催化剂的全部势能图 - 基于C, 任何过渡金属的裂解反应,  N, O和S化学吸附能量和a的计算 单金属.  我们建议这将是一个有用的工具 筛选新催化剂.  这样的估计可以 随后进行完整的DFT计算和前 最有趣的系统的periments.  原子级材料设计中心是赞助 由伦德贝克基金会主持.  额外的支持 来自丹麦研究理事会和丹麦人 科学计算中心也得到了认可."
   ]
  },
  {
   "cell_type": "markdown",
   "metadata": {},
   "source": [
    "![36_fig3](data/36_fig3.png)\n",
    "\n",
    "> Fig3. 反应能的计算值--模型预测值. 模型数据使用 Pt(111)数据作为参考."
   ]
  },
  {
   "cell_type": "markdown",
   "metadata": {},
   "source": [
    "\\begin{equation}\n",
    "\\displaystyle n_{surf} = \\frac{x_{max}-x}{x_{max}} n_0 = \\gamma(x) n_0 \\tag{5}\n",
    "\\end{equation} "
   ]
  },
  {
   "cell_type": "markdown",
   "metadata": {},
   "source": [
    "\\begin{equation}\n",
    "\\Delta E_d(x) \\propto V_{ad}^2(x) \\propto n_{surf}(x) \\propto \\frac{x_{max}-x}{x_{max}} = \\gamma(x) \\tag{6}\n",
    "\\end{equation} "
   ]
  },
  {
   "cell_type": "markdown",
   "metadata": {},
   "source": [
    "\\begin{equation} \n",
    "\\Delta E = \\sum^N_{i=1} (\\Delta\\gamma_i \\Delta E^{A_i} + \\Delta \\xi_i) =\n",
    "\\sum^N_{i=1} (\\Delta\\gamma_i \\Delta E^{A_i}) + \\Delta \\xi \\tag{7}\n",
    "\\end{equation} "
   ]
  },
  {
   "cell_type": "code",
   "execution_count": 3,
   "metadata": {},
   "outputs": [
    {
     "name": "stdout",
     "output_type": "stream",
     "text": [
      "$$$$$$$$$$$$$$$$$$$$$$$$$$$$$$$$$$$$$$$$!kk2:end>$$$$$$$$$$$$$$$$$$$$$$$$$$$$$$$$$$$$$$$$$\n"
     ]
    }
   ],
   "source": [
    "kk 2"
   ]
  },
  {
   "cell_type": "markdown",
   "metadata": {},
   "source": [
    "1. the scaling constant: 比例常数\n",
    "1. offer the possibility of:  提供...的可能性\n",
    "1. model with the ability to: 模型可以做...\n",
    "1. the generalized gradient approximation: 广义梯度近似\n",
    "1. when we use a reference `with the same configuration` `as the molecule of interest`, the scaling behavior **includes**(vt) alloys `with the same accuracy` `as for the elemental metals`:  \n",
    "没有把 include 当成该句话的动词.\n",
    "1. 感兴趣的, 带考察的, 如...所示的...: 都翻译成两个字--目标.\n",
    "    * the molecule of interest: 目标分子\n",
    "    * the considered systems: 目标体系, 待考体系\n",
    "    *  systems investigated in Fig. 1: 目标体系\n",
    "1. includes the argument above: 包括以上的论点\n",
    "1. base our analysis on: 基于...进行分析\n",
    "1. provide a general rigorous proof of: 为...通用严谨证明\n",
    "\n",
    "\n",
    "\n",
    "1. the basic question remains: 基本问题**保留** >> 基本问题**仍然是**"
   ]
  }
 ],
 "metadata": {
  "kernelspec": {
   "display_name": "Python 3",
   "language": "python",
   "name": "python3"
  },
  "language_info": {
   "codemirror_mode": {
    "name": "ipython",
    "version": 3
   },
   "file_extension": ".py",
   "mimetype": "text/x-python",
   "name": "python",
   "nbconvert_exporter": "python",
   "pygments_lexer": "ipython3",
   "version": "3.6.5"
  },
  "toc": {
   "base_numbering": 1,
   "nav_menu": {},
   "number_sections": true,
   "sideBar": true,
   "skip_h1_title": false,
   "title_cell": "Table of Contents",
   "title_sidebar": "Contents",
   "toc_cell": false,
   "toc_position": {},
   "toc_section_display": true,
   "toc_window_display": false
  },
  "varInspector": {
   "cols": {
    "lenName": 16,
    "lenType": 16,
    "lenVar": 40
   },
   "kernels_config": {
    "python": {
     "delete_cmd_postfix": "",
     "delete_cmd_prefix": "del ",
     "library": "var_list.py",
     "varRefreshCmd": "print(var_dic_list())"
    },
    "r": {
     "delete_cmd_postfix": ") ",
     "delete_cmd_prefix": "rm(",
     "library": "var_list.r",
     "varRefreshCmd": "cat(var_dic_list()) "
    }
   },
   "types_to_exclude": [
    "module",
    "function",
    "builtin_function_or_method",
    "instance",
    "_Feature"
   ],
   "window_display": false
  }
 },
 "nbformat": 4,
 "nbformat_minor": 2
}
