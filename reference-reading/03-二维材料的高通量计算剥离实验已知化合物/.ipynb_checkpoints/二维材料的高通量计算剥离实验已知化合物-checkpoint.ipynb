{
 "cells": [
  {
   "cell_type": "markdown",
   "metadata": {},
   "source": [
    "**摘要**:  \n",
    "二维(2D)材料已成为下一代电子和光电应用的有希望的候选者. 然而,仅成功合成或剥离了几十种2D材料. 在这里,我们搜索可以从其母体化合物中轻易剥离的2D材料. 从108,423种独特的,实验已知的3D化合物开始,我们根据稳健的几何和键合判据确定了5,619种化合物(子集). 使用范德华密度泛函理论进行的高通量计算,根据实验结构数据和(计算的)`随机相近似结合能`验证,进一步识别了1,825种易于或可能可剥落的化合物. the subset of 1,036 easily exfoliable cases **provides** novel structural prototypes and simple ternary compounds as well as a large portfolio of materials to search from for optimal properties. 对于258种化合物的子集,我们探索振动,电子,磁性和拓扑性质,识别56种铁磁和反铁磁系统,包括半金属和半半导体."
   ]
  },
  {
   "cell_type": "markdown",
   "metadata": {},
   "source": []
  },
  {
   "cell_type": "code",
   "execution_count": 14,
   "metadata": {
    "scrolled": true
   },
   "outputs": [
    {
     "name": "stdout",
     "output_type": "stream",
     "text": [
      "简单的三元化合物\n"
     ]
    }
   ],
   "source": [
    "ggtrans(\"\"\"simple ternary compounds\"\"\")"
   ]
  },
  {
   "cell_type": "code",
   "execution_count": 9,
   "metadata": {},
   "outputs": [
    {
     "name": "stdout",
     "output_type": "stream",
     "text": [
      "对于258种化合物的子集,我们探索振动,电子,磁性和拓扑性质,识别56种铁磁和反铁磁系统,包括半金属和半半导体.\n"
     ]
    }
   ],
   "source": [
    "ggtrans(\"\"\"\n",
    "For a subset of 258 compounds, we explore vibrational, electronic, magnetic and topological properties, identifying 56 ferromagnetic and antiferromagnetic systems, including half-metals and half-semiconductors.\n",
    "\"\"\")"
   ]
  },
  {
   "cell_type": "markdown",
   "metadata": {},
   "source": []
  },
  {
   "cell_type": "markdown",
   "metadata": {},
   "source": []
  },
  {
   "cell_type": "code",
   "execution_count": null,
   "metadata": {},
   "outputs": [],
   "source": []
  }
 ],
 "metadata": {
  "kernelspec": {
   "display_name": "Python 3",
   "language": "python",
   "name": "python3"
  },
  "language_info": {
   "codemirror_mode": {
    "name": "ipython",
    "version": 3
   },
   "file_extension": ".py",
   "mimetype": "text/x-python",
   "name": "python",
   "nbconvert_exporter": "python",
   "pygments_lexer": "ipython3",
   "version": "3.6.5"
  },
  "toc": {
   "base_numbering": 1,
   "nav_menu": {},
   "number_sections": true,
   "sideBar": true,
   "skip_h1_title": false,
   "title_cell": "Table of Contents",
   "title_sidebar": "Contents",
   "toc_cell": false,
   "toc_position": {},
   "toc_section_display": true,
   "toc_window_display": false
  },
  "varInspector": {
   "cols": {
    "lenName": 16,
    "lenType": 16,
    "lenVar": 40
   },
   "kernels_config": {
    "python": {
     "delete_cmd_postfix": "",
     "delete_cmd_prefix": "del ",
     "library": "var_list.py",
     "varRefreshCmd": "print(var_dic_list())"
    },
    "r": {
     "delete_cmd_postfix": ") ",
     "delete_cmd_prefix": "rm(",
     "library": "var_list.r",
     "varRefreshCmd": "cat(var_dic_list()) "
    }
   },
   "types_to_exclude": [
    "module",
    "function",
    "builtin_function_or_method",
    "instance",
    "_Feature"
   ],
   "window_display": false
  }
 },
 "nbformat": 4,
 "nbformat_minor": 2
}
