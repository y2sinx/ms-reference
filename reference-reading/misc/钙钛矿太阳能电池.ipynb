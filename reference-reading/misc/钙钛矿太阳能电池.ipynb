{
 "cells": [
  {
   "cell_type": "markdown",
   "metadata": {},
   "source": [
    "# 钙钛矿晶体结构和晶体化学"
   ]
  },
  {
   "cell_type": "markdown",
   "metadata": {},
   "source": [
    "半径相差悬殊的离子可以稳定共存于同一结构;  \n",
    "理想钙钛矿晶体结构的对称性比较高;    \n",
    "并且基于理想钙钛矿的结构畸变也非常常见, 钙钛矿可以有多种畸变类型;  "
   ]
  },
  {
   "cell_type": "markdown",
   "metadata": {},
   "source": [
    "$ABX_3$ 型钙钛矿化合物的分类:  \n",
    "原型: $ABX_3$  \n",
    "有序型:  \n",
    "* A 位有序\n",
    "* B 位有序\n",
    "* AB 双位有序  \n",
    "\n",
    "阴离子亏损型: $A_2B_2X_5$  \n",
    "富阴离子型: $A_2B_2X_7$\n",
    "无法归为该分类体系的"
   ]
  }
 ],
 "metadata": {
  "kernelspec": {
   "display_name": "Python 3",
   "language": "python",
   "name": "python3"
  },
  "language_info": {
   "codemirror_mode": {
    "name": "ipython",
    "version": 3
   },
   "file_extension": ".py",
   "mimetype": "text/x-python",
   "name": "python",
   "nbconvert_exporter": "python",
   "pygments_lexer": "ipython3",
   "version": "3.6.5"
  },
  "toc": {
   "base_numbering": 1,
   "nav_menu": {},
   "number_sections": true,
   "sideBar": true,
   "skip_h1_title": false,
   "title_cell": "Table of Contents",
   "title_sidebar": "Contents",
   "toc_cell": false,
   "toc_position": {},
   "toc_section_display": true,
   "toc_window_display": false
  },
  "varInspector": {
   "cols": {
    "lenName": 16,
    "lenType": 16,
    "lenVar": 40
   },
   "kernels_config": {
    "python": {
     "delete_cmd_postfix": "",
     "delete_cmd_prefix": "del ",
     "library": "var_list.py",
     "varRefreshCmd": "print(var_dic_list())"
    },
    "r": {
     "delete_cmd_postfix": ") ",
     "delete_cmd_prefix": "rm(",
     "library": "var_list.r",
     "varRefreshCmd": "cat(var_dic_list()) "
    }
   },
   "types_to_exclude": [
    "module",
    "function",
    "builtin_function_or_method",
    "instance",
    "_Feature"
   ],
   "window_display": false
  }
 },
 "nbformat": 4,
 "nbformat_minor": 2
}
