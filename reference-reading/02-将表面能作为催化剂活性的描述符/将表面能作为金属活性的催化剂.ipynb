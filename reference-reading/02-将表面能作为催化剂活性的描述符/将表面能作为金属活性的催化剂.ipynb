{
 "cells": [
  {
   "cell_type": "markdown",
   "metadata": {},
   "source": [
    "![head](head.png)"
   ]
  },
  {
   "cell_type": "markdown",
   "metadata": {},
   "source": [
    "[Surface Energy as a Descriptor of Catalytic Activity](https://pubs.acs.org/doi/abs/10.1021/acs.jpcc.6b09687)"
   ]
  },
  {
   "cell_type": "markdown",
   "metadata": {},
   "source": [
    "**ABSTRACT**:  \n",
    "计算搜索HER的催化剂通常使用HBE(hydrogen binding energy)作为催化剂活性的预测符. 然而HBE的精确计算需要涉及很大的周期性晶胞模型, 其高通量筛选很昂贵. 与此对比, 表面能, 功函数, PZC(potential of zero charge)的计算只需相对较小的表面单胞, 因此计算花费较小. 催化剂活性与这些表面性质之间的关系急需探索. 因此, 我们使用DFT结合三种不同的泛函(LDA,PBE,PBEsol), 计算了六种常见催化剂(三种金属,三种过渡金属碳化物, $TMCs; WC, W_2C, {Mo}_2C$)的晶格常数, 表面能, 内聚能, 和功函数. 三种交换关联泛函产生了一致的趋势, PEBsol生成的结果位于LDA与PBE之间且与试验最为接近. 因此我们使用PBEsol获取了九种新型杂化催化剂(**有木有测吸附能**)的表面能,功函数,PZC, 每一种模型都在TMC基底上包含了一个金属单层. 重要的时, 在实验交换电流密度和理论表面能之间出现了一个火山形状的关联. 我们还研究了**溶剂化对极化表面能和功函数的影响**(在联合密度泛函理论框架内的**连续介质模型**上). 对于这些特殊材料，在与水发生任何反应之前，真空中的表面能在暴露于水溶液中时几乎不变。交换电流密度与表面能可以观察到火山形相关性, 而与功函数或PZC中不能观察到. 因此，我们的工作揭示了更快速地计算筛选还原Pt负载催化剂的机会, 即将表面能作为计算上有效的催化描述符."
   ]
  },
  {
   "cell_type": "markdown",
   "metadata": {},
   "source": [
    "## INTRODUCTION"
   ]
  },
  {
   "cell_type": "markdown",
   "metadata": {},
   "source": [
    "超过一半的工业生产的氢气来自水煤气变换反应。该氢气用于制造许多重要的化学品，如氨和甲醇，以及石油催化重整等工艺。尽管氢的这些用途非常重要，但利用氢作为清洁能源载体的额外可能性推动了当前的研究。水煤气变换反应的高能量成本和二氧化碳排放促使研究提高效率和降低替代氢气生产过程的成本。  "
   ]
  },
  {
   "cell_type": "markdown",
   "metadata": {},
   "source": [
    "水的电解由两个半反应组成：析氢反应（HER）和析氧反应。尼科尔森和卡莱尔在1800年首次观察到水的电解，当时他们将铂丝从伏打桩的两端插入装满水的小管中。两百多年后，铂和昂贵的金属氧化物如IrO2和RuO2仍然是最有效的水分解电催化剂。然而，这些材料的稀缺性和相关成本凸显了必须大幅减少（如果不是完全避免）这些金属的使用。"
   ]
  },
  {
   "cell_type": "markdown",
   "metadata": {},
   "source": [
    "已经有大量的工作研究将替换Pt作为HER的首选材料的可能性。为此，已经研究了许多材料并显示出它们具有潜力。Ni基二元过渡金属合金[6,7]，过渡金属硫属元素化物如 MoS2[8,9]，过渡金属氮化物[10]，硼化物[11]和磷化物[12]都表现出显着的HER活性。用于该反应的最有希望的材料类别之一是过渡金属碳化物（TMC）。最近在升高的温度（200-400℃）下对各种TMC的研究发现，**HER的起始还原电位降低（变得更负，即更难以降低），其顺序为WC> Pt = Mo2C> NbC> TaC[15]。?**然而，自20世纪70年代以来，已知WC的活性远低于溶液中的Pt，因为前者预测氢原子的结合更强。"
   ]
  },
  {
   "cell_type": "markdown",
   "metadata": {},
   "source": [
    "尽管如此,TMC仍然被认为是减少电催化系统中Pt负载的\"吉祥物\".\n",
    "这是因为许多TMC,包括WC,W2C,Mo2C,TaC,VC和TiC,具有与Pt族金属类似的电子性质,并且在电化学条件下是稳定的[18,19].\n",
    "这些特性使**TMC特别适合作为Pt族金属覆盖层的基板**.\n",
    "Chen及其同事的大量工作表明,在WC基底上的Pt覆盖层覆盖率低至1单层(ML),导致催化剂与块状Pt一样活跃.[18,20-22]\n",
    "来自同一组的进一步研究表明,在Mo2C底物上覆盖1.5ML的Pt可以回收大部分Pt的活性.\n",
    "另一项研究发现,在Pd2C和WC底物上,ML Pd对HER也具有活性[23].\n",
    "鉴于这些发现以及其他金属覆盖层和TMC支持的许多可能组合,开发一种**能够快速筛选这种混合材料HER催化剂**的适用性的技术将是非常有意义的."
   ]
  },
  {
   "cell_type": "markdown",
   "metadata": {},
   "source": [
    "HBE的计算是用于预测材料表面对HER的功效的最有效的计算工具之一.\n",
    "**Sabatier原理**指出, 催化剂的活性与表面和活性中间体之间的结合相互作用有关: 与中间体相互作用太弱的表面将不能保持中间体足够长的时间用于反应, 而表面具有太强的表面. 与中间体的相互作用将不能释放中间体以进一步反应[24].\n",
    "该定性原理已成功用于预测各种催化表面对各种反应的相对反应性.\n",
    "1958年, Parson发现当氢吸附自由能接近零时, HER的交换电流密度达到了最大[25,26]\n",
    "许多课题组使用所谓的\"火山图\"来说明**萨巴蒂尔原理的真实性**.\n",
    "这些图表明, 吸附原子氢的吉布斯自由能最接近零的那些催化剂通常是最活跃的.\n",
    "实际上, (HER的最活跃的)催化剂Pt与氢原子结合的吉布斯自由能非常接近零.\n",
    "计算研究一再表明火山图关系适用于各种**纯金属催化剂**, 并使用计算的HBE值成功预测新的HER催化剂,例如 BiPt 和 MoS2[27-29]."
   ]
  },
  {
   "cell_type": "markdown",
   "metadata": {},
   "source": [
    "严格,彻底的HBE计算是耗时的.\n",
    "这种计算涉及考虑表面上的各种可能的氢吸附位点.\n",
    "然后必须计算优化结构的振动频率,以确保优化的结构是真正的最小值并计算热校正."
   ]
  },
  {
   "cell_type": "markdown",
   "metadata": {},
   "source": [
    "虽然这种方法已被证明是成功的, 但它并不是催化性能唯一可能的预测指标.\n",
    "除了HBE 之外还有许多其他因素决定了电催化剂的活性, 例如电导率,结晶度,表面电解质的局部环境和表面粗糙度.\n",
    "例如, Schmickler及其同事的工作表明, 除了遵循 Sabatier原理 之外, 重要的是HER催化剂具有跨越费米能级的 d-带, 并且在该催化剂之间存在强烈的长程相互作用. 氢1s轨道和催化剂的d轨道[30]."
   ]
  },
  {
   "cell_type": "markdown",
   "metadata": {},
   "source": [
    "因此, 保留HBE的一般适用性而没有昂贵计算费用的准确描述符是非常令人感兴趣的.\n",
    "本工作旨在确定催化活性与不同表面性质(例如表面能,功函数和**零电荷电位**(PZC))之间的潜在相关性, 所有这些都可以仅使用表面单位晶胞来计算.\n",
    "选择这些性质是因为它们可能与表面催化相关.\n",
    "表面能受表面原子的**配位不饱和度**的影响; 较高的表面能通常表示更具反应性的表面.\n",
    "功函数与电子转移的 ~~容易性~~ 有关, 这对于这里感兴趣的还原反应是重要的.\n",
    "最后, PZC可以被视为 (通过液-固界面的存在而修饰的) 功函数(即考虑功函数的固液界面效应)."
   ]
  },
  {
   "cell_type": "markdown",
   "metadata": {},
   "source": [
    "我们在此考虑15种催化剂, 包括6种常规催化剂(Au,Pd,Pt,WC,W2C和Mo2C)和9种新型混合催化剂(三种TMC基材上三种金属的九种可能的单层组合).\n",
    "在最近的实验中测量了几乎所有这些催化剂(Pt/Mo2C,Pd/W2C和Au/W2C除外)的交换电流密度(**交换电流密度选自文献**).\n",
    "实验交换电流密度与我们所计算的表面能的变化揭示了火山形相关性, 这表明了:  \n",
    "1. Pt表现出最佳的表面能, 与这15种催化剂中催化活性最优异相符.\n",
    "2. 其他14种催化剂的催化活性强烈依赖于表面能与最佳表面能的偏差.  \n",
    "基于我们预测的这些新型混合催化剂的表面能, 我们预测 Pt/Mo2C 应表现出类似于Pt和Pt/WC的催化活性.\n",
    "值得注意的是, 对于功函数或PZC, 没有发现这种火山形相关性, 尽管对于所考虑的所有催化剂, **这两种性质之间存在几乎恒定的变化.**"
   ]
  },
  {
   "cell_type": "code",
   "execution_count": 17,
   "metadata": {},
   "outputs": [
    {
     "name": "stdout",
     "output_type": "stream",
     "text": [
      ">>>>>>>>>>>>>>>>>>>>>>>>>>>>>>>>>>>>>>>!kk1:active>>>>>>>>>>>>>>>>>>>>>>>>>>>>>>>>>>>>>>>>\n"
     ]
    }
   ],
   "source": [
    "kk 1"
   ]
  },
  {
   "cell_type": "markdown",
   "metadata": {},
   "source": [
    "## METHODS"
   ]
  },
  {
   "cell_type": "markdown",
   "metadata": {},
   "source": [
    "## RESULTS"
   ]
  },
  {
   "cell_type": "markdown",
   "metadata": {},
   "source": [
    "**词汇**:  \n",
    "1. **coordination complex**: 配位化合物; 所以 the degree of coordinative unsaturation 表示配位不饱和的自由度\n",
    "1. "
   ]
  }
 ],
 "metadata": {
  "kernelspec": {
   "display_name": "Python 3",
   "language": "python",
   "name": "python3"
  },
  "toc": {
   "base_numbering": 1,
   "nav_menu": {},
   "number_sections": true,
   "sideBar": true,
   "skip_h1_title": true,
   "title_cell": "Table of Contents",
   "title_sidebar": "Contents",
   "toc_cell": false,
   "toc_position": {},
   "toc_section_display": true,
   "toc_window_display": false
  },
  "varInspector": {
   "cols": {
    "lenName": 16,
    "lenType": 16,
    "lenVar": 40
   },
   "kernels_config": {
    "python": {
     "delete_cmd_postfix": "",
     "delete_cmd_prefix": "del ",
     "library": "var_list.py",
     "varRefreshCmd": "print(var_dic_list())"
    },
    "r": {
     "delete_cmd_postfix": ") ",
     "delete_cmd_prefix": "rm(",
     "library": "var_list.r",
     "varRefreshCmd": "cat(var_dic_list()) "
    }
   },
   "types_to_exclude": [
    "module",
    "function",
    "builtin_function_or_method",
    "instance",
    "_Feature"
   ],
   "window_display": false
  }
 },
 "nbformat": 4,
 "nbformat_minor": 2
}
