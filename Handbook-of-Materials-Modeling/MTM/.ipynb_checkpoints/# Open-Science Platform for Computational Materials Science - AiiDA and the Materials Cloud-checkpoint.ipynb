{
 "cells": [
  {
   "cell_type": "markdown",
   "metadata": {},
   "source": [
    "[计算材料科学开放科学平台: AiiDA和材料云](https://link.springer.com/referenceworkentry/10.1007/978-3-319-42913-7_64-1)"
   ]
  },
  {
   "cell_type": "markdown",
   "metadata": {},
   "source": [
    "材料项目,fleet舰队"
   ]
  },
  {
   "cell_type": "markdown",
   "metadata": {},
   "source": [
    "**摘要**:  \n",
    "我们在这里讨论对计算材料科学开放科学平台的愿景.这样的平台需要依靠三个支柱,包括(1)开放的数据生成工具(包括仿真代码,科学工作流程以及用于自动化和出处跟踪的基础设施),(2)开放集成平台(这些工具可以以简单使用的方式进行交互,这些计算可以以自动化工作流的方式进行协调). (3)通过服从FAIR原则和兼容数据管理计划的门户,提供持续的代码和数据共享服务. 作为实际的实现,我们将通过几个示例展示如何实现这种平台,并特别关注AiiDA基础架构和Materials Cloud Web门户的组合."
   ]
  },
  {
   "cell_type": "code",
   "execution_count": 18,
   "metadata": {},
   "outputs": [
    {
     "name": "stdout",
     "output_type": "stream",
     "text": [
      "Initializing:\n",
      "Number: 15285\n",
      "From: all\n"
     ]
    }
   ],
   "source": [
    "dt=english.EngDict('all')"
   ]
  },
  {
   "cell_type": "code",
   "execution_count": 19,
   "metadata": {},
   "outputs": [
    {
     "name": "stdout",
     "output_type": "stream",
     "text": [
      "repository: \n",
      "n:储藏室;仓库;智囊人物;知识库; \n",
      "acc:/rɪˈpɑːzətɔːri/; \n",
      "or:z8;"
     ]
    }
   ],
   "source": [
    "dt.lookup('repository')"
   ]
  },
  {
   "cell_type": "code",
   "execution_count": null,
   "metadata": {},
   "outputs": [],
   "source": []
  },
  {
   "cell_type": "markdown",
   "metadata": {},
   "source": [
    "# 引言\n",
    "在原子材料科学领域,计算机模拟已成为材料设计中的关键要素.基于密度泛函理论(DFT)和超越DFT方法的精确代码的可用性以及超级计算机的不断提高的速度,使得计算材料科学更加容易获得.实际上,计算已经发展成为补充材料特性研究和优化中的实验的基本组成部分.这些技术目前的适用性,也被事实证明,12个在整个科学文献的前100引用最多的论文是关于DFT-相关方法(范Noorden等人.2014).因此,许多团体已经开始计算大集已知和未知材料的材料特性,经常从像ICSD晶体结构的数据库(贝尔斯基等人开始2002),则COD(Gražulis等人2012),并且鲍林文件(维拉尔等人2004年).这些计算材料属性中的许多属性都可以在线获得.其中一些门户网站也在本手册中进行了描述,包括材料项目(Jain等人,2011年),AFLOWlib(Curtarolo等人,2012年),OQMD(Saal等人,2013年),Nomad(The Nomad Repository,2018年)以及CMR(Landis等,2012).\n",
    "\n",
    "此外,如今,大量的计算被用作训练数据,以使用机器学习技术更有效地预测材料特性(Ramakrishnan等,2014; Dragoni等,2018).但是,总的来说,必须具有足够的数据信息,包括如何生成数据(即,其出处),使用了哪些物理和数值参数,并且通常能够再现结果以验证数据.这对于机器学习尤为重要,在机器学习中,只有知道用于训练算法的数据质量并且在各个数据点之间一致,才可能进行准确的预测.\n",
    "\n",
    "除此之外,开放数据的可用性有利于促进研究和发现,因为数据集可以重新用于原始作者未考虑的新研究和分析.原则上,记录具有完整来源的数据并共享它对于计算机模拟(例如实验)应该容易得多.但是,实际上有很多方面会阻碍自动计算材料特性,计算可重复性,传播数据来源以及共享开放研究数据.在本章中,我们讨论了我们对开放科学平台的愿景,该平台可以降低这些障碍,并回顾了需要解决的挑战.我们还介绍了两种软件基础设施AiiDA(Pizzi等人,2016)和材料云(Materials Cloud 2017),并展示了如何将它们结合起来以创建富有成效的开放科学生态系统的示例."
   ]
  },
  {
   "cell_type": "markdown",
   "metadata": {},
   "source": [
    "## 开放式科学平台的支柱\n",
    "在开始之前,我们要定义术语\"开放科学平台(OSP)\"及其在本章中的用法.使用开放式科学,我们指的是开放式工具和数据的组合,使之可以运行模拟,然后无障碍地共享和重用结果,以加速科学发现.尽管开放数据绝对是OSP的重要组成部分,但我们认为平台必须特别关注生成和共享数据的工具.而且,它应该由模块化组件组成,以便涵盖大量用例,并鼓励研究人员通过使用和扩展做出贡献.\n",
    "\n",
    "我们认为OSP应该基于以下三个支柱:(1)开放数据生成工具,包括开放模拟代码,用于管理模拟的开放体系结构以及用于指导模拟的开放工作流;(2)一个集成平台,使这些工具能够以自动化解决方案的形式访问和使用,不仅对经验丰富的计算研究人员而且对实验人员,学生或行业而言;(3)支持通过门户进行无缝数据共享,这些门户不仅使数据可查找(例如,通过DOI)并公开可用,而且可互操作和可重用,从而鼓励使用开放数据和代码许可证.\n",
    "\n",
    "此外,在我们看来,OSP还应包括开放的策展性输入数据库,这通常是模拟所需要的(例如晶体结构或伪电位),并且可以创建自动化的工作流程以及开放的学习和教育资源以便将年轻的研究人员介绍给该领域."
   ]
  },
  {
   "cell_type": "markdown",
   "metadata": {},
   "source": [
    "# 开放科学支柱1:开放数据生成"
   ]
  },
  {
   "cell_type": "markdown",
   "metadata": {},
   "source": [
    "## 打开仿真工具\n",
    "能够在OSP内生成数据的第一个要求是开放仿真代码的可用性.在材料科学领域(并且仅限于使用密度泛函理论的原子模拟),由于过去几十年来的发展,可以使用许多开放代码.这些包括Quantum ESPRESSO(Giannozzi等人2017),SIESTA(Soler等人2002),YAMBO(Marini等人2009),FLEUR(Blügel和Bihlmayer 2006),CP2K(Hutter等人2014)和ABINIT(ABINIT(Bluügeland Bihlmayer 2006).Gonze等人,2016年).这种开放的许可模式使每个人都可以访问代码.而且,有可能在它们之上构建仿真服务,这些服务也对代码本身有利,因为这些服务可以成为代码开发的融资渠道.\n",
    "\n",
    "还有其他一些在社区中广泛使用并具有商业许可的法规,例如VASP(Kresse和Furthmüller,1996)或CASTEP(Clark等,2005).).这些可能从实现的附加功能,速度,健壮性,更广泛的采用或更强大的用户支持(在工业研究和开发环境中,在学术界之外通常非常受重视)获得好处.这样一来,对于OSP的挑战便是如何能够在遵守其非公开工具许可条款的前提下集成它们.可以设计出既有利于商业代码又有利于平台的模型.一个示例可能是为代码提供开放的接口和插件,以启用或促进它们在OSP中的集成,同时保留代码的商业许可证.后者也可以从该模型中受益,因为准备好接口可以促进OSP用户采用代码."
   ]
  },
  {
   "cell_type": "markdown",
   "metadata": {},
   "source": [
    "## ADES模型及其在AiiDA中的实现\n",
    "近年来,许多研究项目使用高通量计算(HTC)方法来扫描成千上万个不同的系统,并确定具有最佳材料特性的系统.对于这类项目,手动运行所有模拟甚至控制控制计算给定材料属性所需的计算顺序甚至是不现实的.因此,需要工具来帮助管理和存储仿真,搜索仿真,并在存在计算依赖性的同时引导仿真的执行.我们的经验表明,如果这些工具需要可重用和模块化的话,它们的复杂性很容易增加.因此,需要以有组织的架构来收集和开发它们.\n",
    "\n",
    "在皮兹等人.(2016),基于自动化,数据,环境和共享的四个ADES支柱,讨论了一种用于管理计算和工作流的计算科学体系结构的模型.这些是同一白皮书中介绍的python平台AiiDA的基础.在这里,我们简要描述ADES模型以及AiiDA如何实现其四个支柱,然后我们讨论为什么在OSP中必须遵循ADES架构.\n",
    "\n",
    "ADES的第一个支柱是Automation,它涉及旨在解决管理超级计算机上大量HTC运行问题的所有那些软件组件.为了独立于超级计算机的细节,AiiDA实现了插件接口来控制连接,传输文件并执行命令(例如,通过SSH)或与作业调度程序进行交互.这些插件由后台运行的守护程序使用,该守护程序负责创建新的计算输入并将其上载到超级计算机,提交新的模拟并在作业调度程序上管理其生命周期,并在完成后检索和解析结果.\n",
    "\n",
    "然后需要第二个ADES支柱Data,以可再现和可搜索的方式存储和保存所有生成的数据.AiiDA使用基于有向无环图的出处模型来跟踪所有输入和输出以及不同计算之间的逻辑关系.AiiDA会自动跟踪来源(另请参见第2.3节),并且可以随时对其进行浏览,以了解如何生成数据或进行计算.由AiiDA跟踪的出处图的示例如图1所示.此外,有效分析结果的可能性也很重要.为此,AiiDA将出处图存储在数据库中,该数据库的架构进行了优化以确保典型查询能够快速运行."
   ]
  },
  {
   "cell_type": "markdown",
   "metadata": {},
   "source": [
    "![Fig1](https://media.springernature.com/lw785/springer-static/image/chp%3A10.1007%2F978-3-319-42913-7_64-1/MediaObjects/116042_0_En_64-1_Fig1_HTML.png)\n",
    "图1:  \n",
    "Mounet等人的2D材料(PtSe 2)的能带结构的物源图.(2018).AiiDA会自动记录来源,并可以通过Verdi 图形生成以图形形式显示来源命令.在这里,计算显示为橙色矩形,数据显示为椭圆.所使用的代码(二进制文件及其位置,库)也记录在出处图中(绿色菱形).我们用颜色突出显示了一些特定的数据类型:灰色的伪势,蓝色的最终能带结构和紫色的晶体结构.白色的数据节点是计算的其他输入参数(例如,k点网格或输入关键字).该图清楚地表明,从初始3D结构开始获得2D材料的最终能带结构,在这种情况下是从Crystallography Open Database(COD)(顶部紫色节点)开始,首先是通过一组过滤步骤,然后是通过量子ESPRESSO弛豫,然后进行几何剥落以及2D结构的最终弛豫和能带结构计算"
   ]
  },
  {
   "cell_type": "markdown",
   "metadata": {},
   "source": [
    "ADES第三大支柱,环境,重点放在两个方面.首先是确保AiiDA易于使用,并为用户提供有效的研究环境,以帮助和促进他们的工作.这要归功于用户API和命令行工具,这些工具简化了典型任务的执行(计算资源和代码的管理,对计算输入和结果的检查,数据分析)以及这些功能的大量文档.此外,AiiDA提供了对数据库的透明访问,该访问不需要SQL或类似数据库语言的知识即可执行查询和数据分析.这既可以通过使用对象关系映射(ORM)类直接访问数据库中存储的数据来实现,也可以通过QueryBuilder类来实现,以使用户能够通过使用标准python语法在AiiDA图上执行通用查询,而无需依赖于数据库后端.环境支柱的另一个定义是实现和管理复杂的嵌套科学工作流程.这些是OSP的核心组成部分(另请参见第5节).3.1),这是必需的,因为绝大多数材料特性是通过一系列具有非平凡逻辑的不同计算来计算的,以控制物理和数值参数,相关性和收敛环的选择并执行错误恢复.有经验的计算科学家都知道这种逻辑.在工作流中对其进行编码,不仅可以简化必须多次重复使用不同输入选择进行模拟的管理,而且还可以自动计算材料属性.后一个方面首先是非常有益的,因为可以将这些自动工作流移交给例如\n",
    "\n",
    "最后,共享的重点是创建一个社交生态系统,以鼓励数据和工作流重用并加速研究发现.AiiDA可以导出所有存储的数据,包括整个出处图,而不仅仅是输入和输出.然后可以将该信息导入另一个AiiDA实例中,并用于新的模拟或进一步的数据分析.AiiDA采用独立于模拟代码的典型数据结构(如晶体结构,电子带,分子动力学轨迹等)的通用格式.此外,由于可以自动跟踪来源,因此我们可以在Sect中的示例中进行讨论,可以随时将它们转换为任何其他标准格式.4.3."
   ]
  },
  {
   "cell_type": "markdown",
   "metadata": {},
   "source": [
    "## 开放科学中的ADES\n",
    "我们认为,尤其是在OSP的情况下,实现ADES模型的最有效方法之一是将自动化和数据存储耦合起来.更具体地说,AiiDA要求甚至在启动计算之前,将生成计算输入所需的所有信息都存储在数据库中.然后,守护程序负责仅使用数据库中已经存在的信息来创建实际的输入文件.\n",
    "\n",
    "生成新的计算时,这种耦合对研究人员而言成本很小,因为他们必须使用AiiDA数据结构提供输入并通过守护程序运行它们(即使可以通过简化用户界面来降低附加障碍,如环境支柱).另一方面,这种方法可确保即使使用不同的代码也可以轻松重用通用数据结构,并且所有计算都可重现,并且出处元数据始终正确.实际上,如果用户仅在执行了数千次模拟之后才必须添加出处信息,那将是一项巨大而繁琐的工作,尤其是在计算不统一的情况下.因此,在大多数情况下,除非绝对必要,否则研究人员最终不会在其数据中添加完整的出处信息.此外,\n",
    "\n",
    "然后,通过共享数据,出处和工作流的功能,可以在适当的环境中简化的自动化和数据的耦合得到加强(尤其是考虑到我们对开放式科学的讨论).在下一部分中,我们将通过许多示例展示ADES工具如何成为OSP的基本组成部分,并在与其他服务结合时如何完善它."
   ]
  },
  {
   "cell_type": "markdown",
   "metadata": {},
   "source": [
    "# 开放科学支柱2:使其可访问"
   ]
  },
  {
   "cell_type": "markdown",
   "metadata": {},
   "source": [
    "## 不仅数据:工作流和插件的共享\n",
    "共享研究数据是开放科学的组成部分之一,因为它允许其他研究人员重现和重用结果,执行新数据分析并使用已发布的数据开始新的研究.因此,以开放且可重用的格式共享数据至关重要.为此,最近在材料科学界出现了许多共享门户,本手册中还讨论了一些共享门户,例如材料项目,AFLOWlib,OQMD,Nomad和CMR.\n",
    "\n",
    "但是,我们强调,共享不仅应该容易并且具有适当的开放许可证,而且必须将数据与足够的元数据信息一起分发以理解它以及如何生成.如果使用跟踪数据来源的ADES工具(如AiiDA)运行模拟,则可以通过始终与相关来源共享数据来简单地解决这一方面.此外,数据和元数据应以标准格式共享.定义标准格式是社区的一项工作,单个研究小组无法完成.但是,自动的来源跟踪可以在生成数据后以任何其他格式导出数据,如Sect中所述.4.3,因此任何未来的标准也可以用非常有限的努力得到支持.\n",
    "\n",
    "但是,我们认为,开放科学不能仅限于开放数据共享,因为如果无法使用用于生成数据的工具,则会影响可重复性.这些工具包括量子模拟软件包,用于计算材料特性,如本节中已讨论的那样.2.1而且还有用于分析数据的预处理和后处理工具,更一般而言,是科学的工作流程,可从初始最小输入(如晶体结构)中获得一组材料属性.这些由许多组件组成:用于运行工作流的基础结构(如AiiDA),用于将AiiDA与采用的各种代码进行接口连接的插件,以及对科学家在数字和物理参数选择方面的知识进行编码的逻辑执行计算序列,以及如何处理潜在的错误或收敛性问题.只有所有这些组件都可以公开获得,我们才能真正说出可重复的开放科学.确实,我们在这里强调,对于给定的数据集(如图1所示)而言,物源图的可用性是非常有用的,但通常只允许重现单个结果.但是,在许多情况下,该图不足以理解用于选择输入数据(例如截断值或数字参数)或过滤相关结果(例如在高通量研究中)的复杂工作流程逻辑.\n",
    "\n",
    "开放科学的挑战,在第二节中讨论的第二个支柱中进行了阐述.1.1则在于确保所有这些组件都可以在有限的工作量下共享和重用,它们可以互操作并一起使用,并鼓励第三方通过扩展或改进对它们做出贡献."
   ]
  },
  {
   "cell_type": "markdown",
   "metadata": {},
   "source": [
    "## 鼓励捐款\n",
    "OSP应该是通用的,并支持各种仿真代码,数据类型和工作流程.显然,维护和支持该生态系统不能由一个小组来维持,尤其是对于支持特定仿真代码的插件而言,因为编写它们需要对代码及其典型使用模式有深入的了解.更重要的是,这既适用于已使用的代码,又适用于特定研究领域或主题的工作流程.\n",
    "\n",
    "因此,在AiiDA中,我们选择了插件界面.主要基础架构\" AiiDA核心\"仅包含独立于代码的主要逻辑,例如处理外部超级计算机,将数据和来源存储在数据库中或进行查询.所有特定于代码,数据和工作流的工具均作为独立存储库中的插件实现.基于插件的设计是必不可少的,但是有效的实现可以促进其安装并鼓励做出贡献.例如,在早期版本的AiiDA中,必须将插件添加到AiiDA的代码存储库中.从0.9版开始,AiiDA插件基础结构得到了改进:现在可以在独立的存储库中开发这些插件,最终用户可以轻松选择要安装的插件.安装后,AiiDA会自动检测并使用它们.优点是双重的:首先,它鼓励研究人员贡献自己的代码,因为他们不会失去对代码的控制权,而是保持完全的作者身份,甚至可以决定自定义许可方案.最重要的是,如果插件位于不同的存储库中,则它们的开发可以独立进行,而不必绑定和同步其发行版(例如,如果一个代码只需要一个错误修复,而另一个则正在进行大的重构,并且还没有准备好进行更新).新版本).\n",
    "\n",
    "在设计和改进插件界面期间,AiiDA团队很快意识到需要使用集中式存储库列出现有插件的需求.实际上,在过去的几年中,发生了不止一个研究人员开始根据他们的需求为相同的代码开发插件的情况.结果,发布了两个非常相似但本质上不兼容的插件.这导致工作重复,并且两个插件都错过了另一个插件中存在的一些重要功能.结果,面对选择插件的用户可能会感到困惑.此外,具有多种略有不同的格式也阻碍了共享和可重用性.为了解决这个问题,已经创建了AiiDA插件注册表(AiiDA Team 2017a)(另请参见图2).),其中包括现有插件的集中列表,有关如何使用它们的简短说明以及它们的代码存储库和文档的链接.插件代码未复制或重复.而是,注册表仅充当索引以促进发现现有插件.任何人都可以注册一个新插件,鼓励开发人员在开发的早期阶段进行注册.除了允许他们保留插件名称(在所有插件中必须是唯一的,并且不应随时间更改)之外,此策略还降低了多个研究人员独立开始开发相同代码的插件的风险.为了描述插件的就绪状态,\"状态\"标志提到了该插件是否稳定并且可以用于生产,正在开发或仅已注册.最后,还提供了一个\"插件模板\"存储库(在插件注册表中也可用),可以对其进行复制和修改以非常轻松地开始开发新插件.为了证明这种方法的有效性,我们注意到在创建注册表后仅一年,已有22种不同的插件可用,包括适用于广泛仿真代码的插件,例如Quantum ESPRESSO,VASP,CP2K,FLEUR,SIESTA和YAMBO.而且,其中超过一半的人提供了详细的文档网站,在这种情况下,插件模板提供的主干文档结构也为它们提供了便利.已经有22种不同的插件,包括适用于广泛的仿真代码的插件,例如Quantum ESPRESSO,VASP,CP2K,FLEUR,SIESTA和YAMBO.而且,其中超过一半的人提供了详细的文档网站,在这种情况下,插件模板提供的主干文档结构也为它们提供了便利.已经有22种不同的插件,包括适用于广泛的仿真代码的插件,例如Quantum ESPRESSO,VASP,CP2K,FLEUR,SIESTA和YAMBO.而且,其中超过一半的人提供了详细的文档网站,在这种情况下,插件模板提供的主干文档结构也为它们提供了便利."
   ]
  },
  {
   "cell_type": "markdown",
   "metadata": {},
   "source": [
    "![fig2](https://media.springernature.com/lw785/springer-static/image/chp%3A10.1007%2F978-3-319-42913-7_64-1/MediaObjects/116042_0_En_64-1_Fig2_HTML.png)\n",
    "图2:  \n",
    "左图是Sect中讨论的AiiDA插件注册表首页的屏幕截图.3.2,网址为http://aiidateam.github.io/aiida-registry,其中包含AiiDA所有可用插件的列表.右边是这些插件之一的详细页面示例,其中包含有关插件提供哪些功能,如何安装和使用插件以及在何处查找代码和相应文档的常规信息."
   ]
  },
  {
   "cell_type": "markdown",
   "metadata": {},
   "source": [
    "最后,本着促进使用和贡献以及提高互操作性的精神,AiiDA已与其他用python编写的库和工具集成在一起并与之兼容,而python和工具已成为材料科学界一种非常流行的编程语言.例如,AiiDA可以在其内部格式与ASE(Larsen等人2017)和pymatgen(Ong等人2013)的格式之间导入和导出结构,因此这两个库中都存在功能(晶体结构操作,比较,处理)可以无缝集成到任何AiiDA工作流程中.同样,可以使用spglib(Togo 2018)和高对称k来分析晶体对称性布里渊区中的点(以及带结构的建议路径)可以通过seekpath自动获得(Hinuma等人2017),并直接用作计算的输入."
   ]
  },
  {
   "cell_type": "markdown",
   "metadata": {},
   "source": [
    "## 文档,教程和开放学习资源\n",
    "如上一节所述,用于数据生成和分析的开放代码和工具的可用性是开放科学的重要方面.但是,如果这些工具不易使用,则将严重阻碍其采用.因此,我们认为,必须投入资源来降低用户壁垒.为了实现此目标,需要具有编写良好的代码文档,并描述如何安装代码以及如何指定代码输入.根据我们的经验,确保文档易于在Web引擎中搜索和索引很重要.此外,提供快速入门指南,示例脚本或可由用户复制和改编的输入文件以及通常由许多用户重复使用的有用食谱的\"食谱\"是非常有效的,例如如何完成特定任务或解决潜在问题.根据我们的经验,我们发现使用类似笔记本的格式特别有效(特别是在使用jupyter的情况下,我们在Sect中对此进行了详细介绍.4.4及其在材料云平台中使用的一些示例).最重要的是,专门为开发人员设计的文档对于贡献者理解代码并能够独立添加新功能非常有用,因此是鼓励对平台做出贡献的另一种工具(如第 3.2节所述).\n",
    "\n",
    "但是,对于大型代码而言,仅凭文档(虽然必不可少)很容易变得不知所措,因此可能不足以降低入口门槛.教程和学校也是用于代码分发的强大工具.这些事件使研究人员直接与工具的开发人员联系,从而帮助建立了网络和直接的沟通渠道.优势是双向的:用户可以通过更快,更有效的学习直接受益,开发人员可以从这些事件中受益,以了解他们的软件是如何使用的,收集有关常见用例的有用反馈并了解如何改进代码可用性.\n",
    "\n",
    "最后,我们还认为,重要的是提供访问教育资源的机会,例如讲座,教程和学校的录音,其中涵盖了领域科学的基础知识以及代码的用法和应用程序.这些资源应以开放的形式传播,以提供给所有学生和年轻研究人员.一个示例在Sect中显示.4.4,我们在这里讨论材料云的学习部分,这是材料科学领域的教育视频和资源的中心."
   ]
  },
  {
   "cell_type": "markdown",
   "metadata": {},
   "source": [
    "## 虚拟机和Quantum Mobile\n",
    "研究人员通常有一个特定的问题要解决并寻找可以解决该问题的软件.好的文档和有效的教程可以帮助他们确信代码的功能,而jupyter笔记本电脑可以简化代码的使用,但安装和配置的主要初始障碍仍然存在.不幸的是,用户可能遇到的潜在问题千差万别,很大程度上取决于他们的计算机配置,并且通常与代码依赖性相关(C / fortran库,特定的编译器或python软件包需要;操作系统不兼容;多个版本之间存在冲突)库版本;.).如果安装结果过于复杂,研究人员可能会灰心丧气(尤其是如果他们不确定代码是否可以帮助他们).\n",
    "\n",
    "为了解决这一障碍,我们建议使用几种不同的方法来减少和几乎消除开始使用软件(或软件集合)所需的时间.\n",
    "\n",
    "不需要设置任何在线服务器的最简单解决方案是创建预装有有用软件的虚拟机.分发非常简单,包括与虚拟机映像共享一个文件(通常为几个GB).一旦获得此文件,就可以通过仅运行虚拟机来查找所有预安装和预配置的代码,并且可以直接开始运行模拟.昆腾移动(AiiDA Team 2017b)虚拟机.它包含许多预先安装的仿真代码(包括Quantum ESPRESSO,FLEUR,SIESTA,Yambo,CP2K,Wannier90)以及AiiDA,它们已预先配置为在虚拟机中运行这些代码,并且已经预先配置了数据库.此设置非常适合在计算材料科学教室中进行教育,学生可以在其中直接关注手头的问题并了解结果.这已经在苏黎世联邦理工学院的\"分子和材料建模\" 2018年课程中得到了证明,在该课程中,Quantum Mobile被用作运行模拟的平台,仅在其首次发布后不到四个月的时间.\n",
    "\n",
    "对于较大的仿真,由于CPU或内存的限制,在虚拟机中运行不是理想的甚至是不可能的,但是研究人员仍然可以通过配置AiiDA来连接到他们可以访问的超级计算机来使用它.另一种可选的虚拟化解决方案包括使用Docker,可以将其视为创建轻量级虚拟机的工具,在该虚拟机中,Linux内核和某些资源是共享的,而不是被仿真.AiiDA现在带有预配置的Docker映像,这也推动了前面提到的许多代码来提供自己的Docker映像.Docker设置提供了非常相似的虚拟机容器化和代码设置可再现性级别,并且轻巧得多(例如,在执行多个相似的计算机时的磁盘使用方面).因此,它适用于需要自动创建许多等效系统的任务.一个典型的用例是在连续测试平台中.但是,另一方面,值得注意的是,出于教育目的,相对于虚拟机,很少使用Docker映像.实际上,在没有计算机管理以及Docker及其相关技术的高级知识的情况下,虚拟机的启动(仍在编写时)要容易得多.此外,虚拟机提供对GUI应用程序(例如文本编辑器或文件浏览器)的无缝访问,而使用Docker则需要通过命令行访问实例,这给学生带来了潜在的额外障碍.但是,另一方面,值得注意的是,出于教育目的,相对于虚拟机,很少使用Docker映像.实际上,在没有计算机管理以及Docker及其相关技术的高级知识的情况下,虚拟机的启动(仍在编写时)要容易得多.此外,虚拟机提供对GUI应用程序(例如文本编辑器或文件浏览器)的无缝访问,而使用Docker则需要通过命令行访问实例,这给学生带来了潜在的额外障碍.但是,另一方面,值得注意的是,出于教育目的,相对于虚拟机,很少使用Docker映像.实际上,在没有计算机管理以及Docker及其相关技术的高级知识的情况下,虚拟机的启动(仍在编写时)要容易得多.此外,虚拟机提供对GUI应用程序(例如文本编辑器或文件浏览器)的无缝访问,而使用Docker则需要通过命令行访问实例,这给学生带来了潜在的额外障碍.在没有计算机管理以及Docker及其相关技术的高级知识的情况下,虚拟机的启动(仍在撰写本文时)要容易得多.此外,虚拟机提供对GUI应用程序(例如文本编辑器或文件浏览器)的无缝访问,而使用Docker则需要通过命令行访问实例,这给学生带来了潜在的额外障碍.在没有计算机管理以及Docker及其相关技术的高级知识的情况下,虚拟机的启动(仍在撰写本文时)要容易得多.此外,虚拟机提供对GUI应用程序(例如文本编辑器或文件浏览器)的无缝访问,而使用Docker则需要通过命令行访问实例,这给学生带来了潜在的额外障碍."
   ]
  },
  {
   "cell_type": "markdown",
   "metadata": {},
   "source": [
    "## 超级计算机中心\n",
    "方便用户采用代码的第二种方法是将它们部署在运行模拟的超级计算机中心.现在,大多数高性能计算(HPC)中心已经拥有一个应用程序支持团队,该团队可以编译其用户使用的各种版本的代码并将其作为模块提供.对于诸如AiiDA之类的用于管理模拟的工具,也可以这样做.但是,这可能需要这些中心从传统的HPC提供程序模型过渡到更通用的服务提供程序,例如虚拟机,数据库服务或长期存储.许多中心(例如在欧洲,瑞士CSCS,意大利CINECA或德国JSC)已经在提供这些新服务,并正在联合以联邦方式访问它们."
   ]
  },
  {
   "cell_type": "markdown",
   "metadata": {},
   "source": [
    "# 开放式科学支柱3:无缝数据共享和保存"
   ]
  },
  {
   "cell_type": "markdown",
   "metadata": {},
   "source": [
    "## 数据管理计划和公平合规\n",
    "在研究的第一阶段,脱机工具和代码通常用于执行和组织研究,因为生成的数据可能很大并且通常是机密的.但是,当必须共享数据时,如本节中描述的OSP的第三支柱中所述.1.1,使用适当设计的Web门户变得至关重要.除此之外,目前许多资助机构都要求遵守数据分发和长期保存的数据管理计划(DMP).理想情况下,数据应符合FAIR的共享原则(Wilkinson等,2016),要求数据是可查找,可访问,可互操作和可重用的.只有将研究数据与诸如DOI之类的持久性句柄相关联以使其可引用,才能实现可发现性.存在免费的门户网站,例如Zenodo(2018),该门户网站将DOI分配给从研究项目中获得的数据集,并保证长期保存.但是,尽管可以将由不同代码生成的文件上载到这些服务上,但这仍然需要另一位研究人员安装兼容的软件才能以原始作者上载的格式打开和分析结果.为了消除这一障碍,Web门户因此还需要解决其他FAIR方面,以成为有效的OSP.\n",
    "\n",
    "在接下来的几节中,我们将举例说明如何使用合适的Web门户和ADES工具(如AiiDA)来管理模拟和跟踪出处,从而方便地实现DMP和FAIR兼容的目标.我们特别讨论了AiiDA与Sect中的理论结晶学开放数据库(TCOD)的集成.4.3证明了对数据来源的自动跟踪如何使在模拟运行后自动用标准元数据标记结果成为可能;和Material Cloud门户网站(第4.4节))提供的工具涵盖了计算研究的所有步骤,从学习到生成数据并整理结果,到最终发布和共享结果,同时完全符合FAIR原则."
   ]
  },
  {
   "cell_type": "markdown",
   "metadata": {},
   "source": [
    "## 不同数据库之间的互操作性:OPTiMaDe API\n",
    "即使自动出处跟踪允许以任何格式存储后验元数据信息,正如我们在下一节中讨论的那样,定义标准仍然非常有价值.实际上,这将允许不同的现有数据库之间实现轻松的互操作性.OPTiMaDe联盟正在朝着数据库和Web门户互操作性方向进行社区努力,该联盟正在努力制定由不同合作伙伴实施的通用API规范.社区中的许多大型数据库已经属于这个联盟(包括具有_mcloud_分配给它的前缀).在当前版本(0.9.5)中,OPTiMaDe已经定义了REST API格式,该格式可以使用相同的格式查询不同数据库中是否存在晶体结构,并可以使用常见的过滤器(例如原子数,存在或不存在)化学元素,以及支持特定于数据库的字段."
   ]
  },
  {
   "cell_type": "markdown",
   "metadata": {},
   "source": [
    "## 自动后验元数据标记:AiiDA和TCOD集成\n",
    "当前正在社区中讨论用于元数据标记和共享材料科学研究结果的本体和其他标准,例如TCOD字典(Gražulis等人,2014年)和Nomad元数据(Nomad Meta Info 2018年),即使尚无既定标准.因此,难以执行给定的本体.但是,如果使用自动出处跟踪工具运行模拟,则社区中缺少单一标准格式并不是主要问题.实际上,对出处的跟踪(如果是完整的和自动的)允许用户后验,即在所有模拟运行之后,仅通过实现转换器就可以以任何其他格式转换出处信息.Merkys等人的文章中给出了一个例子.(2017),其中提出了将AiiDA跟踪的来源转换为TCOD本体定义的格式的方法和代码.在这项工作中,作者特别展示了如何通过TCOD本体自动通过元数据自动标记通过AiiDA管理的Quantum ESPRESSO仿真,而无需用户输入.此外,该实现是模块化的,可以开发其他插件来支持其他仿真工具或其他元数据格式."
   ]
  },
  {
   "cell_type": "markdown",
   "metadata": {},
   "source": [
    "## 材料云\n",
    "在宗派.在图2中,我们已经描述了AiiDA如何在Sect中解决OSP中数据生成的挑战.3我们在Sect中概述了如何使Open Science易于访问.4.1我们强调了为符合FAIR原则而量身定制的门户网站如何成为实现无缝共享的基本要素.\n",
    "\n",
    "因此,已经设计,实施和部署了材料云.它是与AiiDA耦合的材料科学门户网站,并与之结合,可解决Sect中引入的所有三个OSP支柱.1.1.材料云由不同部分组成,旨在在科研项目的整个生命周期内为研究人员提供帮助.\n",
    "\n",
    "第一部分,学习,包含教学材料,例如学校视频,材料科学领域的教程和讲座,以及有助于学习的相应材料(例如幻灯片和练习).学习部分使用SlideShot技术,该软件平台可让您以高分辨率显示扬声器视频和幻灯片,从而使观看者可以通过幻灯片缩略图快速浏览视频.这与标准的硬件设置一起执行录制,然后将其导入SlideShot.\n",
    "\n",
    "然后,\" 工作\"部分重点介绍数据生成的任务.本节特别针对开放科学的第二个支柱,即以自动化解决方案的形式提供仿真工具,消除访问障碍,不仅使经验丰富的计算研究人员而且实验人员或学生都可以使用它们.除了提供下载各种版本的Quantum Mobile虚拟机的链接(请参阅第3.4节)之外,它还提供了使用两种不同方法访问计算工具的方法,这些方法适用于我们在此简要讨论的不同用例.Material Cloud工作部分的第一种方法是提供一组在线工具直接从Web浏览器执行数据的快速分析,其精神类似于,例如Bilbao Crystallographic Server的许多工具(Aroyo等人,2011年).这特别适用于可以实时运行(即,运行时间最多为几秒钟)并且可以受益于图形Web界面的计算.一个例子是seekpath(Hinuma等人2017),即,给定一个输入结构的工具,根据在晶体学文献中的标准定义来计算标准化的原始单元电池,如在晶体(Shmueli的国际表2010),并在Parthé和Gelato(1984).然后,该工具还会返回布里渊区中的高对称点的标签以及用于计算能带结构的建议路径.在这种情况下,唯一需要的输入是晶体结构(以多种常见格式接受),以及可选的一些数字参数.交互性主要通过用于晶体结构和布里渊区的交互式3D可视化器发生.\n",
    "\n",
    "在材料云中第二种更灵活的数据生成方法是基于jupyter界面.Jupyter是一个类似于笔记本的Web前端,它允许运行细分为具有输入和输出的单元的任何python代码(并且还支持许多其他编程语言).这是一个非常灵活的界面,在Material Cloud中,它进一步由AppMode插件提供动力,该插件默认情况下隐藏单元格并仅以类似于以下格式的格式显示输出(包括按钮,文本框和下拉列表之类的小部件)标准的交互式网页.材料云的jupyter界面如图3所示.,提供一个主页,可以在其中通过Web界面直接添加贡献的应用程序(面板a和b).任何人都可以提供应用程序,只需要在Materials Cloud App注册表中注册即可.为用户提供了已经预先配置了AiiDA和代码的工作空间,从而省去了任何设置时间.具有简单GUI的应用程序(参见图3c)显着简化了其他配置(例如,设置AiiDA与自定义计算集群进行交互).本节的唯一缺点是,它要求用户登录,因为用户可以访问一台完整的计算机,而不受限制地访问代码执行和Internet访问,但是,另一方面,它是创建自定义全自动工作流解决方案的理想平台材料特性的计算."
   ]
  },
  {
   "cell_type": "markdown",
   "metadata": {},
   "source": [
    "![fig3](https://media.springernature.com/lw785/springer-static/image/chp%3A10.1007%2F978-3-319-42913-7_64-1/MediaObjects/116042_0_En_64-1_Fig3_HTML.png)\n",
    "图3:  \n",
    "材料云的jupyter界面的三个屏幕截图.页面是使用AppMode插件自定义的,以使外观与标准网页非常相似.(a)主页,其顶部面板带有管理Material Cloud应用程序的主要工具,以显示终端或显示控制面板.在顶部,\"编辑应用程序\"按钮允许返回标准的jupyter笔记本界面.(b)应用程序管理器,该应用程序允许从Materials Cloud应用程序注册表中选择现有应用程序,并使它们显示在主页中.(c)只需单击几下即可安装新计算机的一种应用程序(在本例中为瑞士超级计算机中心的Piz Daint超级计算机)"
   ]
  },
  {
   "cell_type": "markdown",
   "metadata": {},
   "source": [
    "生成数据后(在jupyter部分中本地启用AiiDA),可以将其显示在两个部分中(发现(用于策展数据)和探索).(对于通过AiiDA生成的\"原始\"数据).研究人员可以使用第一部分来提供一个可访问的界面,以理解项目并通过动态数据过滤以及相应论文中显示的图形的交互式视图来展示其结果.可以在\"探索\"部分将数据链接到相应的AiiDA节点.在后者中,将数据及其来源可视化(可通过交互式图形浏览以检查生成数据的计算或找出将其用作输入的计算方式).计算总是与它们的完整输入和输出一起显示,这些输入和输出也可以直接查看或下载.材料云被设计为AiiDA的扩展,因此,如果模拟是使用AiiDA运行的,只需导入AiiDA导出文件,浏览部分就会自动填写.打个比方:AiiDA是一种用于在计算机上本地管理模拟和来源的工具,可以与本地用于组织和跟踪文件和源代码历史的Git进行比较.然后,Materials Cloud浏览部分充当GitHub,GitLab或类似的Web服务的角色,提供对存储库内容的Web浏览并充当共享的中央服务器.\n",
    "\n",
    "最后,Materials Cloud的第五部分是Archive,用于长期存储和传播研究结果.将DOI自动分配给每个提交的条目,并且标准化的元数据以XML开放档案馆倡议的元数据收集协议(OAI-PMH)格式(XML OAI-PMH 2018)公开.每个条目可以包含具有研究结果的文件,并且可以链接到相应的发现和探索部分.图4显示了材料云存档条目的示例屏幕截图."
   ]
  },
  {
   "cell_type": "markdown",
   "metadata": {},
   "source": [
    "![fig4](https://media.springernature.com/original/springer-static/image/chp%3A10.1007%2F978-3-319-42913-7_64-1/MediaObjects/116042_0_En_64-1_Fig4_HTML.png)\n",
    "图4:  \n",
    "材料云存档的条目,在本例中为SSSP伪电位库(?)的版本1.每个条目除了典型的元数据(例如作者,隶属关系和描述)外,还可以包含许多长期保存的文件.此外,条目可以直接链接到相应的发现或探索部分,其中数据可以在Web浏览器中直接可视化.材料云为每个条目分配一个DOI(材料云的前缀为10.24435),并要求作者选择许可证"
   ]
  },
  {
   "cell_type": "markdown",
   "metadata": {},
   "source": [
    "通过结合不同的部分,Materials Cloud实现了Sect中讨论的FAIR兼容平台.4.1.实际上,分配给存档部分中已发布研究数据的DOI可以实现可发现性.同时,如果数据是使用AiiDA生成的,则每个条目都可以链接到策划的发现部分和浏览部分,从而可以可视化计算的输入和输出,并且更广泛地探索数据出处.该实时Web界面使数据可访问(第二FAIR支柱),并且不会由于身份验证或软件安装而造成任何障碍.由于不同代码(例如,晶体结构,电子和声子能带或k)具有相同的数据,因此实现了互操作性(第三个FAIR支柱) -point集)以与代码无关的格式存储,并且计算的输出可用作不同代码的输入.最后,可重用性(第四个FAIR支柱)是通过获得所有计算的输入和输出并进行复制的可能性来保证的,再加上用户可以选择的大量许可选择(鼓励那些允许重用的许可,例如知识共享)那些)."
   ]
  },
  {
   "cell_type": "markdown",
   "metadata": {},
   "source": [
    "# 个使用AiiDA和材料云进行开放科学研究的示例\n",
    "为了更好地解释前面各节中描述的思想和工具,我们在此简要讨论两个由AiiDA管理并托管在\"材料云\"上的科学项目,这些项目演示了此处讨论的OSP的概念."
   ]
  },
  {
   "cell_type": "markdown",
   "metadata": {},
   "source": [
    "## SSSP伪电位库\n",
    "标准固态伪电势(SSSP)(Prandini et al.2018b)库为平面波密度泛函理论(DFT)代码(采用UPF格式)提供了精选的伪电势选择.SSSP由两个子库组成,分别通过对元素固体的多项收敛研究来优化精度和效率,以研究各种相关物理特性,包括区域边界声子,内聚能,压力和能带结构.伪电位库可在Material Cloud档案库中找到(Prandini等人2018a); 参见图4.\n",
    "\n",
    "在相应的发现部分,元素周期表使用颜色图例来指示每个元素的最佳伪电势并指示建议的临界值.单击一个元素会显示一个详细视图,其中包含所有收敛性研究和研究中所有伪电位的曲线图(状态方程,能带结构,能带棋盘).交互式图中的数据点是可单击的,并将用户带到浏览部分,其中包含所有数据的可浏览来源.使用Quantum ESPRESSO进行模拟,并由AiiDA管理,该模拟也跟踪了出处."
   ]
  },
  {
   "cell_type": "markdown",
   "metadata": {},
   "source": [
    "## 可剥离2D材料数据库\n",
    "在Mounet等人中.(2018年),作者通过筛选ICSD和COD数据库,对新型二维(2D)材料进行了高通量搜索.从超过100,000种独特的大量实验已知材料开始,他们可以首先使用几何算法检测约6000个由层组成的材料,然后通过DFT结合能计算(使用Quantum ESPRESSO并由AiiDA管理)完善此列表.由弱势力量捆绑在一起.通过这种方法,他们可以识别出大约1800种潜在或容易剥落的2D材料.此外,已经广泛研究了254种材料的子集(每个单位晶格最多可剥离6个原子),以计算相关的电子,振动和磁性能.这些结果和计算可在Material Cloud档案库中找到(Mounet et al.2017).同样在这种情况下,存档部分耦合到策划的发现页面(图 5).).在过滤页面中,可以通过表格,在元素周期表中选择元素或从结合能图中选取材料来选择2D结构.选择材料后,将显示一个详细视图,显示数据和结果,包括2D层的结合能,使用不同范德华函数计算的层间距离,磁性基态(还包括较大超级电池中的反铁磁性),电子乐队的结构和声子.这些是使用正确的2D物理计算得出的,该2D物理适当考虑了低维系统中的静电屏蔽,可以正确再现Γ附近的纵向和横向光学声子的行为(Sohier等人2017).最终结果(曲线图和数值)伴随着小的AiiDA图标,如图5b,c所示.这些是指向相应浏览页面的链接,用户可以在其中浏览其AiiDA出处来检查结果的计算方式."
   ]
  },
  {
   "cell_type": "markdown",
   "metadata": {},
   "source": [
    "![fig5](https://media.springernature.com/original/springer-static/image/chp%3A10.1007%2F978-3-319-42913-7_64-1/MediaObjects/116042_0_En_64-1_Fig5_HTML.png)\n",
    "图5:  \n",
    "可剥离2D材质部分的发现部分的屏幕截图.(a)三个选择页面之一,允许在使用DFT能量函数(包括或不包括范德华力贡献)进行计算时,基于其结合能和主体层间距离的变化来选择2D材料.其他选择视图包括元素周期表和详细表.(b)一种材料(在本例中为PtSe 2)的详细视图的顶部.该视图包括一个交互式结构3D可视化器,以及为此材料计算的主要属性.(c)详细视图的另一部分,显示了PtSe 2的电子能带结构.该图是交互式且可缩放的,并且默认路径(此处Γ  -M-K-  Γ)可由用户更改.在这里和面板b中,小的AiiDA图标都是将用户带到相应浏览部分的链接,以浏览相应数据的出处(带结构的出处如图1所示)."
   ]
  },
  {
   "cell_type": "markdown",
   "metadata": {},
   "source": [
    "# 结论\n",
    "在本章中,我们介绍了对开放科学平台的愿景.这样的平台应基于三个主要支柱,即:开放数据生成工具,开放集成平台和无缝数据共享.我们讨论了这些要求带来的挑战,并且展示了AiiDA代码和Materials Cloud平台的组合如何实现这三个支柱定义的目标.这些方面还通过使用两个工具的两个项目示例进行了演示,即SSSP伪势函数库和可剥离2D材料的数据库.实际上,如果使用AiiDA进行模拟,则生成的数据是可重现的,并且其来源(即生成方式)将自动跟踪和存储.AiiDA还有助于创建和引导自动工作流程以计算材料属性.与Material Cloud工作部分(尤其是jupyter子部分)结合使用时,可以通过直观,简单的界面显示高级工作流,从而最大程度地减少了访问和使用它们的障碍.此外,Materials Cloud的其他部分支持以FAIR兼容格式共享计算数据.按照数据管理计划的要求,将DOI分配给数据条目(长期保存),以使其可被找到.而且,这些条目通过与交互式视图的紧密结合而可以访问,以呈现策展的数据.后者链接到可浏览的图形,以访问和探索AiiDA自动跟踪的数据来源以及原始输入和输出文件."
   ]
  },
  {
   "cell_type": "markdown",
   "metadata": {},
   "source": [
    "# 参考文献\n",
    "\n",
    "\n",
    "AiiDA团队(2017a)Quantum mobile.https://www.materialscloud.org/work/quantum-mobile\n",
    "AiiDA团队(2017b)AiiDA插件注册表.https://aiidateam.github.io/aiida-registry/\n",
    "Aroyo MI,Perez-Mato JM,Orobengoa D,Tasci E,德拉弗洛尔G,基洛夫A(2011)在线晶体学:毕尔巴鄂晶体学服务器.Bulg Chem Commun 43(2):183–197\n",
    "Google学术搜索\n",
    "Belsky A,Hellenbrandt M,Karen VL,Luksch P(2002)无机晶体结构数据库(ICSD)的新进展:支持材料研究和设计的可访问性.Acta Cryst B 58(3 Part 1):364–369.https://doi.org/10.1107/S0108768102006948\n",
    "BlügelS,Bihlmayer G(2006)全势线性化增强平面波方法.在:计算纳米科学:自己动手!NIC系列,第31卷.John von Neumann计算研究所,Julich,第85页\n",
    "Google Scholar\n",
    "Clark SJ,Segall MD,Pickard CJ,Hasnip PJ,Probert MIJ,Refson K,Payne MC(2005)使用CASTEP的第一种原理方法.Z Kristallogr 220:567-570.https://doi.org/10.1524/zkri.220.5.567.65075\n",
    "Google学术搜索\n",
    " \n",
    "Curtarolo S,Setyawan W,Wang S,Xue J,Yang K,Taylor RH,Nelson LJ,Hart GL,Sanvito S,Buongiorno-Nardelli M,Mingo N,Levy O(2012)Aflowlib.org:来自分布式材料属性存储库高通量从头算.计算材料科学58(0):227–235.http://www.sciencedirect.com/science/article/pii/S0927025612000687\n",
    "CrossRefGoogle Scholar\n",
    "Dragoni D,Daff TD,CsányiG,Marzari N(2018)通过机器学习的原子间势实现dft精度:密件抄送铁磁铁的热力学和缺陷.Phys Rev Mater 2:013808.https://doi.org/10.1103/PhysRevMaterials.2.013808\n",
    "CrossRef\n",
    "Google Scholar\n",
    " \n",
    "Giannozzi P,Andreussi O,Brumme T,Bunau O,Nardelli MB,Calandra M,Car R,Cavazzoni C,Ceresoli D,Cococcioni M,Colonna N,Carnimeo I,Corso AD,de Gironcoli S,Delugas P Jr,RAD,Ferretti A,Floris A,Fratesi G,Fugallo G,Gebauer R,Gerstmann U,Giustino F,Gorni T,Jia J,Kawamura M,Ko HY,Kokalj A,KüçükbenliE,Lazzeri M,Marsili M,Marzari N,Mauri F,阮NL,阮HV,德拉罗萨AO,保拉托L,庞塞S,罗卡D,萨巴蒂尼R,桑特拉B,施利普M,Seitsonen AP,斯莫古诺夫A,蒂姆罗夫一世,吞豪瑟尔T,乌马里P,浩大N,吴X ,Baroni S(2017)使用量子浓缩咖啡进行材料建模的高级功能.J Phys Cond Matter 29(46):465901.http://stacks.iop.org/0953-8984/29/i=46/a=465901\n",
    "Gonze X,Jollet F,Araujo FA,Adams D,Amadon B,Applencourt T,Audouze C,Beuken JM,Bieder J,Bokhanchuk A,Bousquet E,Bruneval F,Caliste D,CôtéM,Dahm F,Pieve FD,Delaveau M ,根纳罗(Gennaro),多拉多(Dorado)B,埃斯佩霍(Espejo)C,Geneste G,热那亚(Genovese)L,格罗西耶(Gerossier)A,巨人(Giantomassi)M,吉列(Gillet Y),哈曼(Hamann D),赫尔(L.我,马丁A,马丁斯C,奥利维拉M,庞塞S,普永Y,Rangel T,瑞格南人GM,罗梅罗A,卢梭B,鲁贝尔O,舒克里A,斯坦科夫斯基M,洪流M,塞顿MV,特罗伊BV,Verstraete M, Waroquiers D,Wiktor J,Xu B,Zhou A,Zwanziger J(2016)abinit软件包的最新发展.计算物理通讯205:106–131.https://doi.org/10.1016/j.cpc.2016.04.003,http://www.sciencedirect.com/science/article/pii/S0010465516300923\n",
    "GražulisS,DaškevičA,Mercys A,Chateigner D,Lutterotti L,QuirósM,Serebyanaya NR,Moeck P,Downs RT,Le Bail A(2012)晶体学开放数据库(COD):晶体结构和平台的开放获取集合进行全球合作.核酸Res 40(D1):D420–D427.https://doi.org/10.1093/nar/gkr900\n",
    "CrossRef\n",
    "Google Scholar\n",
    " \n",
    "GražulisS,Merkys A,Vaitkus A,Le Bail A,Chateigner D,VilčiauskasL,Cottenier S,BjörkmanT,Murray-Rust P(2014)启动理论结晶学开放数据库.Acta Cryst A 70(a1):C1736.https://doi.org/10.1107/S2053273314082631,http://www.crystallography.net/tcod\n",
    "Hinuma Y,Pizzi G,Kumagai Y,Oba F,Tanaka I(2017)基于晶体学的能带结构图路径.Comput Mater Sci 128:140–184\n",
    "CrossRefGoogle学术搜索\n",
    "Hutter J,Iannuzzi M,Schiffmann F,VandeVondele J(2014)cp2k:凝聚态系统的原子模拟.Wiley Interdiscip修订版:Comp Mol Sci 4(1):15-25.https://doi.org/10.1002/wcms.1159,https://doi.org/10.1002/wcms.1159  \n",
    "Jain A,Hautier G,Moore CJ,Ping Ong S,Fischer CC,Mueller T,Persson KA,Ceder G(2011)一种用于密度泛函理论计算的高通量基础设施.计算问题科学50(8):2295-2310.http://www.sciencedirect.com/science/article/pii/S0927025611001133\n",
    "CrossRefGoogle Scholar\n",
    "Kresse G,FurthmüllerJ(1996)使用平面波基集对金属和半导体进行从头算的总能量计算效率.计算物质科学6(1):15-50.https://doi.org/10.1016/0927-0256(96)00008-0,http://www.sciencedirect.com/science/article/pii/0927025696000080\n",
    "Landis D,HummelshøjJ,Nestorov S,Greeley J,DułakM,Bligaard T,NørskovJ,Jacobsen K(2012)计算材料库.Comput Sci Eng 14(6):51–57\n",
    "CrossRefGoogle学术搜索\n",
    "拉尔森(Larsen)AH,莫尔滕森(Mortensen JJ),布隆奎斯特(Blomqvist)J,卡斯特利(Castelli)IE,克里斯滕森(Christensen)R,杜拉克(DułakM),弗里斯(Frisis J),格罗夫(MN),哈默斯B,哈格斯(Hargus C),爱马仕(Hermes)ED,詹宁斯(Jennings PC),詹森(Jensen)PB,克尔莫德(Kermode J),基钦(Kitchin),科尔斯比约(Kolsbjerg EL),库巴尔(Kubal)J ,Kaasbjerg K,Lysgaard S,Maronsson JB,Maxson T,Olsen T,Pasewka L,Peterson A,Rostgaard C,SchiøtzJ,SchüttO,Strange M,Thygesen KS,Vegge T,Vilhelmsen L,Walter M,Zeng Z,Jacobsen KW(2017)原子模拟环境-用于处理原子的python库.J物理压缩问题29(27):273002\n",
    "CrossRefGoogle Scholar\n",
    "Marini A,Hogan C,GröningM,Varsano D(2009)yambo:用于激发态计算的从头算工具.计算物理通讯180(8):1392-1403.https://doi.org/10.1016/j.cpc.2009.02.003,http://www.sciencedirect.com/science/article/pii/S0010465509000472\n",
    "材料云(2017)https://www.materialscloud.org\n",
    "Merkys A,Mounet N,Cepellotti A,Marzari N,GražulisS,Pizzi G(2017)来自自动出处跟踪的后验元数据:aiida和tcod的集成.化学文摘9(1):56.https://doi.org/10.1186/s13321-017-0242-y\n",
    "CrossRefGoogle Scholar\n",
    "Mounet N,Gibertini M,Schwaller P,Campi D,Merkys A,Marrazzo A,Sohier T,Castelli IE,Cepellotti A,Pizzi G,Marzari N(2017)二维材料来自实验已知化合物的高通量计算剥落(数据下载).Mater云存档.https://doi.org/10.24435/materialscloud:2017.0008/v1\n",
    "Google学术搜索\n",
    " \n",
    "Mounet N,Gibertini M,Schwaller P,Campi D,Merkys A,Marrazzo A,Sohier T,Castelli IE,Cepellotti A,Pizzi G,Marzari N(2018)来自实验已知化合物的高通量计算剥落的二维材料.Nat Nanotech 13:246-252.https://doi.org/10.1038/s41565-017-0035-5\n",
    "ADSCrossRefGoogle Scholar\n",
    "Nomad Meta Info(2018)https://metainfo.no​​mad-coe.eu/nomadmetainfo_public/archive.html\n",
    "Ong SP,Richards WD,Jain A,Hautier G,Kocher M,Cholia S,Gunter D,Chevrier VL,Persson KA,Ceder G(2013)Python材料基因组学(pymatgen):一个健壮的开源python库,用于材料分析.计算物质科学68(0):314–319.https://doi.org/10.1016/j.commatsci.2012.10.028,http://www.sciencedirect.com/science/article/pii/S0927025612006295\n",
    "ParthéE,Gelato LM(1984)无机晶体结构数据的标准化.晶体学报40(3):169–183.https://doi.org/10.1107/S0108767384000416\n",
    "CrossRefGoogle学术搜索\n",
    "Pizzi G,Cepellotti A,Sabatini R,Marzari N,Kozinsky B(2016)Aiida:用于计算科学的自动化交互式基础架构和数据库.计算问题科学111:218–230.https://doi.org/10.1016/j.commatsci.2015.09.013\n",
    "CrossRefGoogle Scholar\n",
    "Prandini G,Marrazzo A,Castelli IE,Mounet N,Marzari N(2018a)固态pseudo势计算的精度和效率,arXiv:1806.05609\n",
    "Google Scholar\n",
    "Prandini G,Marrazzo A,Castelli IE,Mounet N,Marzari N(2018b)一个经过优化以提高准确性和效率的标准固态伪电势(SSSP)库(1.0版,数据下载).Mater云存档.https://doi.org/10.24435/materialscloud:2018.0001/v1 \n",
    "Ramakrishnan R,Dral PO,Rupp M,von Lilienfeld OA(2014)134 kg分子的量子化学结构和性质.科学数据1:140022\n",
    "CrossRefGoogle Scholar\n",
    "Saal JE,Kirklin S,Aykol M,Meredig B,Wolverton C(2013)高通量密度泛函理论的材料设计和发现:开放量子材料数据库(oqmd).JOM 65(11):1501-1509.https://doi.org/10.1007/s11837-013-0755-4\n",
    "CrossRefGoogle Scholar\n",
    "Shmueli U(ed)(2010)晶体学国际表B:倒数空间,第二版.国际晶体学联盟.https://doi.org/10.1107/97809553602060000108\n",
    "Google学术搜索\n",
    "Sohier T,Gibertini M,Calandra M,Mauri F,Marzari N(2017)二维二维材料中光子分裂的分解.纳米Lett 17(6):3758–3763.https://doi.org/10.1021/acs.nanolett.7b01090\n",
    "ADS\n",
    "CrossRef\n",
    "Google Scholar\n",
    " \n",
    "Soler JM,Artacho E,Gale JD,GarcíaA,Junquera J,OrdejónP,Sánchez-PortalD(2002)从头算阶n材料模拟的午休方法.J Phys Condens Matter 14(11):2745\n",
    "ADSCrossRefGoogle Scholar\n",
    "The Nomad Repository(2018)https://repository.nomad-coe.eu\n",
    "多哥A(2018)spglib.https://atztogo.github.io/spglib/\n",
    "Van Noorden R,Maher B,Nuzzo R(2014)排名前100的论文.自然514:550–553.https://doi.org/10.1038/514550a\n",
    "ADSCrossRefGoogle Scholar\n",
    "Villars P,Berndt M,Brandenburg K,Cenzual K,Daams J,Hulliger F,Massalski T,Okamoto H,Osaki K,Prince A,Putz H,Iwata S(2004)打包文件,二进制版本.J合金计算367(1-2):293-297.https://doi.org/10.1016/j.jallcom.2003.08.058\n",
    "CrossRefGoogle Scholar\n",
    "威尔金森医学博士,杜蒙帖M,阿尔伯斯伯格IJ,阿普尔顿G,阿克斯顿M,巴克A,布隆伯格N,博伊特JW,达席尔瓦-桑托斯LB,伯恩PE,布曼J,布鲁克斯AJ,克拉克T,克罗萨斯M,迪洛I,杜蒙O, Edmunds S,Evelo CT,Finkers R,Gonzalez-Beltran A,Gray AJG,Groth P,Goble C,Grethe JS,Heringa J,'t Hoen PAC,Hooft R,Kuhn T,Kok R,Kok J,Lusher SJ,Martone我,蒙斯A,帕克AL,佩尔森B,罗卡-塞拉P,罗斯M,范Schaik R,Sansone SA,舒尔特斯E,桑塔格T,斯莱特T,Strawn G,Swertz MA,汤普森M,范德雷J,范Mulligen E,Velterop J,Waagmeester A,Wittenburg P,Wolstencroft K,Zhao J,Mons B(2016)科学数据管理和管理的公平指导原则.Sci Data 3:160018 EP –.https://doi.org/10.1038/sdata.2016.18 \n",
    "XML OAI-PMH(2018)http://www.openarchives.org/pmh/\n",
    "Zenodo(2018)https://zenodo.org\n"
   ]
  }
 ],
 "metadata": {
  "kernelspec": {
   "display_name": "Python 3",
   "language": "python",
   "name": "python3"
  },
  "language_info": {
   "codemirror_mode": {
    "name": "ipython",
    "version": 3
   },
   "file_extension": ".py",
   "mimetype": "text/x-python",
   "name": "python",
   "nbconvert_exporter": "python",
   "pygments_lexer": "ipython3",
   "version": "3.7.6"
  },
  "toc": {
   "base_numbering": 1,
   "nav_menu": {},
   "number_sections": true,
   "sideBar": true,
   "skip_h1_title": false,
   "title_cell": "Table of Contents",
   "title_sidebar": "Contents",
   "toc_cell": false,
   "toc_position": {},
   "toc_section_display": true,
   "toc_window_display": false
  },
  "varInspector": {
   "cols": {
    "lenName": 16,
    "lenType": 16,
    "lenVar": 40
   },
   "kernels_config": {
    "python": {
     "delete_cmd_postfix": "",
     "delete_cmd_prefix": "del ",
     "library": "var_list.py",
     "varRefreshCmd": "print(var_dic_list())"
    },
    "r": {
     "delete_cmd_postfix": ") ",
     "delete_cmd_prefix": "rm(",
     "library": "var_list.r",
     "varRefreshCmd": "cat(var_dic_list()) "
    }
   },
   "types_to_exclude": [
    "module",
    "function",
    "builtin_function_or_method",
    "instance",
    "_Feature"
   ],
   "window_display": false
  }
 },
 "nbformat": 4,
 "nbformat_minor": 2
}
