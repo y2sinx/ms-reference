{
 "cells": [
  {
   "cell_type": "markdown",
   "metadata": {},
   "source": [
    "[The AFLOW Fleet](https://link.springer.com/referenceworkentry/10.1007/978-3-319-42913-7_63-2)"
   ]
  },
  {
   "cell_type": "markdown",
   "metadata": {},
   "source": [
    "**摘要**:  \n",
    "最近,材料发现的传统范例已经扩展到包含大量数据驱动的研究.AFLOW Fleet计划材料设计旨在加速新技术的开发和部署,实现高吞吐量的第一性原理计算,并为广大用户群提供数据验证和传播工具.AFLOW结合了不同的计算模块,可以稳健地确定热力学稳定性,电子能带结构,振动分散,热机械性能等.AFLOW数据存储库可在aflow.org在线公开访问,拥有超过180万个材料条目和一系列可查询的计算属性.还提供了以编程方式搜索和处理数据以及执行在线机器学习预测的工具."
   ]
  },
  {
   "cell_type": "markdown",
   "metadata": {},
   "source": [
    "# 简介  \n",
    "AFLOW Fleetis是用于**自动化材料设计**的集成软件基础设施, 中心围绕用于计算材料学的**自动化工作流**(AFLOW: Automatic Flow)框架. 设有多个科学软件包,包括AFLOW高通量框架, AFLOW π适当通量框架, 和PAOFLOW,用于电子结构分析效用, 拥有AFLOW.org数据储存库, REST-API,和AFLUX-Search-API. 这些元件易于彼此集成:一个Python + JSON接口连接AFLOW,AFLOW π,和PAOFLOW; 并且所有软件包都通过REST-API和Search-API访问AFLOW.org存储库.  \n",
    "\n",
    "已经发展的类似的基础设施有材料项目(Jain,2013), NoMaD(Scheffler,2014), OQMD(Saal,2013),计算材料库(Landis,2012),和AiiDA(Pizzi,2016年). 材料项目使用pymatgen(Ong,2013)(Python-language data generationsoftware infrastructure),他们的存储库可在`materialsproject.org`上获得. NoMaD(The Novel Materials Discovery)  维持一个总库可在`nomad-repository.eu`, 包含其他框架(包括AFLOW)生成的数据. OQMD 使用这样的工具如qmpy以生成他们的数据库, 它可以在`oqmd.org`被访问. ASE被用于生成计算材料库, 可在`cmr.fysik.dtu.dk`获得. ASE脚本接口亦被AiiDA所使用, AiiDA框架可在`aiida.net`上获得,该框架围绕关系数据库进行整体设计和数据存储. 其他的材料的设计实用程序包括**HTTK**及与之相关联的[开放材料数据库](httk.openmaterialsdb.se)(Open Materials Database), 以及可在[材料矿数据库](www.materials-mine.com)(Materials Mine database), 而计算上预测的晶体结构可以从理论[晶体学开放数据库](www.crystallography.net/tcod/)获得."
   ]
  },
  {
   "cell_type": "markdown",
   "metadata": {},
   "source": [
    "AFLOW舰队采用DFT来执行量子力学计算(需要从第一原理获得的材料性能).这些DFT计算由外部软件包进行,在AFLOW中使用VASP, 在AFLOWπ中使用 Quantum ESPRESSO. 结果存储在AFLOW.org存储库中并通过 aflow.org门户网站免费在线提供,该门户网站可通过AFLOW Data REST-API和AFLUX Search-API分别以编程方式访问和搜索. 该存储库目前包含超过180万个材料条目的计算属性,包括实验观察和理论预测结构,并且不断添加新结果. AFLOW数据成功应用于\n",
    "* 制定形成无序材料的描述符,如金属玻璃\n",
    "* 寻找新的磁性材料和超合金\n",
    "* 产生用于合金体系相图,并确定新的有序化合物\n",
    "* 训练机器学习模型以识别潜在的超导体并预测电子和热机械特性"
   ]
  },
  {
   "cell_type": "markdown",
   "metadata": {},
   "source": [
    "#  AFLOW:高效的数据生成\n",
    "计算材料科学的AFLOW框架可以自动化材料属性计算的完整工作流程. 使用一组标准的计算参数, 可以为VASP-DFT软件包自动生成输入文件. 计算在运行时进行监控,以检测并纠正错误,而无需任何用户干预. 然后提取和处理有用的材料数据,以便通过AFLOW.org存储库进行传播. 整个框架采用C ++编程语言编写, 为可靠的高性能连续基础架构开发提供了强大的平台."
   ]
  },
  {
   "cell_type": "markdown",
   "metadata": {},
   "source": [
    "## AFLOW:自动化工作流程  \n",
    "AFLOW提供多种自动化工作流程,每种工作流程专用于特定类型的表征,从而产生一组材料属性.对于电子属性,AFLOW执行四次DFT计算:两轮几何松弛(阶段名称:\"RELAX\")使用VASP共轭梯度优化算法,静态运行(即固定几何;阶段名称:\"STATIC\")和更密集k点网格获得精确的状态密度,并且沿着AFLOW标准路径通过布里渊区域中的高对称k点的带结构计算(阶段名称:\" BANDS\" ).  \n",
    "\n",
    "AFLOW中的其他工作流程管理DFT计算的集合,所有这些都为高吞吐量处理提供相同的自动纠错程序.\n",
    "*对于热和弹性性质,德拜- Grüneisen模型与组合甲 utomatic é lasticity 大号 ibrary(AEL)(Toher等人2017年)所描述的在Sect.2.6.一个更精确的热特性可以与声子计算的有限位移方法(解决甲 utomatic P honon 大号 ibrary,APL)(Nath等.2016)和其相关联的附加信息,即, q uasi- ħ armonic一个 pproximation(QHA-APL)(Nath等. 2016)和阿 utomatic甲 nharmonic P honon大号 ibrary(Apple)(Plata的等人 2017),如在Sect.中描述.2.7.AFLOW还延伸到理想的晶体材料表征,提供模块来研究非化学计量材料(AFLOW-POCC,第 2.5节)(Yang等人, 2016),并预测金属玻璃形成与成分的关系(Perim等人, 2016))*"
   ]
  },
  {
   "cell_type": "markdown",
   "metadata": {},
   "source": [
    "##  AFLOW:原型库  \n",
    "AFLOW框架使用装饰的晶体结构原型进行材料发现(Mehl等人,2017).结构原型是通常在自然界中观察到的原子的特定排列,例如岩盐,闪锌矿和纤锌矿结构.这些原型中的原子位点填充有不同的元素种类以产生材料结构,然后从DFT计算获得性质和热力学稳定性.AFLOW中包含的大量结构原型列表已在Mehl等人的文章中发表.(2017年),可在http://aflow.org/CrystalDatabase在线获取.  \n",
    "网站内的页面显示每个结构原型的精选数据列表,包括展示此结构的材料,各种对称描述,原始和原子基矢量,以及观察结构的原始参考.伴随这些描述的是原型的交互式Jmol可视化,如Sect.2.8.该页面还包含一个原型生成器,其中定义了结构自由度和原子种类,以通过利用AFLOW原型模块创建新材料.这产生了许多从头软件包之一相应的输入文件,包括VASP(Kresse和哈夫纳1993 ; Kresse和Furthmüller 1996),量子ESPRESSO(Giannozzi等人2009年,2017年),ABINIT(Gonze等人2002),和FHI-AIMS(Blum等人,2009年"
   ]
  },
  {
   "cell_type": "markdown",
   "metadata": {},
   "source": [
    "## AFLOW-SYM:对称分析仪  \n",
    "AFLOW框架自动分析材料结构的对称性并返回完整的对称描述.为解决数值公差问题,AFLOW采用原子映射程序,即使对于非正交单位单元也是可靠的,并使用自适应容差方案来确保对称性结果与晶体学原理相称(见图1).这些例程 - 称为AFLOW-SYM(Hicks等人,2018) - 非常强大,并已被用于成功确定AFLOW存储库中超过180万种材料的对称性.\\n在新窗口中打开图像图.1\\n图.1\\n公差 - 球体翘曲的可视化和自适应公差法.(a)在一般情况下从笛卡尔坐标转换为分数坐标时空间翘曲的图示.(b)AFLOW-SYM确定的具有不同容差选择的空间群的频谱\\n\\n通过确定导致原始原子和转换原子之间的同构映射的对称算子集来识别结构等距.该结构表现出的特定操作下对称如果设定最接近映射距离均小于容差阈值ε 0.周期性边界条件引入了寻找最小映射向量的复杂性,需要探索相邻小区.这是通过图像方法实现的,通过(i)单元格扩展,产生全局最佳距离或(ii)单元格内置方法(通常以分数坐标执行),独立地减少距离向量的每个分量.虽然与单位单元扩展相比计算上便宜,但是带内单元方法仅对于正交格子是精确的(即,由对角度量张量描述),因为它不考虑晶格向量之间的重叠(参见图1a). .为了安全地利用外带的细胞的方法,AFLOW-SYM采用启发式的最大公差ε 最大基于最大晶格偏度和阈值,可确保一致和准确的结果(Hicks等,2018).\\n\\n给定特定的公差值,可以在晶体的描述中实现或排除不同的对称操作.图1 b亮点公差值如何影响的AgBr的可能的空间群(#ICSD 56551与报道空间群#11).相邻空间群区域与非同构子群关系一致,即,在空间组#59和#11之间以及#225和#166之间.然而,在#59和#166空间组之间出现间隙或\"混淆\"容忍区域(没有直接的子组关系).有问题的区域源于结构数据中的噪声,阻碍了与对称原理一致的操作识别.该问题通过使用从输入公差延伸的径向公差扫描解决ε 0.给定容差的变化,算法重新计算并验证所有对称属性,直到识别出全局一致的描述.\\n\\nAFLOW-SYM与许多建立从头输入文件,包括那些VASP(Kresse和Furthmüller兼容1996年),量子ESPRESSO(Giannozzi等人.2009年,2017年),ABINIT(Gonze等2002),和FHI-AIMS( Blum等,2009).从结构信息来看,AFLOW-SYM提供了晶格,晶体(晶格+原子),互易晶格,超晶格(同等装饰部位)和晶体自旋(晶格+原子+磁矩)的对称性.这提供了大量的对称描述,例如空间组编号/符号,Pearson符号,点组符号,Wyckoff位置和Bravais点阵类型/变化(Setyawan和Curtarolo)2010).此外,不同对称组的操作符 - 包括点组,因子组,空间组和站点对称 - 以旋转矩阵,轴角,矩阵生成器和四元数表示形式提供给用户,以便于操作.所有对称函数都支持以JSON格式输出的选项.这允许AFLOW-SYM从其他编程语言(如Java,Go,Ruby,Julia和Python)中利用,从而促进将AFLOW-SYM整合到众多应用程序和工作流程中."
   ]
  },
  {
   "cell_type": "markdown",
   "metadata": {},
   "source": [
    "## AFLOW-CHULL:凸壳分析  \n",
    "来自AFLOW.org储存库的结构和能量数据用于解决复合系统的低温/低压热力学稳定性.对于给定的化学计量,AFLOW.org储存库提供各种晶体多晶型物的DFT能量.通过探索代表性的结构的整个范围内的化学计量的,AFLOW-CHULL(操作系统等人.2018)构建体的最小能量表面,即,下半凸包(Barber等人.1996年),定义系统的热力学稳定性(在零温度和压力下).船体上的结构是热力学稳定的(基态),而远离船体的结构将分解成稳定相的组合,在这些条件下决定合成性.对船体的任何分析都需要足够的统计数据来确保收敛,即合金系统计算中包含足够的代表性结构,这样任何额外的条目都不会改变最小能量表面.\\n\\n几何结构提供了几个对合成性至关重要的关键特性.对于特定的组成,到船体的能量距离量化了分解过程中释放的能量,而限定化合物下面的连接线/小平面的基态阶段是反应的产物.与船体的距离也测量不稳定性的\"严重性\",即船体附近的结构可以在较高温度或压力下稳定.类似地,通过从集合中移除相位并测量化合物与新船体的距离,可以为基态相量化稳健的稳定性标准.距离越大,就越有可能在基态相将在更高的温度/压力变得不稳定(Sanvito等人2017年).广义连接线(小平面脊)决定哪些相可以在平衡中共存,并在确定合成/处理技术的可行性方面发挥作用,例如沉淀硬化(Nyshadham等人,2017).\\n\\n给定复合系统,AFLOW-CHULL自动查询AFLOW.org数据库,构造船体,计算上述属性,并以下列格式之一提供信息:PDF,纯文本和JSON.AFLOW-CHULL还可以显示2D和3D船体,如图2所示.对于PDF输出格式,包含超链接以允许对通过AFLOW.org存储库提供的完整属性集的其他查询.还添加了链接,将船体可视化连接到相关属性,以便轻松导航完整的PDF文档.\\n在新窗口中打开图像图2\\n图2\\nAFLOW提供的凸包图示例.(a)由AFLOW自动生成的CuZr系统的2D凸包.(b)CuMnZn系统的3D凸包通过AFLOW-CHULL在线申请:http://aflow.org/aflow-chull\\n\\n一个单独的在线申请,可在aflow.org/aflow-chull获得,已经创建,以展示AFLOW-CHULL的结果,并提供交互式二进制和三元凸壳可视化.该应用程序由四个组件组成:周期表,可视化视口,选定条目列表和比较页面.周期表组件是应用程序的入口点,并提供搜索不同合金系统的凸包的接口.周期表中的元素在被选择时响应以向用户显示信息.在进行选择时,每个边框的颜色将根据船体可靠性变为绿色,黄色和红色.启发式地定义了二元船体的200种化合物的可靠性阈值.以绿色突出显示的选项远高于此阈值,而黄色/红色的选项则接近/低于截止值.\\n\\n选择外壳后,应用程序将转换为可视化视口组件.根据所选元素的数量,将出现2D绘图(二进制)或3D绘图(三元).每个图都是交互式的,允许选择点,其中每个点代表AFLOW存储库中的一个条目.每个点的信息显示在所选条目列表组件中,可通过导航栏访问.选定的船体将作为卡片网格出现在比较页面上,并且所有包含这些条目的船体将突出显示所选择的点."
   ]
  },
  {
   "cell_type": "markdown",
   "metadata": {},
   "source": [
    "## FLOW-POCC:部分职业   \n",
    "所述AFLOW P artial 旧瓦楞纸箱 upation模块(AFLOW-POCC)(Yang等人.2016)模型构和结构紊乱,包括置换,空位,和随机晶格位置的职业,通过生成一组代表性配置.首先,确定超细胞尺寸,其将分数化学计量调节到用户定义的公差内.给定超晶胞尺寸n,使用Hermite Normal Form矩阵(Hart和Forcade 2008)生成超晶格,然后根据化学计量进行装饰以产生所有可能的配置,如图3所示..重复配置迅速识别并通过估计使用每个结构的能量消除û niversal ˚F奥尔塞˚F ield(UFF)模型(Rappe等人1992).使用DFT计算剩余唯一配置的属性,并进行整体平均以解决无序材料的系统范围属性.整体平均值采用玻尔兹曼分布权重,其是无序参数(温度),相对于基态配置的能量和由UFF模型确定的简并性的函数.集合平均属性包括电子带隙,状态密度和磁矩.\\n在新窗口中打开图像图3\\n图3\\n非化学计量材料建模的结构枚举.对于非化学计量材料ZnS 0.25 Se 0.75,尺寸n \\u2009= 4 的超晶格精确地适应化学计量.通过考虑装饰超级单元的所有可能性并通过UFF能量消除重复,七个结构被识别为唯一的.这些代表性结构完全由AFLOW和VASP表征,并进行整体平均以解决系统范围的特性"
   ]
  },
  {
   "cell_type": "markdown",
   "metadata": {},
   "source": [
    "## AEL和AGL:热机械特性  \n",
    "所述AFLOW 甲 utomatic é lasticity 大号 ibrary(AFLOW-AELToher等人2017)和AFLOW 甲 utomatic ģ IBBS 大号 ibrary(AFLOW-AGL Toher等人.2014)模块确定来自应变原始细胞的计算热机械材料特性.这些方法通常在计算上比在Sect中描述的声子(APL和AAPL)计算成本更低.2.7虽然APL和AAPL通常可以提供更加定量准确的结果,特别是对于非谐效应很重要的属性.AEL和AGL已合并为一个自动化工作流程,该工作流程已用于计算AFLOW存储库中5000多种材料的热机械特性.\\n\\n的AEL模块应用一组独立的法向和剪切应变的材料的原始细胞(de Jong的等人2015 ; Toher等人2017).如图1所示4和使用DFT来计算得到的应力张量.这组应变应力数据用于生成弹性刚度张量,即弹性常数:\\n⎛⎝⎜⎜⎜⎜⎜⎜⎜⎜σ11σ22σ33σ23σ13σ12⎞⎠⎟⎟⎟⎟⎟⎟⎟⎟= ⎛⎝⎜⎜⎜⎜⎜⎜⎜⎜C11 C12 C13 C14 C15 C16C12 C22 C23 C24 C25 C26C13 C23 C33 C34 C35 C36C14 C24 C34 C44 C45 C46C15 C25 C35 C45 C55 C56C16 C26 C36 C46 C56 C66⎞⎠⎟⎟⎟⎟⎟⎟⎟⎟⎛⎝⎜⎜⎜⎜⎜⎜⎜⎜ε11ε22ε332 ε232 ε132 ε12⎞⎠⎟⎟⎟⎟⎟⎟⎟⎟\\n(1)\\n使用映射(Poirier 2000)以6×6 Voigt表示法编写:11↦1,22↦2,33↦3,23↦4,13↦5,12↦6.将这些弹性常数组合以计算Voigt,Reuss和Voigt-Reuss-Hill(VRH,B VRH和G VRH)近似中的体积B和剪切G弹性模量.泊松比ν由下式给出:\\nν=3BVRH−2GVRH6BVRH+2GVRH.\\n(2)\\n在新窗口中打开图像图4\\n图4\\n用AFLOW计算热机械性能的扭曲几何的集合.AEL使用来自一组(a)正常和剪切应变细胞的应力来获得弹性常数.AGL计算一组(b)各向同性压缩和扩展的单位晶胞的能量,并且(c)\\u2009通过数值多项式或经验状态方程拟合得到的E(V)数据.APL 从一组双原子位移中获得(d)二阶谐波IFCs和从一组双原子位移中获得(e)三阶非调和IFCs\\n\\n的AGL模块基于吉布斯(Blanco等人.1996年,2004年)准谐波德拜- Grüneisen模型,并计算能量作为体积的函数,ë(V \\u2009),对于一组的各向同性压缩和扩张的菌株的原始细胞,如图所示4湾 所述È(V \\u2009)数据由任一数值多项式或状态的经验方程来获得绝热体积模量嵌合乙小号(V \\u2009),如示于图4 ℃.德拜温度θ d(V\\u2009)然后使用以下表达式计算体积的函数:\\nθd= ℏķ乙[ 6个π2V1 / 2n ]1 / 3F(ν)B小号中号- - - √,\\n(3)\\n其中n是每单位晶胞的原子数,M是晶胞质量,f(ν)是泊松比ν的函数:\\n在新窗口中打开图像\\n(4)\\n其中ν可以从方程式获得.2使用AEL或由用户直接设置.对自由能的振动贡献F vib由下式给出:\\n在新窗口中打开图像\\n(5)\\n其中d(θ d / Ť)是德拜积分:\\nD (θd/ T.) = 3 (T.θd)3∫θd/ T.0X3ËX- 1dx .\\n(6)\\n吉布斯自由能来自:\\nG(V;p,T)=EDFT(V)+Fvib(θD(V);T)+pV.\\n(7)\\n这最小化体积ģ(V \\u2009; p,Ť在给定压力)p和温度Ť是平衡体积V 当量,这是用于评价θ d(V 当量)和Grüneisen参数γ由定义为:\\nγ=−∂ log(θD(V))∂ logV.\\n(8)\\n最后,θ d和γ来计算其他热特性,包括Ç V,Ç p,α V,和κ 大号(Toher等人2014 ; Blanco等人,2004年"
   ]
  },
  {
   "cell_type": "markdown",
   "metadata": {},
   "source": [
    "## AFLOW-APL:声子  \n",
    "所述AFLOW 甲 utomatic P honon 大号 ibrary(AFLOW-APL)(的Curtarolo等2012A)计算采用有限位移法的晶体的谐波振动性质.计算属性包括声子色散和状态密度,振动熵,以及作为温度函数的热容量(在恒定体积,C V).这些特性是通过声子模式的分析来确定,通过所访问的我 nteratomic ˚F奥尔塞Ç onstants(的IFC)(Maradudin等人1971年 (Svib)).对于第一近似,谐波(二阶)IFC C i,j ; 当原子j在β方向上移位时,α,β是在原子i上沿α方向施加的力的负值,所有其他原子保持其平衡位置.为了确定力,结构的原子(超晶胞)被单独扰动,如图4所示d.使用Hellmann-Feynman定理,利用DFT从总能量的导数获得力.超级单元用于充分捕获/隔离变形对结构的影响; 小细胞的扭曲会对所有原子及其周期性图像产生作用力.\\n\\n给定输入结构,AFLOW创建用于计算力的全套扭曲超晶胞结构.为了最大限度地减少昂贵的DFT计算(主要计算瓶颈)的数量,AFLOW-SYM(参见第2.3节)用于确定哪些失真使用站点对称性对称等效.只应用和明确计算不等效的失真.然后使用对称性来适当地构造IFC矩阵,从中构造动态矩阵并且导出声子模式,能量和群速度.\\n\\nAPL已经扩展到包括准谐波的计算(q uasi- ħ armonic 一个 pproximation APL,QHA-APL Nath等.2016,2017)和非谐(甲 utomatic 甲 nharmonic P honon 大号 ibrary,AAPL Plata的等.2017年),以获得性能的效果,如在恒定压力下的热容量ç p,体积热膨胀系数α V,和晶格热导率κ 大号.\\n\\nQHA-APL在多个不同的音量下执行谐波APL计算,并从声子频率相对于音量的变化中提取Grüneisen参数:\\nγi=−Vωi∂ωi∂V.\\n(9)\\n的Grüneisen参数可以组合使用具有谐波特性,如Ç V来计算Ç p,α V(Nath等.2016),和κ 大号(Nath等.2017年).\\nAAPL通过一次扭曲在一超晶格结构中的两个原子如图1所示获得三阶非谐的IFC.4 e和然后计算在其它原子中的力的变化(普拉塔等人2017).这些IFC用于计算三声子散射率,从而计算散射时间和平均自由位移.这些量与从谐波APL得到解决玻尔兹曼输运方程,并计算群速度合并κ 大号定量精度(Plata的等人2017"
   ]
  },
  {
   "cell_type": "markdown",
   "metadata": {},
   "source": [
    "## AFLOW:可视化工具  \n",
    "AFLOW利用一整套可视化工具处理材料数据,包括标准软件,如gnuplot,latex和xmgrace,用于声子色散,电子带结构,电子态密度和凸包可视化.这些图通过AFLOW.org存储库公开提供.   \n",
    "为了可视化晶体结构, AFLOW采用了Jmol软件, 该软件为AFLOW特定应用提供了大量功能. 该软件的JSmol分支为AFLOW.org存储库条目页面和AFLOW原型库页面中的在线晶体结构可视化提供支持. 通过最近添加的POSCAR阅读器,JSmol提供了各种功能,包括不同的视角,超级单元扩展和不同的单位单元表示. 目前正在纳入一个类似的可视化应用程序, 显示布里渊区域中的AFLOW标准高对称路径(Setyawan和Curtarolo 2010),如图5所示. 另外,Jmol桌面客户端为合金系统的可视化提供了一个专用的宏(aflow),它利用了AFLUX Search-API.  \n",
    "> 图5使用Jmol对晶体结构和布里渊区进行逐个大小的可视化. 突出显示的结构是Ag 3 KS 2(ICSD#73581):http://aflow.org/material.php ? id = Ag6K2S4_ICSD_73581 .布里渊区(Setyawan和Curtarolo 2010)阐述了高对称k点的AFLOW标准路径"
   ]
  },
  {
   "cell_type": "markdown",
   "metadata": {},
   "source": [
    "# AFLOW π:极简高通量  \n",
    "AFLOW π框架最初被实现为简约的软件来执行核查任务(见第5.7上AFLOW.org公布的数据).通过设计,AFLOW π易于安装并延伸到(目前仅在多种电子结构码量子ESPRESSO Giannozzi等人实现. AFLOW π基础上的Python的通用性,提供一个模块,以制备,运行和分析大量第一原理计算的,并且包括用于所述自动工具p上伪rojection 一个托米奇Ôrbitals(PAO;见第4节)和A gapito,C urtarolo和B uongiorno N ardelli(ACBN0)方法中的Hubbard U校正的自洽计算(Agapito等人2015 ; Andrade等人2015).另外,工作流程弹性常数,扩散传输系数,光学光谱,和声子的分散体与DFT +的计算ù(参照图6一个用于评估哈伯德的效果ü校正使用APL计算出的声子的分散体)均包括在内.如果可能的话,AFLOW π像D\\'Amico等人那样利用紧密结合的哈密顿人.(2016).计算结果可以很容易地打包和准备,以便合并到AFLOW.org数据库中(参见第5节)."
   ]
  },
  {
   "cell_type": "markdown",
   "metadata": {},
   "source": [
    "> 图6\\n振动光谱与AFLOW计算π和AFLOW-APL(左)和具有PAOFLOW(右)计算的电子特性.(一)的CaF的声子色散2与APL计算(Plata的等人2017年作为内AFLOW实现),使用ACBN0方法π(绿线).使用PBE获得的结果由破碎的橙色线显示用于比较.蓝色三角形和红色未填充的正方形表示来自Schmalzl等人的中子散射数据.(2003)和Elcombe和Pryor(1970),而紫色钻石代表来自Kaiser等人的拉曼和红外数据.(1962).(b)电子的能带结构,小号针ħ所有Ç onductivity(SHC),和(ç)的节线和外尔的HfC点的自旋质地,作为使用PAOFLOW效用计算"
   ]
  },
  {
   "cell_type": "markdown",
   "metadata": {},
   "source": [
    "# PAOFLOW:快速表征  \n",
    "PAOFLOW(Buongiorno的纳德利等人2017年)是一种独立的工具有效地后处理标准DFT假电位平面波计算,来产生吨 ight- b inding(TB)汉密尔顿其忠实地再现所计算的电子结构(特征值和.本征向量),在倒易空间(任意精度阿加皮托等人2013,2016a,b)(参见图6 b.对于PAOFLOW生成的HfC带结构(ICSD#169399,空间群#187,AFLOW原型:AB_hP2_187_d_a)).通过利用TB形式的简单性和快速傅立叶变换的效率,PAOFLOW对带结构进行插值并计算动量算子的矩阵元素p m,n.这些用于改善积分量的质量,例如状态密度(自适应拖尾),计算恒定弛豫时间近似内的电子传输系数,以及计算介电常数(D\\'Amico等人,2016).此外,p m,n矩阵元素有助于计算Berry曲率和相关特性(霍尔电导率异常,自旋霍尔电导率(见图6)b),磁圆二色\\u200b\\u200b性,自旋圆二色性; 参见图53中的HfC节线和外尔点的自旋结构.6 ℃).从良好插值的带结构开始,还可以计算拓扑不变量.\\n\\n由于PAOFLOW软件提供的电子结构的局部表示,表面投影带结构和Landauer弹道传输也可以在PAOFLOW中计算.\\n\\n该软件采用Python实现,可移植且易于安装,并且设计并行(在CPU和GPU上).PAOFLOW也是AFLOW的一个组成部分π框架."
   ]
  },
  {
   "cell_type": "markdown",
   "metadata": {},
   "source": [
    "# AFLOW:数据存储库  \n",
    "AFLOW数据存储库(Curtarolo等人2012b)包含使用AFLOW框架获得的超过180万个材料条目的计算属性.这些属性可通过aflow.org门户网站获得,其中包括在线搜索/排序和数据分析应用程序.可以通过AFLOW Data REST-API(Taylor等人2014)和AFLUX Search-API(Rose等人2017)以编程方式访问存储库."
   ]
  },
  {
   "cell_type": "markdown",
   "metadata": {},
   "source": [
    "## AFLOW:Web门户  \n",
    "AFLOW存储库可通过`aflow.org`门户网站在线获取.它包含多个用于数据访问,处理和可视化的在线应用程序, 包括位于`http://aflow.org/advanced.php`的高级\"MendeLIB\"搜索应用程序,该应用程序有助于使用元素组成和计算属性的过滤器搜索材料条目(图7b)所示, 在交互式凸包应用`http://aflow.org/aflow-chull`(见第2.4)中, 在在线的机器学习模型`http://aflow.org/aflow-ml`(见.5.2),并在AFLOW在线工具`http://aflow.org/aflow_online.html`可以访问AFLOW晶体结构分析和处理功能.这些应用程序和更多应用程序可从主aflow.org网页访问,通过图7a中虚线红色矩形突出显示的\"应用程序和文档\"按钮组."
   ]
  },
  {
   "cell_type": "markdown",
   "metadata": {},
   "source": [
    "> 图7\n",
    "AFLOW门户网站和数据存储库.(a)在线应用程序和文档可通过虚线红色矩形包围的\"Apps and Docs\"按钮组访问.(b)高级搜索应用程序可用于搜索特定的合成,还包括属性搜索过滤器,如虚线红色矩形所示.(c)AFLOW数据存储库被组织成项目,集合(即合金系统)和计算(即材料输入)层"
   ]
  },
  {
   "cell_type": "markdown",
   "metadata": {},
   "source": [
    "## AFLOW-ML:`在线机器学习`  "
   ]
  },
  {
   "cell_type": "markdown",
   "metadata": {},
   "source": [
    "AFLOW-ML在线应用提供了一个用户界面,利用在AFLOW数据训练过的机器学习模型. **它接受标准结构文件(POSCAR或QE)并输出诸如带隙,弹性模量,热容量,德拜温度,振动自由能和热膨胀系数等属性的预测**. 此外,AFLOW存储库中的结构可以通过侧栏导入. 该应用程序提供了一种可访问的介质, 用于检索机器学习预测,而无需安装软件库或机器学习包.  \n",
    "目前,AFLOW-ML支持两种不同的机器学习模型. 第一种模式,`property-labeled materials fragments`(伊萨耶夫等人2017),plmf, 使用从AFLOW库数据训练和预测性能,例如电子的带隙,比热容,和散装/剪切模量. 第二种方法是`molar fraction descriptor model`(Legrain等人2017),mfs, 其预测的振动特性,例如振动自由能和熵和仅基于该材料的化学组成.  \n",
    "**AFLOW-ML** API(Gossett等人,2018)提供对AFLOW-ML在线应用程序的编程访问,并提供简化的抽象,有助于利用强大的机器学习模型. 这将预测过程提炼到其本质:从结构文件返回预测. 使用API有两个步骤:首先将结构文件(POSCAR 5格式)发布(即上传)到aflow.org服务器的端点`/<model>/prediction`, 使用标准HTTP库或专用程序,如curl或wget,其中`<model>`指定用于预测的机器学习模型(当前选项:plmf和MFD). 提交预测时,将返回包含任务ID的JSON响应对象.然后通过将任务id附加到URL的末尾,即`/prediction/result/{id}/`,从aflow.org服务器上的`/prediction/result/endpoint`检索预测结果. 此端点监视预测任务,并使用详细说明其状态的JSON对象进行响应.完成后,端点将使用预测结果进行响应,表示为包含每个预测属性的键值对的JSON对象."
   ]
  },
  {
   "cell_type": "code",
   "execution_count": 4,
   "metadata": {},
   "outputs": [
    {
     "name": "stdout",
     "output_type": "stream",
     "text": [
      "leverage : ['liːv(ə)rɪdʒ; 'lev(ə)rɪdʒ]\n",
      "n. 手段,影响力;杠杆作用;杠杆效率\n",
      "v. 利用;举债经营\n"
     ]
    }
   ],
   "source": [
    "youdao('leverage')"
   ]
  },
  {
   "cell_type": "markdown",
   "metadata": {},
   "source": [
    "## AFLOW:数据库组织  \n",
    "所述AFLOW数据储存库被组织成项目,设置和计算层如图所示7℃.在项目层,计算被分为基于所述条目的来源和组成不同的目录.在每个目录中,条目根据共享的晶格类型或合金系统分组.每组中的条目包含特定结构的DFT计算属性的结果.  \n",
    "所述AFLOW-ICSD目录包含用于在所列出的以上57000实验观察到的材料DFT计算性能我 norganic Ç rystal 小号 tructure d atabase(ICSD)(Bergerhoff等人1983 ; Karen和Hellenbrandt 2002).在内部,此目录按晶格类型组织,然后按单个材料条目组织.由于已知该目录中的材料存在,因此主要关注的是精确计算电子结构和热机械性能.因此,该目录的计算通常使用Hubbard U校正到DFT交换相关函数(Liechtenstein等人,1995年).; Dudarev等人.1998)在适当的情况下,使用一组标准化的U值(Calderon等人,2015).在此目录中,条目按Bravais格子类型分为14组:\"BCC\",\"BCT\",\"CUB\",\"FCC\",\"HEX\",\"MCL\",\"MCLC\",\"ORC\" ,\"ORCC\",\"ORCF\",\"ORCI\",\"RHL\",\"TET\"和\"TRI\".使用格式<composition> _ICSD_ <ICSD number>生成每个材料条目的名称.  \n",
    "    其他目录中的条目,例如\"LIB1\",\"LIB2\"和\"LIB3\",是通过装饰晶体结构原型以预测新的假设化合物并分别包含一元,二元和三元材料而生成的.目前正在为四元,五元和六元材料生成其他目录\"LIB4\",\"LIB5\"和\"LIB6\".在每个目录中,条目在\"LIB1\"的情况下按元素和交换相关功能分组,在\"LIB2\"和\"LIB3\"的情况下由合金系统分组.\"LIB1\"包含总共3068个条目,而\" LIB2\"目前有329,192个条目,\"LIB3\"有超过140万个.在每个合金系统中,单个材料条目根据相关的晶体原型命名.对于这些目录,2016)或高熵合金(Lederer等, 2018).因此,这些目录中的计算是使用GGA-PBE交换相关函数(Perdew等人, 1996年)进行的,没有Hubbard U校正(Calderon等人, 2015),以便产生一致的能量差异,从而能够计算准确的地层焓."
   ]
  },
  {
   "cell_type": "markdown",
   "metadata": {},
   "source": [
    "## AFLOW:数据库属性  \n",
    "AFLOW存储库中的材料属性(Curtarolo等人2012b)被索引为关键字 - 值对,可通过AFLOW Data REST-API以编程方式访问(Taylor等人,2014),并通过AFLUX Search-API(Rose et)以编程方式进行搜索.人2017).这些属性的搜索过滤器也可以在aflow.org门户网站的高级搜索应用程序中找到,如图7中的红色虚线矩形所示.b,它们分为化学(例如,化学物质,化学计量),晶体(例如,空间群,布拉维点阵类型),电子(例如带隙),热力学(能量和热性质,例如,形成焓和德拜)温度),磁性,闪烁,机械(弹性模量和压力相关属性)和计算(例如,k点网格,AFLOW版本)参数.AFLOW数据库中总共有超过1.7亿个单独的材料属性(每个材料条目约100个).Taylor等人提供了与材料特性相对应的关键字列表.(2014年),罗斯等人.(2017)和Toher等人.(2017).\\n\\n已经执行\"静态\"和\"波段\"计算的系统补充有自动生成的状态密度,状态的投影密度和带结构的图像.图像的低(PNG)和高(EPS)质量变体都可供下载.示例带结构和状态图像密度显示在图8中.\\n在新窗口中打开图像图8\\n图8\\n通过AFLOW.org数据存储库自动生成和提供的状态图像的带结构和密度示例.突出显示的结构是AlCo 2 Fe(ICSD#57607):http://aflow.org/material.php ? id = Al1Co2Fe1_ICSD_57607 .自旋极化计算的结果通过带结构图上的颜色(多数/少数旋转的黑/红)和状态密度图(多数/少数旋转的正/负)的区别来区分.根据AFLOW标准高对称k点路径计算带结构(Setyawan和Curtarolo 2010)"
   ]
  },
  {
   "cell_type": "markdown",
   "metadata": {},
   "source": [
    "## AFLOW:数据REST-API   \n",
    "高吞吐量AFLOW过程(Curtarolo等人2012b)生成的完整数据集由(此时)超过12TB输入标准,计算结果和衍生输出的磁盘存储支持.后备存储通过AFLOW Data REST-API公开(Curtarolo等人2012b)在分层组织中.这种直接暴露我们的结果不仅可以通过直接访问为最终用户提供高度的实用性,更重要的是,保证数据来源可以提高可重复性.AFLOW Data REST-API的层次结构将这些丰富的信息分类为有意义的高级分类,允许探索与化学计量和/或晶体学特性相关的自相似材料.一旦确定了所选材料,就可以检索所有可用属性和程序数据.  \n",
    "底层数据存储和REST-API的组织层次结构依赖于项目,如Sect中所述.5.3.每个项目都相当于Sect中列出的目录之一.5.3和REST-API由项目层\"ICSD_WEB\",\"LIB1_RAW\",\"LIB2_RAW\"和\"LIB3_RAW\"表示.每个项目层包含多个集合层,对应于\"LIB1_RAW\"情况下的特定合金系统,\"\"LIB2_RAW,\"和\"LIB3_RAW.\"例如,http: //aflowlib.duke.edu/AFLOWDATA/LIB2_RAW/暴露二进制条目的集合层,其中每个集合对应于不同的二元合金系统,允许成对原子种类检查.每一组内都是入口层,由装饰结构原型组成,为每个合金系统提供化学计量和结构变化.每个条目包含特定结构和组合的计算结果,组织为关键字 - 值对.通过查询形式为<server> / <project> / <set> / <entry的U niform R esource I dentifier (URI),可以直接访问热力学,机械,电子,磁学,化学和晶体学属性的计算值.> /?<keyword>,其中<server>是http://aflowlib.duke.edu/AFLOWDATA,<project>是合适的项目层,<set>是合金系统,<entry>是结构原型,<keyword>对应于感兴趣的材料属性.Taylor等人提供了REST-API关键字的完整描述.(2014),以及Rose等人的附录中的补充.(2017年)和Toher等人.(2017).   \n",
    "    探索基于多种属性的相关条目的能力直接导致新材料的发现和使用.AFLOW Data REST-API向全球研究受众传播我们的方法和结果,不受限制,以促进科学和工程的进步."
   ]
  },
  {
   "cell_type": "markdown",
   "metadata": {},
   "source": [
    "## AFLUX:Search-API  \n",
    "的甲 utomatic ˚F LUX或AFLUX搜索的API(Rose等的低2017)是人可用远程数据搜索API.LUX旨在成为域无关的解决方案,解决以编程方式搜索远程数据的突出问题,这些问题通常通过反复无常的实用程序公开,或者需要对远程存储库的内部组织进行先验知识.LUX查询概念使暴露的数据变得扁平化,同时提供任意复杂的查询功能,允许最终用户完全自由地约束所请求的数据.LUX旨在在几乎无处不在的Web URI上下文中运行,同时最小化与现有URI功能的任何潜在冲突交互.\\n\\nAFLUX是LUX的特定于域的实现,可从<AFLUX-URI>获得:http://aflowlib.duke.edu/search/API/?.目前,AFLUX API免费公开超过1.8亿个关键字值属性,对最终用户没有任何要求或限制.可以通过将适当的关键字附加到<AFLUX-URI>来搜索特定属性和组合.可以通过在适当的关键字后面的括号中包含特定值或值范围来限制搜索结果.例如,搜索可以限制为包含元素Na和Cl两者的条目,并且通过包括搜索参数种类(Na,Cl),Egap(1.0 *),计算的电子带隙超过1.0eV.在URI的查询部分.在LUX中,\",\"对应于逻辑AND运算符,\"*\"是松散运算符,它将搜索扩展到指定值范围内的条目.如果没有为特定关键字提供参数,则会为满足剩余搜索条件的所有条目返回该属性的值.所有LUX逻辑运算符的完整列表可以在Rose等人的文章中找到.(2017),以及它们的功能和适当用法的描述.\\n\\n除了材料属性关键字之外,LUX还接受指令,这些指令表现为伪属性关键字.它们用于提供有关LUX使用的其他信息,并控制返回数据的格式和数量.请注意,搜索查询中包含的任何指令都必须位于所有材质属性关键字之后.特别是,schema指令可用于使用AFLUX传票检索最新和规范的关键字列表:<AFLUX-URI> schema,format(json)."
   ]
  },
  {
   "cell_type": "markdown",
   "metadata": {},
   "source": [
    "## AFLOW:数据质量控制  \n",
    "在构建大型数据库(如AFLOW存储库(Curtarolo等人,2012b))时,数据质量控制(包括方法验证和计算数据验证)至关重要,以保证结果的可靠性.方法验证涉及量化关于实验的计算模型的准确性,而数据验证包括检查计算参数的稳健性和收敛标准的满足.\\n\\n结合到AFLOW框架中的物理模型通过与基准实验数据集进行比较来验证.这有助于确定真实材料方法的预测准确性,以及它们可靠的制度.例如,AEL和AGL模块通过比较来验证到一基准组的〜75实验充分表征的各种结构类型的化合物(Toher等人2014,2017年),准确度是由Pearson和Spearman相关量化和均方根偏差.类似的验证分析是用于QHA-APL进行(Nath等.2016,2017)和AAPL方法(Plata的等人2017年),以及标记材料碎片机器学习模型的属性(Isayev等人,2017).\\n\\nAFLOW-POCC方法已经通过比较带隙作为ZnS 1- x Se x和Mg x Zn 1- x O的成分函数以及每个原子的磁矩作为Fe 1- x的成分的函数进行了验证.铜X,实验值(Yang等人2016).\\n\\n所述ACBN0官能(阿加皮托等人2015),在AFLOW实现π(见第3)和PAOFLOW(见第4),已经通过比较晶格参数,体积弹性模量,电子带隙,声子模式,高验证- 频率介电常数,以及它对Zn和Cd硫族化合物的实验测量值产生的有效变化(Gopal等人,2015).\\n\\n在并入数据存储库之前,所有AFLOW计算都自动验证电荷密度优化和离子结构弛豫的收敛.这包括,例如,根据AFLOW标准设置检查电荷密度已收敛(Calderon等人2015),并通过确保应力张量的所有元素小于10kB来验证单元尺寸和形状的松弛.可以通过查询应力张量的适当关键字来验证任何单个计算的收敛水平:stress_tensor,Pulay stress:Pulay_stress,松弛细胞上的残余外部压力:pressure_residual和δE对于最终电子收敛步长值:delta_electronic_energy_convergence,使用AFLOW数据REST-API(Taylor等人2014)或AFLUX搜索的API(Rose等人.2017年).初始计算参数可以类似地使用适当的关键字,如第k点网格,而获得kpoints,或电子能量收敛门限,delta_electronic_energy_threshold"
   ]
  },
  {
   "cell_type": "markdown",
   "metadata": {},
   "source": [
    "# 结论  \n",
    "用于计算材料设计的AFLOW Fleet自动化材料特性的第一性原理计算.AFLOW在单一集成框架中集成了各种不同的模块,包括对称性和热力学稳定性分析应用,有序和无序材料结构的生成以及热机械性能的计算.AFLOW π是一种多用途的简约框架,其包括用于投影工具到伪原子轨道(PAO)和哈伯德的自洽计算ù使用ACBN0进行校正.PAOFLOW生成紧束缚的哈密顿量,再现了使用第一原理方法计算的电子结构,便于快速计算电子和磁性,如传输系数和Berry曲率.所有结果都存储在AFLOW数据存储库中并通过其传播,该数据存储库可在aflow.org在线获取,并可通过AFLOW Data REST-API和AFLUX Search-API以编程方式访问."
   ]
  }
 ],
 "metadata": {
  "kernelspec": {
   "display_name": "Python 3",
   "language": "python",
   "name": "python3"
  },
  "language_info": {
   "codemirror_mode": {
    "name": "ipython",
    "version": 3
   },
   "file_extension": ".py",
   "mimetype": "text/x-python",
   "name": "python",
   "nbconvert_exporter": "python",
   "pygments_lexer": "ipython3",
   "version": "3.6.5"
  },
  "toc": {
   "base_numbering": 1,
   "nav_menu": {},
   "number_sections": true,
   "sideBar": true,
   "skip_h1_title": false,
   "title_cell": "Table of Contents",
   "title_sidebar": "Contents",
   "toc_cell": false,
   "toc_position": {
    "height": "calc(100% - 180px)",
    "left": "10px",
    "top": "150px",
    "width": "245px"
   },
   "toc_section_display": true,
   "toc_window_display": false
  },
  "varInspector": {
   "cols": {
    "lenName": 16,
    "lenType": 16,
    "lenVar": 40
   },
   "kernels_config": {
    "python": {
     "delete_cmd_postfix": "",
     "delete_cmd_prefix": "del ",
     "library": "var_list.py",
     "varRefreshCmd": "print(var_dic_list())"
    },
    "r": {
     "delete_cmd_postfix": ") ",
     "delete_cmd_prefix": "rm(",
     "library": "var_list.r",
     "varRefreshCmd": "cat(var_dic_list()) "
    }
   },
   "types_to_exclude": [
    "module",
    "function",
    "builtin_function_or_method",
    "instance",
    "_Feature"
   ],
   "window_display": false
  }
 },
 "nbformat": 4,
 "nbformat_minor": 2
}
