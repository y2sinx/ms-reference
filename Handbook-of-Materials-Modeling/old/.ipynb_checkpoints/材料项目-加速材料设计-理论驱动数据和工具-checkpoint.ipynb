{
 "cells": [
  {
   "cell_type": "markdown",
   "metadata": {},
   "source": [
    "**摘要**  \n",
    "材料项目(MP)是社区资源, 是基于理论数据，基于Web的材料分析工具, 是用于执行和分析计算的软件。MP数据库包括各种计算属性，例如晶体结构，能量，电子能带结构和数万种无机化合物的弹性张量。在撰写本文时，已有超过40,000名用户注册了MP数据库。这些用户通过MP网站(https://www.materialsproject.org)或通过REpresentational State Transfer(REST)应用程序编程接口(API)与数据进行交互。MP还开发或贡献了几个开源软件库，以帮助建立，自动化，分析和从计算结果中提取洞察力。此外，MP正在开发工具，以帮助研究人员通过其平台分享他们的数据(计算和实验)。这些努力的最终目标是通过向研究界**提供新的数据和软件工具来加速材料设计和教育**。在本章中，我们将回顾材料项目的历史，理论方法，影响(包括用户主导的研究)和未来目标。"
   ]
  },
  {
   "cell_type": "markdown",
   "metadata": {},
   "source": [
    "# 材料项目的历史和概述"
   ]
  },
  {
   "cell_type": "markdown",
   "metadata": {},
   "source": [
    "材料科学家和工程师一直依赖材料属性数据来通知，指导和解释研究和开发。传统上，这些数据几乎完全来自实验研究。在过去的10 - 15年中，使用诸如薛定谔方程的基本物理方程的可扩展计算机模拟，可以快速生成可靠的材料数据。这种范式转换是由理论进步的结合引起的，最显着的是密度泛函理论(DFT)的发展，算法改进和低成本计算。\n",
    "\n",
    "**材料项目(MP，或“项目”)成立于2011年**，旨在利用理论和计算方面的不断进步，加速新材料的研究和设计。该项目依赖于预测材料属性的综合数据库，这是在超级计算资源上执行数百万次DFT模拟的结果。在撰写本文时，该数据库包括> 69,000种具有晶体结构和总能量的无机材料，> 57,000种具有电子带结构的材料，> 48,000种具有电子传输性质的材料(图1)(Ricci等人，2017)，> 30,000 XANES k边缘光谱(Dozier等人2017)，> 15,000具有**转换电池特性**，> 6000具有弹性张量(de Jong等人。2015A)，> 3000与**嵌入的电池特性**，> 1000具有压电张量的(de Jong等人的 2015B)，> 1000与电介质张量(Petousis等人 2017)，以及>** 1000元素的表面能**(Tran等人， 2016) 。该数据库不断扩展，**具有更多材料和更多属性(参见图 2**，了解当前迭代中列出的属性示例)。"
   ]
  },
  {
   "cell_type": "markdown",
   "metadata": {},
   "source": [
    "> 图1\n",
    "通过计算生成(MP中的)的大型电子传输数据集的示例。每个点代表一种化合物，其中**塞贝克系数**与**电子电导率**(除以τ)作图。颜色代表**热电功率因数**(小号2 σ)，并且**点尺寸正比于带隙**(里奇等人。2017年)。该数据集可通过MPContribs平台(参见第6.2节)在以下网址获得：https://materialsproject.org/mpcontribs/boltztrap\n",
    "\n",
    "> 图2\n",
    "材料项目网站上BaTiO 3的“材料详细信息”页面示例。可获得的信息包括晶体结构参数，热力学性质，电子能带结构和状态密度，模拟X射线衍射图，模拟X射线吸收光谱，基板匹配器，弹性张量，压电张量，表和链接与计算方法细节有关，以及有关晶体结构源的元数据"
   ]
  },
  {
   "cell_type": "markdown",
   "metadata": {},
   "source": [
    "该项目于2011年10月启动了可公开访问的网站，并随后成为美国能源部基础能源科学办公室(BES)的多机构合作项目。该网站提供对数据库以及应用程序(或“应用程序”)的访问，这些应用程序(或“应用程序”)组合并可视地呈现用于特定分析的数据，例如相图生成或电池电极评估。MP网站拥有全球40,000多名注册用户，其中包括来自学术界，工业界和教育机构的各种研究人员和学生(图3和图4)。观众群的多样性突出了基于理论的材料数据库在教育，研究和开发活动中的实用性。"
   ]
  },
  {
   "cell_type": "markdown",
   "metadata": {},
   "source": [
    "> 图3\n",
    "自MP网站发布以来的注册用户总数以及属于各种机构类型的用户比例\n",
    "\n",
    "> 图4\n",
    "2017年10月份按城市划分的材料项目用户会话数量。会议来自112个国家，其中36个总计超过100个会议"
   ]
  },
  {
   "cell_type": "markdown",
   "metadata": {},
   "source": [
    "除核心数据和网站外，**MP还帮助开发和维护一套开源软件库，用于设置，执行，分析和从计算中获取洞察力**。这些库包括pymatgen(Ong等人2013)，监护人，FireWorks(Jain等人2015)和atomate(Mathew等人2017)，已被全球数百名研究人员使用。MP的最新成员允许用户建议用于计算的化合物，并将他们自己的数据(理论或实验)贡献给数据库。此外，MP还举办了以其在线和程序化基础设施为重点的教育研讨会，MP网站已成为多个材料科学课程中不可或缺的教学工具。\n",
    "\n",
    "由于理论和计算技术的发展水平必然会发生变化，因此MP的数据，范围，功能和基础设施的具体细节也将随之改变。然而，**本章总结了材料项目的现状**。"
   ]
  },
  {
   "cell_type": "markdown",
   "metadata": {},
   "source": [
    "# 基础理论形式主义与材料设计发展“Apps”"
   ]
  },
  {
   "cell_type": "markdown",
   "metadata": {},
   "source": [
    "## 理论方法"
   ]
  },
  {
   "cell_type": "markdown",
   "metadata": {},
   "source": [
    "材料项目的核心数据集包括从无机化合物库的密度泛函理论(DFT)计算中获得的结果。DFT非常适合**创建材料属性数据库**，因为它具有较少的参数，需要针对不同的材料系统进行调整，并且因为中小型(大约300个原子或更少)系统的计算成本是可管理的。**DFT方法已在很大程度上变得标准化，使得具有稍微不同参数的各种软件实现(例如，赝势)产生非常相似的结果**(Lejaeghere等人2016)。\n",
    "\n",
    "然而，为高吞吐量计算选择一组强大的参数仍然不是一件容易的事。重要的是要强调目前没有完美的DFT功能，因为它们都是定义材料现象的完整物理集的近似值。例如，强相关系统仍然具有挑战性。通常可以在单一研究中使用专门方法治疗复杂系统。然而，当构建具有许多化合物的大型数据库时，这种专门的处理难以实际实现，并且还会导致各种化合物之间不一致且通常不相容的结果。此外，必须更仔细地平衡计算成本和预期的信息增益。如果单个研究的计算结果过度收敛并且使用的计算能力比必要的多50％，那么单个研究可能不会受到明显影响，这种情况会严重降低高吞吐量数据库项目，例如消耗数千万CPU的MP每年的计算时间。因此，MP必须做出实际妥协，试图保持专业，精确计算的准确性，同时完全自动且计算效率高，并保持程序与其他计算的清晰度和一致性。\n",
    "\n",
    "材料项目用于实现**这种平衡的方法**之一是将材料分成两类，并应用不同的DFT功能来模拟每个类。**第一类化合物是过渡金属氧化物和硫化物**。标准DFT函数，如局部密度近似(LDA)(Kohn和Sham 1965)和广义梯度近似(GGA)(Perdew等，1996)对于这些化合物来说不准确，因为更明显的自相互作用误差以及在缺乏衍生间断的轨道占用错误(Zhou等人。2004年，Cococcioni和德Gironcoli 2005年)。治疗这些化合物的一种计算上有效的方法是使用GGA + U.框架，其中类似Hubbard的校正应用于局部d轨道。如前所述(Wang等人，2006)，将特定的U校正拟合到地层能量数据。重要的是要注意，这些相同的U值对于精确表示诸如电子带结构的其他属性可能不是最佳的。**第二类化合物**包括所有其他系统，并用标准GGA-PBE功能处理(Perdew等，1996)。"
   ]
  },
  {
   "cell_type": "markdown",
   "metadata": {},
   "source": [
    "通过允许用两种不同的功能处理不同的化合物，与仅使用诸如GGA的单一功能用于整个数据库相比，可以提高所得数据库的准确性。然而，**必须另外设计一种方案以混合从不同方法获得的结果**(例如，总能量)，因为这些结果不是直接相容的。在材料项目中，不同功能的结果之间的这些调整是通过对实验地层焓数据进行基准测试而制定的(Jain等人，2011b)。图5通过仅使用GGA，仅使用GGA + U以及混合GGA和GGA + U来呈现Fe-PO相图来描述其中一个实例的效果总能量。只有使用两种不同功能的图表版本(应用混合调整)才能再现此系统中所有已知的稳定相。"
   ]
  },
  {
   "cell_type": "markdown",
   "metadata": {},
   "source": [
    "> 图5\n",
    "使用来自(a)仅GGA，(b)仅GGA + U和(c)混合GGA和GGA + U功能的总能量计算构建的Fe-PO三元相图。**只有混合相图才能在相图上再现所有已知的稳定相位**。(转载图片经Jain等人许可(2011b)。版权所有2011年由美国物理学会提供)"
   ]
  },
  {
   "cell_type": "markdown",
   "metadata": {},
   "source": [
    "材料项目采取的另一项实际措施涉及分子系统。尽管分子系统和固体可以在相同的密度泛函理论框架内建模(例如，具有平面波基组的PBE-GGA)，但包括分子和固体的计算反应能量通常表现出高误差，因为自相互作用误差在以局部(例如，分子或高度相关系统)和非局部(例如金属)电子为特征的系统(Grindy等人2013 ; Perdew等人1998))。类似地，存在于气体，2D材料和液体中的分子间相互作用未被纯GGA功能描述得很好，这对构建源自DFT的综合热力学框架提出了进一步的挑战，避免了这种系统误差。\n",
    "\n",
    "而不是直接在计算液体/气体的能量，MP调整几个元素是在基于实验反应焓室温下为液体或气体，如金属的氧化(Wang等人的能量2006)。以下所有化合物都具有调节的能量，以更好地再生固相的反应能量：O 2，N 2，Cl 2，F 2和H 2。\n",
    "\n",
    "最后，我们提到MP还**根据化合物的类型调整某些数值参数**。例如，MP在计算金属时使用更密集的k点网格(通过初始的松散k点网格计算确定)与半导体和绝缘体相比。此外，材料项目使用的数字公差随着时间的推移越来越精确。每个计算使用的参数可通过Materials Project网站获得，参数设置的最新描述在https://www.materialsproject.org/docs/calculations中提供。"
   ]
  },
  {
   "cell_type": "markdown",
   "metadata": {},
   "source": [
    "## 数据探索的“应用程序”"
   ]
  },
  {
   "cell_type": "markdown",
   "metadata": {},
   "source": [
    "**MP数据集的大部分价值来自在原始数据之上执行的二次分析**。这些二次分析通常结合多个数据点，可以采用材料科学中常用图表的形式(例如，相位稳定性图或Pourbaix图)，特定应用材料设计工具(例如，将MP化合物评估为电池电极)，或简单地作为附加信息(例如，报告可能与目标材料形成相干晶格的潜在衬底)。这些工具对于帮助用户从数据集中提取尽可能多的价值至关重要。\n",
    "\n",
    "材料项目开发了执行许多**此类二次分析的方法**，并将它们作为开源软件实现(通过pymatgen(Ong等人2013)包)和Web应用程序(“apps”)发布。应用程序为这些功能强大且通常很复杂的分析例程提供了可视化，用户友好的界面。在下面的示例中，我们描述了底层方法以及用于生成和操作相图的附带应用程序。"
   ]
  },
  {
   "cell_type": "markdown",
   "metadata": {},
   "source": [
    "### 相图应用\n",
    "相图在材料科学中有多种应用。从实验中生成的传统相图不仅显示稳定的相，而且还描绘了溶解度极限和温度依赖性。相比之下，由于MP目前仅在零温度和压力下对材料进行建模而不对溶解度极限进行建模，因此得到的相图可能更准确地称为**相稳定性图表**(我们在这里交替使用这些术语)。然而，这种相稳定性图显示了给定化学体系中的稳定相以及各种组成比下的相关相平衡。这种相图的一个主要应用是作为新假设材料的“现实检查”。如果所提出的材料的能量足够低以至于或几乎在相稳定性图上，则材料在实验室中足够稳定以便合成的可能性更高(Sun等人，2016)。相稳定性图对于识别可能与目标相竞争的可能分解产物也是有用的。\n",
    "\n",
    "生成这样的计算相图需要知道化学系统内所有可能材料的形成能量。例如，计算三元相图需要知道该系统中所有相关的一元，二元和三元相的形成能。对于典型的三元系统，计算所有已知相的能量需要数十次计算。但是，由于MP数据库已经包含大多数已知无机化合物的预计算能量，现在可以避免运行所有这些模拟，并使用MP数据集直接创建合理完整的相图。\n",
    "\n",
    "在数学上，相图上的一组稳定点可以使用**凸包结构**来确定，这是一种将最小值作为n个自由度的函数的方法(Barber等，1996)。通过计算各种计算的DFT能量的总能量的凸包，可以找到全局稳定的结构以及连接稳定相的各种连接线。凸壳结构可用于构造任意数量的部件的相图。\n",
    "\n",
    "许多已知化合物在热力学上不稳定，即它们不出现在相稳定性图上(Sun等人，2016)。然后需要另外的度量来区分这些化合物的亚稳度。凸壳的构造提供了稳定的包络。凸壳上的化合物是稳定的，而能量上方的化合物是亚稳态的。因此，在组合物处与船体的能量距离是可量化的度量并且与该化合物的亚稳定性直接相关。船体上方的较低能量通常是合成所需的，因为与已知的稳定相相比，它意味着形成目标化合物的能量损失较小。许多在材料项目已知亚稳定化合物是船体的15兆电子伏/原子内，但根据化学可以延长船体以上过去60兆电子伏/原子(Sun等2016)。虽然该分析侧重于已知化合物的亚稳定性，但仍需要量化亚稳态极限的工作。\n",
    "\n",
    "到目前为止，我们已经描述了封闭系统的形式，即元素的化学计量比固定的形式，但同样的形式可以同样适用于开放系统，其中一个或多个元素保持在固定的化学势而不是保持固定金额。例如，实验可以在空气中进行，其基本上用作大气元素的无限储存器，例如在特定化学势下的氧和氮。在流动的氩气下的相同实验仍将代表开放系统，但是其中这些元素的化学势大大降低。因此，在开放的特定元素的环境中，相关的控制变量是该元素的化学势(μ 我而不是它的成分价值。然后将化学势作为外部变量处理以获得大电位相图。\n",
    "\n",
    "MP的用户不需要熟悉计算相图构造的所有方法细节(Ong等人，2008)来生成和使用它们。MP网站允许用户只需键入(或点击可视化周期表)他们感兴趣的系统的元素。这将生成一个相图，以图形方式显示相图以及稳定和亚稳态列表/不稳定的材料。图6图中显示了MP相图app的屏幕截图，其中显示了氧势为-5.288 eV的Li-Fe-PO的宏电位相图。注意，由于氧气成分由电位规定，因此在相图中不存在自由度，将四元相图折叠成三元相图(具有用于控制氧化学势的滑块)。"
   ]
  },
  {
   "cell_type": "markdown",
   "metadata": {},
   "source": [
    "> 图6\n",
    "由材料项目的“相图”应用程序生成的Li-Fe-PO三元宏电位相图对氧气开放"
   ]
  },
  {
   "cell_type": "markdown",
   "metadata": {},
   "source": [
    "其他应用同样为广大受众提供强大的基础方法。例如，类似于大电位相图，**Pourbaix图是对电势 - pH空间的全局稳定性的投影，以模拟电化学稳定性**。一种用于通过利用水性离子和在材料项目可用的固相的计算出的DFT能量的实验测得的自由能计算这种图表方法被先前开发(Persson等2012)。该方法被纳入“Pourbaix应用程序”，允许用户简单地选择感兴趣的化学系统，元素比率和离子浓度，以生成熟悉的Pourbaix图，该图利用MP数据集并且可以在视觉上和交互上由用户探索。此外，单个材料相对于最稳定的分解产物的稳定性可以作为叠加在Pourbaix图上的热图生成，为用户提供估算水性条件下亚稳定性的工具(Singh等人2017)。"
   ]
  },
  {
   "cell_type": "markdown",
   "metadata": {},
   "source": [
    "# 计算基础设施和软件工具"
   ]
  },
  {
   "cell_type": "markdown",
   "metadata": {},
   "source": [
    "开发和维护诸如材料项目之类的计算数据库需要相当多地关注计算和软件基础设施。在撰写本文时，材料项目是超过一百万次个人计算的结果，这些计算代表了超过1亿个中央处理单元(CPU)小时的投入计算时间。设置，执行，分析和管理所有这些计算远非直截了当。在这里，我们在撰写本文时描述了材料项目的基础设施。但是，我们注意到计算的经济性以及软件库的最佳选择可以非常快速地改变。"
   ]
  },
  {
   "cell_type": "markdown",
   "metadata": {},
   "source": [
    "## 计算资源\n",
    "材料项目(MP)在美国国家能源研究科学计算中心(NERSC)和其他地方使用了高性能计算(HPC)资源，迄今为止耗费了超过1亿个CPU小时。多任务计算工作流程(Raicu等，2008)越来越多地使用HPC环境，因为这些资源通常提供大量总计算时间，良好硬件规范(例如，中等到高内存)和足够存储的潜力。但是，HPC环境对运行高吞吐量计算提出了一些挑战，因为这些环境最初设计用于满足少量大型高度并行应用程序的需求，这些应用程序运行可预测的时间并执行磁盘的所有输入/输出。相比之下，高吞吐量计算通常非常多并且在可实现的并行性方面受到限制并且需要不可预测的，通常非常长的总运行时间。此外，它们通常更适合外部服务管理，而不仅仅是通过磁盘上的平面文件。要克服这些挑战，2015)解决了与在HPC资源上运行高吞吐量作业相关的许多计算挑战。\n",
    "\n",
    "## 数据库软件的选择\n",
    "高吞吐量计算工作流程的许多部分都需要高效的存储，检索和信息搜索，包括：\n",
    "管理高通量计算的状态存储原始计算结果，和可搜索的一组可处理数据，用于数据传播和分析\n",
    "\n",
    "Materials Project选择使用一个非唯一的SQL(NoSQL)“文档存储”(Cattell 2011)，MongoDB作为这些任务的主要数据库技术(原始输出文件也被保留)。我们注意到，这代表了之前在高通量计算材料科学中使用的其他基于SQL的数据管理策略的转变(Jain等人，2011a))。做出这一决定主要是因为MongoDB适应材料项目所需的**数据异构性**和数据模型开发的快速步伐。例如，与典型的SQL关系数据库管理系统(RDBMS)(如MySQL和PostgreSQL)不同，MongoDB在项目开始时不需要在所有数据类型之间预先设计的规范化模式。随着我们在项目中添加新类型的计算，存储的数据类型不断发展。通过选择MongoDB，MP可以通过应用程序代码的微小变化快速适应这些变化，**而不是重构复杂的关系模式**。\n",
    "\n",
    "在面向文档的数据存储中，MongoDB以其简单但功能强大的查询语言，易于管理以及读取繁重工作负载的良好性能而着称，其中大多数常用数据(所谓的工作集)可以适合内存。连接不同数据(数据库“连接”)和写入繁重工作负载的相对弱点是MP的合理权衡。MongoDB的生产力优势是查询语言和本机数据模型都是JavaScript Object Notation(JSON)(Bray 2017)，它是现代Web应用程序的标准数据格式，可以在Python中轻松表示和操作为本机数据类型编程语言(范Rossum的等。2007)其中编写了我们的其他软件库。因此，熟悉Python的用户，特别是其“dict”对象，可以快速适应使用MongoDB理解和开发数据模型。我们的经验是，与我们对RDBMS的历史使用相比，这些方面允许我们团队的更多成员在数据库开发方面进行协作，其中只有一两个团队成员熟悉系统进行更改。Gunter等人描述了在科学HPC生态系统中部署此类集中数据存储区时遇到的经验和挑战的更多细节。(2012)。"
   ]
  },
  {
   "cell_type": "markdown",
   "metadata": {},
   "source": [
    "## 软件堆栈\n",
    "### 执行和分析DFT计算的软件"
   ]
  },
  {
   "cell_type": "markdown",
   "metadata": {},
   "source": [
    "在撰写本文时，材料项目主要使用密度泛函理论由维也纳从头仿真程序包(VASP)(Kresse和哈夫纳实现1994 ; Kresse和Furthmüller 1996)。但是，ABINIT(Gonze等人，2016)等其他软件包很可能在未来将在MP中扮演更重要的角色。无论选择DFT实现，执行计算的过程都涉及核心模拟之外的许多步骤。这些步骤包括：\n",
    "* 设置感兴趣的材料或系统的几何图形\n",
    "* 定义计算的工作流程以计算感兴趣的属性\n",
    "* 执行计算并纠正可能的错误\n",
    "* 分析，存储和组织输出数据\n",
    "\n",
    "材料项目开发了一套全面的软件工具来加速和协助这些步骤(参见图7的概述)。"
   ]
  },
  {
   "cell_type": "markdown",
   "metadata": {},
   "source": [
    "> 图7\n",
    "数据生成和分析涉及的各个步骤以及材料项目基础架构的相关软件堆栈"
   ]
  },
  {
   "cell_type": "markdown",
   "metadata": {},
   "source": [
    "目前在材料项目中的大多数化合物使用无机晶体结构数据库(ICSD)中报道的块状晶体结构几何形状(Belsky等人，2002)。但是，许多属性的计算需要对这些几何进行算法运算。示例包括为具有部分占据的站点确定适当的有序单元，为表面计算创建适当的板，以及执行用于计算弹性张量的串联晶格变形。我们已经实施了在Python这样的几何修改程序作为pymatgen的部分(Ong等。2013)开源软件库。在许多情况下，这些例程直接在pymatgen中实现，而在其他情况下，我们为社区发布的库提供面向对象的Python包装，如spglib(Togo 2018)和enumlib(Hart和Forcade 2008))。我们注意到基于网络的协作的增长为另一种产生新化合物的方法提供了机会：众包用户建议。在此方法中，由用户社区(离线或通过材料项目工具)设计的晶体结构用作计算的起点，并将结果报告回社区。在其运营的前三年，这项“MPComplete”服务已经被800多名独立用户使用，并且已经为MP的公共数据库添加了超过8,300种新材料。"
   ]
  },
  {
   "cell_type": "markdown",
   "metadata": {},
   "source": [
    "根据要研究的属性，DFT“计算”实际上可能涉及一系列单独的计算，这些计算需要数据传递和几何的修改或计算之间的输入设置。获得所需输出属性所需的计算集，以及这些计算之间的依赖关系和数据传递要求，定义了“工作流程”.Materials Project使用Python编程语言开发了两个软件库来**管理此类工作流**。第一个库，名为“FireWorks”(Jain等人2015年)，是一个通用的工作流程库。FireWorks不包含任何材料科学或DFT特定代码。其范围是为用户提供一个框架，**用于定义任意计算序列，将它们存储在数据库中，在各种类型的计算资源上执行它们，以及管理跨系统的数百万个工作流的状**态。因此，FireWorks与广泛的科学计算工作流程兼容(尽管它最适合高通量应用)，并且经常在材料科学领域之外使用。第二个工作流创建库，“atomate”(Mathew等人，2017年)，包含在FireWorks中实现的特定材料科学工作流程，并使用pymatgen作为基础库。**该atomate包可以被认为是提供材料科学工作流程实现的库(例如，用于电子能带结构，弹性性质以及压电，电介质和铁电性质的标准工作流程)。**Atomate用户可以指定材料的输入几何和所需的工作流类型，并且atomate将提供基于FireWorks的实施，该工作流可以在超级计算中心执行。此外，atomate利用pymatgen库自动解析计算输出，并创建可由用户查询的材料属性数据库。FireWorks和atomate中的各种功能允许根据特定情况自定义行为，从低级问题(例如与各种排队系统交互)到高级问题(例如运行具有多个DFT功能选择的相同工作流)。计算工作流程还可以根据从早期计算中获得的结果自动调整其过程以用于以后的计算。"
   ]
  },
  {
   "cell_type": "markdown",
   "metadata": {},
   "source": [
    "当执行计算时，**可能遇到与计算收敛有关的各种错误**。材料工程开发了作业类型包装的仿真软件(例如，VASP Kresse和哈夫纳1994年 ; Kresse和Furthmüller 1996年。或QChem Kong等2000)被称为“托管人”(Ong等2014)，可以自动监视输出计算文件并根据一组规则自动修复错误(通过停止作业，更改输入文件和重新启动作业)。保管软件还可用于自动化线性计算序列(例如，收紧数字参数的收敛协议，直到不实现输出变化)。\n",
    "\n",
    "执行计算后，结果将被解析并存储在各种数据库集合中。原始数据由pymatgen解析为atomate工作流的一个组件。我们注意到pymatgen可以解析输出文件(分析为结构化数据或具有可调用函数的Python对象)，还可以执行高级数据分析，例如相图创建或绘图。另外，我们使用称为“构建器”的代码来收集，重新组织和后处理原始数据到单独的数据库集合中，这些集合比原始数据集合更易于分析。例如，构建器可能会在单个材料上收集所有计算结果，以构建该化合物的单个摘要报告(“材料”文档)。建造者也可以收集来自多种化合物的信息，进行分析，并将结果存储在数据库中。为了满足这些流程的需要，我们开发并使用轻量级库来自动化，简化并最终简化创建MongoDB数据库的过程。我们的通用“构建器”代码对于需要使用MongoDB执行提取 - 转换 - 加载(ETL)操作的任何项目都很有用。例如，它们可以并行运行，而作者没有明确的并行编码。这使得数据的CPU密集型转换在多核机器上运行得更快，其中包括大多数现代硬件(与消息传递接口(MPI)标准集成以实现跨超级计算资源的并行化正在开发中)。此外，我们的增量构建代码中的工具允许源MongoDB集合的连续构建仅对自上次构建以来添加的记录进行操作，这可以节省大量的计算时间。总的来说，构建器框架允许针对不同类型的查询和使用模式定制的多个数据库集合的有效生成和可靠更新。"
   ]
  },
  {
   "cell_type": "markdown",
   "metadata": {},
   "source": [
    "### 数据传播软件：Web界面和RESTful API"
   ]
  },
  {
   "cell_type": "markdown",
   "metadata": {},
   "source": [
    "材料项目非常重视用户体验，用户界面设计，并确保有效地传播数据，以便各种各样的用户能够将数据应用于研究，开发和教育(Jain等人，2016b)。为此，我们建立了一个交互式门户网站(https://www.materialsproject.org)，专注于科学家作为最终用户。这个门户网站是使用成熟的Django Web框架(Dja 2015)构建的)由于前端视图与后端业务逻辑的清晰分离。Django是用Python编程语言编写的，它简化了与pymatgen库的集成以及Python中不断发展的科学软件生态系统。Django还提供了一个清晰的结构，用于将所谓的项目组织成“应用程序”，它可以很好地映射到各种材料数据的交互式视图，例如成分相图，Pourbaix图或特定领域的应用程序，如电池电极搜索。此外，Django还具有强大的用户管理工具，简化了身份验证程序(有人是谁)和授权(已知有人可以访问/执行的操作)。例如，使用这些工具为了加强用户搜索数据和使用可能不适用于所有用户的各种功能的反馈循环，我们组织我们的前端代码，使用标准的异步JavaScript和XML(AJAX)和异步模块异步加载数据和其他代码。定义(AMD)协议。我们对Web界面特定库的选择将继续发展，作为已建立的最佳实践(对于多年来连续和可重复使用的系统具有吸引力)和新兴标准(简化持续维护和添加功能)之间的权衡。\n",
    "\n",
    "尽管许多探索性研究非常适合于如上所述的图形界面，但其他研究需要以编程方式访问该数据库。考虑到这一点，我们选择通过名为Materials API(MAPI)的应用程序编程接口(API)公开我们的数据(Ong 2015)。MAPI允许用户开发可以通过定义良好的界面查询，处理和下载Materials Project数据的计算机程序。迄今为止，MAPI已为超过1500个不同用户提供了超过1亿个材料数据请求。"
   ]
  },
  {
   "cell_type": "markdown",
   "metadata": {},
   "source": [
    "API广泛用于技术和软件开发。它们用于清楚明确地定义用于与以编程方式访问的软件或其他系统进行通信的协议。在撰写本文时，通过Internet运行的API的最常见框架是REpresentational State Transfer(最常见的称为REST)。REST API最简单的用例是将Web统一资源标识符(URI)映射到数据(类似于计算机的文件系统如何将数据映射到目录和文件名)。在RESTful系统中，信息被组织成资源，每个资源通过统一资源标识符(URI)唯一标识。在材料项目的情况下，每个文件或对象(如计算任务，晶体结构，例如， 8)和一个可以作用于该对象的HTTP动词(GET，POST，PUT，DELETE等)。在大多数情况下，此操作返回表示对象的结构化数据，例如，以JavaScript Object Notation(JSON)格式。例如，为了在材料项目数据库中的所有Fe 2 O 3化合物上请求能量数据(使用VASP计算)，可以根据MAPI中指定的协议构建图 8中所示的URL。我们注意到，由于MAPI是一个RESTful系统，用户可以与MP数据库进行交互，无论其计算机系统或编程语言如何(只要它支持基本的HTTP请求)。"
   ]
  },
  {
   "cell_type": "markdown",
   "metadata": {},
   "source": [
    "> 图8\n",
    "Materials API的URL结构示例。(经Elsevier许可，于Ong(2015年)转载)"
   ]
  },
  {
   "cell_type": "markdown",
   "metadata": {},
   "source": [
    "REST API允许更强大的行为与这种基本信息检索无缝集成。例如，与特定用户相关联的唯一字符串(称为API密钥)可用于管理对资源的访问。这是通过以这样一种方式实现API来完成的，即要求用户将API密钥包含在他们对系统发出的请求中，然后在系统后端实现控制以处理权限和活动日志记录。RESTful API还可以接受请求中的过滤参数或其他变量，以便用户更好地控制从数据库发送或接收的内容。而且，URL可以链接到不仅仅是静态资源; 它们还可以指向支持用户程序和MP之间交互的后端功能。一个例子可能是链接URL，例如“https://www.materialsproject.org/rest/v1/materials/snl/submit “指向计算嵌入在http POST参数中的所需结构的请求的函数。\n",
    "\n",
    "**使用这种API具有许多优点**。首先，用户不必关心他们正在与之交互的数据库的实际体系结构或其实现的细节，因为API在此过程中充当一种“中间人”。从用户的角度来看，与数据库交互的过程随着时间的推移是一致的，从而使开发团队可以在不影响用户与数据交互模式的情况下进行后端更改。此外，对数据库的访问与系统无关。任何人都可以在API之上的任何环境中开发应用程序，并确信它将与MP数据库兼容。此外，用户收到的数据始终是最新的，他们不需要额外的努力，\n",
    "\n",
    "尽管RESTful API可能会让初学者感到害怕，但是通过使URL方案可以被探索并通过中间软件层隐藏复杂性，它们可以变得更加用户友好。例如，在pymatgen(Ong等人2013)代码库中提供了一个名为MPRester的MAPI高级Python接口，允许用户使用Python函数而不是显式HTTP请求获取晶体结构或电子波段结构等属性。 。我们注意到，只要有可能，主要材料项目网站前端也避免直接数据库查询，并使用MAPI以比自定义与后端软件的交互更易维护且不易失败的方式查询和访问数据。"
   ]
  },
  {
   "cell_type": "markdown",
   "metadata": {},
   "source": [
    "# 材料项目的用户应用研究和设计问题"
   ]
  },
  {
   "cell_type": "markdown",
   "metadata": {},
   "source": [
    "自其发布以来，材料项目的用户已经在数百项研究中使用了其数据和工具(正如之前的评论Jain等人2016a中所强调的那样)。在本节中，我们描述了几个最近的例子，**并概述了文献中出现的用于筛选和设计特定应用材料的一般策略**。虽然其中一些研究涉及积极的MP合作者(Dagdelen等人2017 ; Yan等人2017 ; Chen等人2016 ; Zimmermann等人2017)，我们通过Web发现的最新研究中的很大一部分科学搜索来自未参与材料项目的用户(Sendek等人2017 ; Shi等人。2017年 ; Ashton等人。2017年 ; Cheon等人。2017年 ; Choudhary等人。2017年 ; Lau等人。2017年 ; Shandiz和Gauvin 2016)。后一类用户可能最清楚地表明，**通过与研究团体一起生成和共享材料信息，可以加速新材料的研究和设计**。"
   ]
  },
  {
   "cell_type": "markdown",
   "metadata": {},
   "source": [
    "## 相图和化合物稳定性"
   ]
  },
  {
   "cell_type": "markdown",
   "metadata": {},
   "source": [
    "在旨在根据实验证据提高我们的理解或为特定应用合成新材料的研究中(Bayliss等人2014 ; Krishnamoorthy等人2015 ; Martinolich和Neilson 2014)，产生相平衡数据是最常用的MP功能。例如，Bayliss等。进行对已声称设有显着高的氧化物离子传导搀钠的硅酸锶材料(的Bayliss等的研究。2014)。通过结合实验(中子粉末衍射，两点交流阻抗谱，飞行时间二次离子质谱)和DFT计算，他们可以证明**电导率低于先前报道的氧气空位形成的高能量成本是根本原因**。来自MP的数据用于交叉检查研究的结果，其中衍生自DFT-PBEsol的SrSiO 3分解的主要限制阶段。\n",
    "\n",
    "Shi和同事(Shi等人，2017)采用高通量DFT筛选方法得到稳定的铜铁矿和组成ABX 2的相关层状相，其中A和B是元素周期表中的任何元素，X是硫属元素(O， S，Se和Te)。从15,624种化合物的初始材料组中，发现285个来自凸包壳体的50meV /原子。虽然这些结构中的大多数都包含在材料项目数据库中，但作者强调这些稳定系统中有79个不存在。这强调了MP等晶体结构数据库在化合物完整性方面仍具有相当大的增长潜力，并突出了基于用户的化合物提交的作用(通过MPComplete服务，参见，第6.1节)。)可以发挥扩展这样的数据库。\n",
    "\n",
    "一个类似的例子是Krishnamoorthy等人的工作。(2015年)，他使用基于DFT的高通量筛选来鉴定可用于光捕获的无铅碘化锗钙钛矿。研究人员计算了360 AMX 3组合物的PBE带隙，揭示了9个有趣的候选物。MP相平衡数据用于通过要求材料在热力学上稳定以防止分解成更简单的二元相来进一步减少列表。从计算筛选中留下三种材料，即RbSnBr 3，CsSnBr 3和CsGeI 3，其中后者被成功合成和表征。我们将感兴趣的读者引用到之前的评论文章Jain等人。(2016b)使用MP计算的相图进行的实验研究的进一步实例。"
   ]
  },
  {
   "cell_type": "markdown",
   "metadata": {},
   "source": [
    "## 晶体结构分析，2D材料和机器学习"
   ]
  },
  {
   "cell_type": "markdown",
   "metadata": {},
   "source": [
    "材料项目中可用的大量数据可用作开发用于处理晶体学数据的新算法的试验台。Ashton及其同事(Ashton等人，2017)就是这种情况，他们开发了拓扑缩放算法来识别给定晶体结构的维数。**他们使用该算法在MP数据库中搜索可能是预期2D材料的材料**; 鉴定了826种稳定的层状材料，其中680种基于计算的剥离能量被预测为可行的2D材料候选物。\n",
    "\n",
    "类似地，Cheon和同事(Cheon等人，2017)提出了一种算法，该算法可以识别三维晶体结构的弱键合子组件的维数。他们将该算法应用于> 50,000 MP材料，并识别1,173个二维层状材料以及487个弱键合的一维分子链，表示所识别材料数量的数量级增加。此外，建议这些材料中的325种是压电单层。\n",
    "\n",
    "有趣的是，通过专门利用典型DFT计算中的弱点，分散力不能很好地解释，因此层状材料的晶格参数通常非常不准确，Choudhary及其同事(Choudhary等人2017)能够识别出两个 -尺寸材料候选人。为此，作者要求实验的晶格常数与(主要)MP数据库之间的偏差≥5％。为了验证他们的方法，作者使用了一个基于去角质能量的公认标准，发现他们的预测中有88.9％符合这一测试。\n",
    "\n",
    "构成材料科学中设计规则基础的许多结构 - 属性关系基于与当地协调环境有关的信息。因此，非常希望具有有效且高效地识别基本局部结构基序的工具，例如四面体，八面体，bcc，fcc和hcp环境。齐默尔曼等人。提供了基于当地结构顺序参数的这些图案的分类标准，用于在整个材料项目数据库中自动识别这些图案。此外，这些工具也可能引领替代结构匹配途径(Zimmermann等人2017)。"
   ]
  },
  {
   "cell_type": "markdown",
   "metadata": {},
   "source": [
    "材料项目中丰富的数据还为开发新的机器学习(ML)技术提供了机会，用于建模材料属性和更好地理解结构 - 属性关系。其中一个这样的例子出现在Faber等人的着作中。(2015)旨在开发适用于ML模型的周期系统的表示。在这项研究中，材料项目的4000个结构用于评估基于三种不同晶体结构表示方案和使用核岭回归的预测地层能量的泛化误差，揭示了用于模拟无限库仑和的正弦矩阵方法是效率和准确性优越。"
   ]
  },
  {
   "cell_type": "markdown",
   "metadata": {},
   "source": [
    "同样，de Jong等人。(2016)展示了一种机器学习方法来预测k-nary化合物的弹性模量，这种方法对于高度多样化的化学组合是有效的。更具体地，该研究使用梯度增强机局部多项式回归(GBM-Locfit)而不是MP弹性张量数据集来确定一组相关描述符并导出弹性模量预测。最终，该模型用于估算整个MP材料库的维氏硬度，从而可以快速搜索超硬材料。"
   ]
  },
  {
   "cell_type": "markdown",
   "metadata": {},
   "source": [
    "在大多数情况下，使用易于检索或可计算的数据，例如空间群，成分和密度，以便预测更复杂的性质，例如地层能量或弹性张量。Shandiz和Gauvin追求相反的路线(Shandiz和Gauvin 2016)：作者对来自MP数据库的339种材料进行了分类研究，这些材料是潜在的锂离子硅酸盐阴极(通用组成：Li-Si-(Mn，Fe，Co)-O)。特别是，他们根据输入晶体结构和DFT输出得到的特征测试了它们是否可以预测晶体系统(单斜晶系，斜方晶系或三斜晶系)：晶胞体积，带隙，位数在单元格中，形成能量和凸包上方的能量。这些特征的配对相关图表明，任何特征与晶体系统之间都没有可利用的直接相关性。基于决策树的方法(随机森林和极随机树)显示出预测精度高达75％，k-最近邻分类。"
   ]
  },
  {
   "cell_type": "markdown",
   "metadata": {},
   "source": [
    "## 筛选应用材料"
   ]
  },
  {
   "cell_type": "markdown",
   "metadata": {},
   "source": [
    "也许材料项目数据中出现的最一致的材料筛选策略是在适合给定应用空间的连续更严格的标准上过滤材料。在这种方法中，大多数应用所共有的过滤器通常通过ΔE 船体稳定，这可以提供化合物是否在实验上可行的指标。如图9所示，连续的过滤器反过来减少了要考虑的材料的数量，直到它达到易处理的量，以便进行更复杂的计算或用于实验查询。"
   ]
  },
  {
   "cell_type": "markdown",
   "metadata": {},
   "source": [
    "> 图9\n",
    "通过连续标准过滤进行材料筛选的“漏斗”方法，用于设计Yan等人的太阳能燃料光电催化材料。(2017)。这些方法从大量潜在候选材料开始，并使用一系列标准(通常是增加成本或复杂性)来减少可能性的空间。(转载自Yan et al。(2017); copyright 2017 National Academy of Sciences)"
   ]
  },
  {
   "cell_type": "markdown",
   "metadata": {},
   "source": [
    "这是Sendek和同事采取的方法(Sendek等人2017年)谁搜索了可用作锂离子电池固态电解质的新候选材料。作者从材料项目中筛选了12,831种含锂化合物，以过滤那些具有高结构和化学稳定性，低电子传导性和低成本的化合物，从而消除了92.2％的初始材料。随后，离子电导率分类模型，其在40个晶体结构和文献中的相关测量上进行训练，将有趣候选者列表减少到仅21种材料。在后一步骤中，在单描述符函数上考虑多描述符模型对于实现预测能力是至关重要的。其余21种材料中的许多尚未通过实验研究，"
   ]
  },
  {
   "cell_type": "markdown",
   "metadata": {},
   "source": [
    "为筛选结构敏感性质和分类材料而鉴定结构相似的化合物也已开始作为筛选策略和设计范例出现。Dagdelen及其同事(Dagdelen等人，2017)展示了这种筛选程序，用于预测新的拉胀材料(具有负泊松比的化合物)。作者通过Materials Project的REST API系统地筛选了整个MP数据库，并将每种结构与α-  方石英SiO 2进行了比较，之前已知的唯一无机晶体材料之一，具有负均匀泊松比。通过结合pymatgen的结构匹配算法(可以匹配用户定义的容差内的结构，无论晶体设置，超晶胞尺寸或组成)与更常规的筛选策略，从超过65,000个结构中收集了30个可能的候选者。然后计算每个候选者的完全弹性张量，随后得出它们的泊松比。在这30个结构中，3个被发现是均匀的拉胀，另外9个被发现表现出接近零的均匀泊松比，实验证实正在进行中。"
   ]
  },
  {
   "cell_type": "markdown",
   "metadata": {},
   "source": [
    "Lau等人提出了使用材料项目进行计算机筛选的一个例子，该项目已经实验证实了材料的发现。(2017年)。这些作者通过连续标准过滤(“漏斗”方法)在MP数据库中搜索有希望的化学循环空气分离(CLAS)材料。具体而言，应用的搜索过滤器包括(i)限制二元和三元化合物，(ii)识别可经历氧化反应的化合物(在该步骤，使用相图app)，和(iii)限制温度和氧分压氧化反应进行到合理限度的范围。该方法产生了5,501种暂定化合物和20,861种相关的氧化还原反应。由于还原焓和重量O 2容量(图10)没有透露任何可利用的趋势，作者不得不采用更具启发性的途径来减少候选人名单。首先，它们要求反应复杂性和反应中存在的相总数最小，产生292种材料。其次，他们通过排除含有昂贵和有毒物质的化合物以及还原后涉及非氧化物的反应，将数量进一步减少到108。从剩下的材料中，他们选择了ABO 3钙钛矿，因为它们具有氧化学计量的灵活性，没有大的结构变化和一般的钙钛矿合成的容易性。随后他们合成并表征了SrFeO 3- δ由于其热力学和优异的循环稳定性以及在操作温度下的抗碳化性，已经成为一种有前途的CLAS候选物(Lau等人，2017)。使用材料项目进行化合物发现的更多实例可以在先前的评论中找到(Hautier等人2012 ; Jain等人2016c)。"
   ]
  },
  {
   "cell_type": "markdown",
   "metadata": {},
   "source": [
    "> 图10\n",
    "使用MP数据筛选化学循环空气分离应用的材料示例。每个数据点代表每种不同化合物的还原反应，具有最大的。对于每个反应，预测的还原温度对于ΔH 还原(上部)和O 2重量容量(下部)进行绘制。对于每个反应，将预测的还原温度设定为 Pa 。(经过皇家化学学会的许可，从Lau等人(2017)转载(改编或部分))μO2 pØ2= 2.1 × 104"
   ]
  },
  {
   "cell_type": "markdown",
   "metadata": {},
   "source": [
    "# 外展\n",
    "从2016年开始，材料项目每年举办一次研讨会，吸引了来自世界各地的100多名与会者。这些研讨会涵盖了材料项目网站的使用以及用于执行和分析高通量计算的软件堆栈。研讨会的教程使用了Jupyter(Ragan-Kelley等人，2014年)笔记本，是一种计算机文档形式，混合格式化文本，可编辑代码和交互式图表来说明一个过程。参与者可以选择将各种代码安装到他们自己的系统，或者与使用JupyterHub和Docker Swarm配置的预安装环境进行交互。后一种选择允许参与者专注于学习使用软件堆栈并留下个性化设置的细节以供日后使用。这些研讨会的所有教程和课程材料均可在线获取(Mathew等人2016 ; Winston等人2017)。\n",
    "\n",
    "除了年度研讨会外，材料项目还以各种方式与用户互动。例如，MP已经创建了YouTube视频，其中包含有关网站各个方面的教程，各种应用程序以及API的使用，在撰写本文时，这些视图共有超过30,000个视图。材料项目网站维护着一个通用讨论区(https://discuss.materialsproject.org/)，每月有超过100个活跃用户，超过400个帖子和近200个“喜欢”(用户很快就会标记出其有用性)在撰写本文时。最后，MP软件堆栈包含专用的Google群组和Github问题页面，软件的用户和开发人员可以在这些页面上提出问题或获取有关软件使用的建议; 到目前为止已经解决了数百张票。\n",
    "\n",
    "# 材料项目的未来\n",
    "电子结构理论，数值算法，计算硬件和软件的进步已经融合，使得开发电子结构数据库成为可能，这真的令人惊叹。通过利用这些进步，材料项目已经在成千上万的材料中计算出数百万种材料属性(例如，电子带结构，热力学性质，机械性能，介电性质)，将这些信息组织到可搜索的数据库中，并构建了丰富的Web应用程序。以十年前不可能的方式提供数据。材料项目的未来努力将集中于进一步增强数万名设计和开发新材料的科学家的能力。在此，我们描述了一些可能的未来发展，以加强财产覆盖，\n",
    "\n",
    "## 数据集扩展\n",
    "材料项目每年以数百万个CPU小时的速度不断生成新的材料数据，以扩大其数据库的范围。在未来，材料项目将在广度和深度上进行扩展：将调查更多种类的材料系统，并将计算有关单个材料的更多信息。就广度而言，材料项目将扩展到更完全包含具有场地混乱的晶体，即部分场地占用。材料项目还将继续努力和合作，以扩展其分子即非周期系统数据的提供。最后，材料项目期望在不仅计算表征已知材料，而且帮助实验人员寻找尚未发现的新材料方面发挥更积极的作用。在深度方面，材料项目正在扩展其计算工作流程库，以便为数据库中的每种材料提供更多信息。积极的努力领域包括声子计算和有限温度特性，界面，光谱，缺陷以及机械，热和电效应之间的映射关系。此外，材料项目将利用DFT功能的新进展，这些功能可以提高精度，同时对高吞吐量计算仍然具有计算效率。并映射机械，热和电效应之间的关系。此外，材料项目将利用DFT功能的新进展，这些功能可以提高精度，同时对高吞吐量计算仍然具有计算效率。并映射机械，热和电效应之间的关系。此外，材料项目将利用DFT功能的新进展，这些功能可以提高精度，同时对高吞吐量计算仍然具有计算效率。\n",
    "\n",
    "该数据集扩展将需要比当前使用的数量级更多的计算资源。材料项目将继续使用“众包”，即使用来自用户社区的输入，作为优先考虑数据集扩展的各个方面的方法。例如，材料项目的MPComplete服务已经允许用户建议用于计算的新化合物，并对化合物进行投票，在该化合物上优先考虑计算量更大的工作流程。然后，MPComplete会自动将每次计算的结果与MP的核心数据集合在一起。\n",
    "\n",
    "## 超越模拟：社区贡献的材料数据\n",
    "MP已经成为材料科学界的全球资源，超过40,000名用户依赖门户网站作为可靠来源加速他们的研究。这为扩大MP的使命范围提供了机会，也包括协助研究人员向更大的材料科学家群体传播他们自己的数据集(无论是计算的还是实验的)。因此，MP不仅可以作为集中生成的计算数据的集线器，还可以托管和分发全球研究组生成的各种数据集。这也将为MP的用户提供更全面的化合物图片，因为他们将从各种技术中获得计算和实验信息。\n",
    "\n",
    "为此，我们软件发布了我们的一般贡献框架，MPContribs(Huck 2016c，2017 ; Huck et al。2015a，b，2016a，b)，作为一个可持续的解决方案，用于精心策划的数据管理，组织和传播。 MP的背景。通过此框架提供的数据以及贡献者的出处和引用信息可在MP网站上查看。早期采用者正在尝试将MPContribs作为其数据的潜在传播和托管平台，扩大通过MP提供的数据范围。\n",
    "\n",
    "大约十几个早期采用者已经在https://materialsproject.org/mpcontribs上发布了他们贡献数据集的登陆页面。图11突出显示了MnO2相选择，GLLB-SC带隙，稀溶质扩散和Fe-V-Co磁性薄膜的外部研究的着陆页。其中最后一项基于劳伦斯伯克利国家实验室高级光源测量的数据，而其他数据则是计算得出的。这些登陆页面可以作为随附期刊出版物的互动版本，使研究研究更容易复制和扩展。"
   ]
  },
  {
   "cell_type": "markdown",
   "metadata": {},
   "source": [
    "> 图11\n",
    "提交给MPContribs的四个不同登录页面(表示不同类型的用户生成数据集)的示例"
   ]
  },
  {
   "cell_type": "markdown",
   "metadata": {},
   "source": [
    "## MPCite：在出版物中引用材料数据\n",
    "美国能源部科学和技术信息办公室(OSTI)(Elliot等人，2016年)提供E-Link服务，允许研究人员提交有关OSTI产品的信息(以XML元数据记录的形式)并检索持久性数字对象标识符(DOI)，用于在万维网上识别它。DOI最常用于引用和查找期刊论文，因为它们提供了一个链接到期刊在线登录页面的唯一URL，其中包含有关该出版物的更多信息。我们的开源软件MPCite(Huck 2016a，b)使所有MP化合物能够连续请求，验证和传播DOI。MPCite还可用于将DOI分配给非核心数据库条目，例如通过MPContribs或用户生成的分析或结构数据提供的理论和实验数据。"
   ]
  },
  {
   "cell_type": "markdown",
   "metadata": {},
   "source": [
    "## 数据分析和材料设计环境\n",
    "材料项目不仅旨在生成原始数据，还旨在使用户能够充分利用这些数据。例如，如前所述，我们发现用户进行的许多科学研究采用围绕数据构建的“应用”，例如相图图。随着新数据功能的建立，我们将继续构建其他应用程序，使用户能够弥合简单的材料数据列表之间的差距，并将这些数据纳入科学分析。\n",
    "\n",
    "材料项目还将进一步强调帮助用户将基础数据资产转换为有关结构 - 属性关系的新见解。特别是，新功能将允许用户使用可视界面制定复杂查询，并执行交互式数据分析和实时过滤。用户将能够在机器学习算法以及传统理论计算提供的指导下快速迭代材料设计探索。材料设计平台的这一愿景的四个组成部分是查询，处理，可视化和模型/计算(参见图12)。接下来，我们将详细讨论这些组件。"
   ]
  },
  {
   "cell_type": "markdown",
   "metadata": {},
   "source": [
    "> 图12\n",
    "数据探索和建模的四个步骤，MP目前正在开发新功能以帮助用户。有关这些步骤的详细说明，请参阅正文"
   ]
  },
  {
   "cell_type": "markdown",
   "metadata": {},
   "source": [
    "**询问**  \n",
    "今天，Materials Project为其底层数据库提供了一个基于Web的可视化搜索界面，该界面最适合识别一组与一系列约束相匹配的材料。但是，许多用户需要更复杂的数据管道，其中可以在视觉上添加或删除过滤器并在分析中的多个点检查结果或合并来自独立查询流的结果。对于那些能够编写计算机程序以通过MAPI获取Materials Project数据的人来说，这样的功能已经成为可能，但对其他人来说仍然很困难。将来开发允许用户获取数据并与数据交互的新技术，以便能够使用视觉查询接口准确地调用所需数据。\n",
    "\n",
    "**处理**   \n",
    "一旦用户通过查询工具编译了感兴趣的数据集，材料项目将使用户可以轻松地以有助于可视化，解释和模型构建的方式向数据添加描述符/特征。我们设想一种系统，**用户可以通过该系统调出任何结果集**(例如，100种感兴趣的材料)，并且通过单击按钮，**可以快速生成描述符库**，例如平均电负性，局部环境类型或多面体连接类型。数据集中的每个材料。用户将能够使用这些描述符通过传统的数据分析(例如，可视化，统计报告)和数据挖掘以及机器学习方法来探索潜在的结构 - 属性关系。\n",
    "\n",
    "**想象**  \n",
    "新的软件库和Web框架(如Dash by Plotly和Crossfilter)使得在Web上生成可以交互式探索和操作的高质量图表变得前所未有的简单。这样的库可以使用户能够在MP网站本身上执行更大部分的数据探索。作为一个简单的例子，用户可以决定在两个用户选择的感兴趣的属性之间产生标准的XY散点图，其另外允许悬停在特定点上以显示该材料的细节。更复杂的例子是包括用于交互式过滤数据集的工具，每次修改或添加过滤器，显示数据集中剩余材料的各种材料属性分布的实时直方图。\n",
    "\n",
    "**型号/计算**\n",
    "在数据准备和探索之后，下一步是对数据采取行动。一种可能的操作是生成描述材料属性之间的各种关系的模型。例如，可以尝试构建将诸如局部环境的结构描述符和诸如氧化还原活性物质的组成描述符与诸如电池电压的计算输出相关联的模型。机器学习模型是一种有趣的前进方式，因为一旦经过训练和验证，它们就可以用来获得关于材料在任何模拟执行之前的行为方式的近乎即时的反馈。因此，这些模型可以作为更复杂和耗时的物理模拟的替代品，用于定性估计和排序目的。\n",
    "\n",
    "有了这些元素，单个交互式Web会话将允许用户对数据集执行复杂查询，自动生成可用于形成结构 - 属性关系的描述符，可视化地探索(并且，如果必要，进一步细化)数据集，生成描述数据的模型，并使用这些模型来推动进一步的计算。实际上，今天的材料项目中存在许多这些元素。例如，对于其中弹性模量尚未计算的物料，用户可以立即得到的估计基于机器学习模型的(de Jong等人的2016)以及基于密度泛函理论的完整计算。在未来，数据挖掘和传统理论模型的这种混合使用将变得更加普遍并且对用户来说越来越自然。\n",
    "\n",
    "## 结论性思考\n",
    "Ab initio模拟一直是理解和设计材料的有力工具。随着高通量计算的进步，现在可以创建模拟结果库，这些库可以以远远超过过去的速率生成材料信息。此外，软件框架和网络技术的进步使得这些结果能够以无障碍的方式传播给全世界成千上万的研究人员。材料项目旨在利用这些进步来构建宝贵的材料数据资源以及改变材料设计方式的软件工具。此外，\n",
    "\n",
    "对于理论而言，这是一个激动人心的时刻 - 从未有过如此多的材料数据或计算的潜力，以便在材料设计中产生更高的影响。实验家和理论家都能够利用材料项目以弥合传统知识差距的方式进行科学和工业研究。这些用例可能是未来的早期标志，其中理论技术和大型材料数据库将越来越有影响力，并有助于创建新的材料设计范例。"
   ]
  },
  {
   "cell_type": "markdown",
   "metadata": {},
   "source": [
    "参考\n",
    "Ashton M，Paul J，Sinnott SB，Hennig RG(2017)拓扑结构识别层状固体和稳定的剥落2D材料。Phys Rev Lett 118：106101\n",
    "ADS CrossRef Google学术搜索\n",
    "Barber CB，Dobkin DP，Huhdanpaa H(1996)用于凸壳的quickhull算法。ACM Trans Math Softw 22(4)：469-483。http://doi.acm.org/10.1145/235815.235821\n",
    "MathSciNet CrossRef Google学术搜索\n",
    "Bayliss RD，Cook SN，Scanlon DO，Fearn S，Cabana J，Greaves C，Kilner JA，Skinner SJ(2014)了解碱金属硅酸锶固溶体的缺陷化学：实验和理论的见解。J Mater Chem A 2：17919-17924\n",
    "CrossRef Google学术搜索\n",
    "Belsky A，Hellenbrandt M，Karen VL，Luksch P(2002)无机晶体结构数据库(ICSD)的新发展：支持材料研究和设计的可达性。Acta Crystall Sect B Struct Sci 58(3)：364-369\n",
    "CrossRef Google学术搜索\n",
    "Bray T(2017)javascript对象表示法(JSON)数据交换格式。STD 90，RFC 8259. https://www.rfc-editor.org/info/rfc8259\n",
    "Cattell R(2011)可扩展的SQL和NOSQL数据存储。SIGMOD Rec 39(4)：12-27。http://doi.acm.org/10.1145/1978915.1978919\n",
    "CrossRef Google学术搜索\n",
    "Chen W，Pohls JH，Hautier G，Broberg D，Bajaj S，Aydemir U，Gibbs ZM，Zhu H，Asta M，Snyder GJ，Meredig B，White MA，Persson K，Jain A(2016)了解高温的热电特性吞吐量计算：趋势，见解和与实验的比较。J Mater Chem C 4：4414-4426\n",
    "CrossRef Google学术搜索\n",
    "Cheon G，Duerloo KAN，Sendek AD，Porter C，Chen Y，Reed EJ(2017)数据挖掘用于新的二维和一维弱键固体和晶格相称的异质结构。Nano Lett 17：1915-1923\n",
    "ADS CrossRef Google学术搜索\n",
    "Choudhary K，Kalish I，Beams R，Tavazza F(2017)使用密度泛函理论对二维材料进行高通量识别和表征。Sci Rep 7：5179\n",
    "ADS CrossRef Google学术搜索\n",
    "Cococcioni M，de Gironcoli S(2005)用于计算LDA + U方法中有效相互作用参数的线性响应方法。Phys Rev B 71：035105。https://link.aps.org/doi/10.1103/PhysRevB.71.035105\n",
    "Dagdelen J，Montoya J，de Jong M，Persson K(2017)新的拉胀材料的计算预测。Nat Commun 8：323\n",
    "ADS CrossRef Google学术搜索\n",
    "de Jong M，Chen W，Angsten T，Jain A，Notestine R，Gamst A，Sluiter M，Krishna Ande C，van der Zwaag S，Plata JJ，Toher C，Curtarolo S，Ceder G，Persson KA，Asta M(2015a) )绘制无机结晶化合物的完整弹性性质。Sci Data 2：150009。https://doi.org/10.1038/sdata.2015.9，http://www.nature.com/articles/sdata20159\n",
    "交叉引用\n",
    "谷歌学术\n",
    " \n",
    "de Jong M，Chen W，Geerlings H，Asta M，Persson KA(2015b)一个能够发现和设计压电材料的数据库。Sci Data 2：150053。https://doi.org/10.1038/sdata.2015.53，http://www.nature.com/articles/sdata201553\n",
    "交叉引用\n",
    "谷歌学术\n",
    " \n",
    "de Jong M，Chen W，Notestine R，Persson K，Ceder G，Jain A，Asta M，Gamst A(2016)材料科学的统计学习框架：应用于k-nary无机多晶化合物的弹性模量。Sci Rep 6：34256。https://doi.org/10.1038/srep34256，http://www.ncbi.nlm.nih.gov/pubmed/27694824，http://www.pubmedcentral.nih.gov/articlerender.fcgi?artid=PMC5046120 \n",
    "Dja(2015)Django(版本1.8)：具有截止日期的完美主义者的Web框架。https://djangoproject.com\n",
    "Dozier A，Persson K，Ong SP，Mathew K，Zheng C，Chen C，Kas J，Vila F，Rehr J(2017)使用feff9在材料项目中创建xas和eels光谱资源。Microscopy Microanalysis 23(S1)：208-209\n",
    "CrossRef Google Scholar\n",
    "Elliot J，Vowell L，Nelson J，Ensor N，Robinson C，Studwell S，Martin M(2016)美国能源部科学和技术信息办公室(OSTI)。https://www.osti.gov\n",
    "Faber F，Lindmaa A，von Lilienfeld OA，Armiento R(2015)用于形成能量的机器学习模型的晶体结构表示。Int J Quant Chem 115(16)：1094-1101。http://doi.wiley.com/10.1002/qua.24917\n",
    "CrossRef Google学术搜索\n",
    "Gonze X，Jollet F，Araujo FA，Adams D，Amadon B，Applencourt T，Audouze C，Beuken JM，Bieder J，Bokhanchuk A，Bousquet E，Bruneval F，Caliste D，CôtéM，Dahm F，Pieve FD，Delaveau M ，Gennaro MD，Dorado B，Espejo C，Geneste G，Genovese L，Gerossier A，Giantomassi M，Gillet Y，Hamann D，He L，Jomard G，Janssen JL，Roux SL，Levitt A，Lherbier A，Liu F，Lukacevic我，Martin A，Martins C，Oliveira M，PoncéS，Pouillon Y，Rangel T，Rignanese GM，Romero A，Rousseau B，Rubel O，Shukri A，Stankovski M，Torrent M，Setten MV，troeye BV，Verstraete M， Waroquier D，Wiktor J，Xue B，Zhou A，Zwanziger J(2016)ABINIT软件包的最新进展。Comput Phys Commun 205：106。https://doi.org/10.1016/j.cpc.2016.04.003，http://www.sciencedirect.com/science/article/pii/S0010465516300923\n",
    "ADSCrossRef Google学术搜索\n",
    "Grindy S，Meredig B，Kirklin S，Saal JE，Wolverton C(2013)通过密度泛函计算接近化学精度：双原子能量校正。Phys Rev B 87(7)：075150\n",
    "ADS CrossRef Google学术搜索\n",
    "Gunter D，Cholia S，Jain A，Kocher M，Persson K，Ramakrishnan L，Ong SP，Ceder G(2012)高通量计算的社区可访问数据库：来自材料项目的经验。在：2012 SC伴侣：高性能计算，网络存储和分析，第1244-1251页。https://doi.org/10.1109/SC.Companion.2012.150\n",
    "Hart GL，Forcade RW(2008)用于生成导数结构的算法。Phys Rev B 77(22)：224115\n",
    "ADS CrossRef Google学术搜索\n",
    "Hautier G，Jain A，Ong SP(2012)从计算机到实验室：使用第一性原理计算的材料发现和设计。J Mater Sci 47：7317-7340\n",
    "ADS CrossRef Google学术搜索\n",
    "Huck P(2016a)在材料项目中连续和高吞吐量地分配计算和贡献材料数据的数字对象标识符 - 请参阅SciPy16的再现性小型研讨会。https://youtu.be/bHhuO4EOgEw\n",
    "Huck P(2016b)MPCite GitHub存储库。https://github.com/materialsproject/MPCite\n",
    "Huck P(2016c)MPContribs GitHub Repository。https://github.com/materialsproject/MPContribs\n",
    "Huck P(2017)材料项目：材料科学软件工程的主要案例。https://youtu.be/rs8b8HaA3_I\n",
    "Huck P，Gunter D，Cholia S，Winston D，N'Diaye A，Persson KA(2015a)由社区贡献框架MPContribs在材料项目中推动的用户应用程序。http://arxiv.org/abs/1510.05727\n",
    "CrossRef Google学术搜索\n",
    "Huck P，Jain A，Gunter D，Winston D，Persson KA(2015b)用于与材料项目共享材料数据的社区贡献框架。http://arxiv.org/abs/1510.05024\n",
    "Huck P，Gunter D，Persson K，Cholia S，Morgan D，Wu H，Mayeshiba T(2016a)使用MPContribs有效和互动地传播扩散数据。http://sciencegateways.org/wp-content/uploads/2016/09/Patrick-Huck-2016-11-02_Gateways2016-1.pdf\n",
    "Huck P，Jain A，Gunter D，Cholia S，Winston D，Persson K(2016b)材料项目，作为实验和计算材料数据的分析和验证中心。http://www.mrs.org/technical-programs/programs_abstracts/2016_mrs_fall_meeting_exhibit/tc2/tc2_5_3/tc2_5_06_6\n",
    "Jain A，Hautier G，Moore CJ，Ong SP，Fischer CC，Mueller T，Persson KA，Ceder G(2011a)用于密度泛函理论计算的高通量基础设施。Comput Mater Sci 50(8)：2295-2310\n",
    "CrossRef Google学术搜索\n",
    "Jain A，Hautier G，Ong SP，Moore CJ，Fischer CC，Persson KA，Ceder G(2011b)通过混合gga和gga + u计算形成焓  。Phys Rev B 84：045115。https://link.aps.org/doi/10.1103/PhysRevB.84.045115\n",
    "Jain A，Ong SP，Chen W，Medasani B，Qu X，Kocher M，Brafman M，Petretto G，Rignanese GM，Hautier G，Gunter D，Persson KA(2015)Fireworks：专为高通量应用而设计的动态工作流程系统。Concurr Comput Pract Exp 27(17)：5037-5059。https://doi.org/10.1002/cpe.3505，CPE-14-0307.R2\n",
    "交叉引用\n",
    "谷歌学术\n",
    " \n",
    "Jain A，Hautier G，Ong SP，Persson K(2016a)材料信息学的新机遇：用于发现隐藏关系的资源和数据挖掘技术。J Mater Res 31(08)：977-994。https://doi.org/10.1557/jmr.2016.80，http://www.journals.cambridge.org/abstract_S0884291416000807\n",
    "ADS\n",
    "交叉引用\n",
    "谷歌学术\n",
    " \n",
    "Jain A，Persson KA，Ceder G(2016b)研究更新：材料基因组计划：数据共享和协作从头数据库的影响。APL Mater 4(5)：053102。http://aip.scitation.org/doi/abs/10.1063/1.4944683\n",
    "ADS CrossRef Google学术搜索\n",
    "Jain A，Shin Y，Persson KA(2016c)使用密度泛函理论计算能量材料的预测。Nat Rev Mater 1：15004\n",
    "ADS CrossRef Google学术搜索\n",
    "Kohn W，Sham LJ(1965)自洽方程，包括交换和相关效应。Phys Rev 140：A1133-A1138。https://link.aps.org/doi/10.1103/PhysRev.140.A1133\n",
    "ADS MathSciNet CrossRef Google学术搜索\n",
    "Kong J，White CA，Krylov AI，Sherrill D，Adamson RD，Furlani TR，Lee MS，Lee AM，Gwaltney SR，Adams TR 等(2000)Q-chem 2.0：高性能ab initio电子结构程序包。J Comput Chem 21(16)：1532-1548\n",
    "CrossRef Google学术搜索\n",
    "Kresse G，FurthmüllerJ(1996)使用平面波基组的金属和半导体的ab-initio总能量计算效率。Comput Mater Sci 6(1)：15-50。https://doi.org/10.1016/0927-0256(96)00008-0，http://www.sciencedirect.com/science/article/pii/0927025696000080\n",
    "交叉引用谷歌学术\n",
    "Kresse G，Hafner J(1994)第一行和过渡元素的守恒和超软赝势。J Phys Condens Matter 6(40)：8245-8257。http://iopscience.iop.org/article/10.1088/0953-8984/6/40/015\n",
    "ADS CrossRef Google学术搜索\n",
    "Krishnamoorthy T，Ding H，Yan C，Leong WL，Baikie T，Zhang Z，Sherburne M，Li S，Asta M，Mathews N，Mhaisalkar SG(2015)用于光伏应用的无铅碘化锗钙钛矿材料。J Mater Chem A 3：23829-23832\n",
    "CrossRef Google学术搜索\n",
    "Lau CY，Dunstan MT，Hu W，Gray CP，Scott SA(2017)通过化学循环大规模计算机筛选碳捕获材料。Ener Env Sci 10：818-831\n",
    "CrossRef Google学术搜索\n",
    "Cottenier S(2016)固体密度泛函理论计算的再现性。科学351(6280)。 https://doi.org/10.1126/science.aad3000， http://science.sciencemag.org/content/351/6280/aad3000\n",
    "交叉引用谷歌学术\n",
    "Martinolich AJ，Neilson JR(2014)通过低温固态复分解的动力学中间体形成硫铁矿。J Am Chem Soc 136：15654-15659\n",
    "CrossRef Google学术搜索\n",
    "Mathew K，Ong SP，Winston D，Montoya J，Aykol M，Dwaraknath S，Huck P(2016)资产2016年材料项目研讨会。https://doi.org/10.5281/zenodo.1040432 \n",
    "Mathew K，Montoya JH，Faghaninia A，Dwarakanath S，Aykol M，Tang H，Heng Chu I，Smidt T，Bocklund B，Horton M，Dagdelen J，Wood B，Liu ZK，Neaton J，Ong SP，Persson K，Jain A(2017)Atomate：用于生成，执行和分析计算材料科学工作流程的高级界面。Comput Mater Sci 139(补充C)：140-152。https://doi.org/10.1016/j.commatsci.2017.07.030，http://www.sciencedirect.com/science/article/pii/S0927025617303919\n",
    "交叉引用谷歌学术\n",
    "Ong(2015)材料应用程序编程接口(API)：基于REpresentational State Transfer(REST)原则的材料数据的简单，灵活和高效的API。Comput Mater Sci 97：209-215。https://doi.org/10.1016/j.commatsci.2014.10.037，http://www.sciencedirect.com/science/article/pii/S0927025614007113\n",
    "交叉引用谷歌学术\n",
    "Ong SP，Wang L，Kang B，Ceder G(2008)来自第一原理计算的Li-fe-p-o2相图。Chem Mater 20(5)：1798-1807\n",
    "CrossRef Google学术搜索\n",
    "Ong SP，Richards WD，Jain A，Hautier G，Kocher M，Cholia S，Gunter D，Chevrier VL，Persson KA，Ceder G(2013)Python材料基因组学(pymatgen)：用于材料分析的强大的开源python库。Comput Mater Sci 68：314-319。https://doi.org/10.1016/j.commatsci.2012.10.028，http://www.sciencedirect.com/science/article/pii/S0927025612006295\n",
    "交叉引用谷歌学术\n",
    "Ong SP，Qu X，Richards W，Dacek S，Jain A，Hautier G，Kitchaev D(2014)监护人：python中简单，强大且灵活的即时作业管理框架。https://doi.org/10.5281/zenodo.11714 \n",
    "Perdew JP，Burke K，Ernzerhof M(1996)广义梯度近似变得简单。Phys Rev Lett 77：3865-3868。https://link.aps.org/doi/10.1103/PhysRevLett.77.3865\n",
    "ADS CrossRef Google学术搜索\n",
    "Perdew JP，Ernzerhof M，Zupan A，Burke K(1998)Nonlocality of density functional for exchange and correlation：physical origin and chemical outcome。J Chem Phys 108(4)：1522-1531\n",
    "ADS CrossRef Google学术搜索\n",
    "Persson KA，Waldwick B，Lazic P，Ceder G(2012)固 - 水平衡预测：将固体的第一性原理计算与实验水性状态相结合的方案。Phys Rev B 85：235438。https://link.aps.org/doi/10.1103/PhysRevB.85.235438\n",
    "ADS CrossRef Google学术搜索\n",
    "Petousis I，Mrdjenovich D，Ballouz E，Liu M，Winston D，Chen W，Graf T，Schladt TD，Persson KA，Prinz FB(2017)用于发现新型电介质和光学材料的高通量无机化合物筛选。Sci Data 4. https://www.nature.com/articles/sdata2016134\n",
    "Ragan-Kelley M，Perez F，Granger B，Kluyver T，Ivanov P，Frederic J，Bussonnier M(2014)the jupyter / ipython architecture：统一的计算研究视图，从交互式探索到交流和出版。在：AGU秋季会议摘要\n",
    "谷歌学者\n",
    "Raicu I，Foster IT，Zhao Y(2008)网格和超级计算机的多任务计算。参见：2008年关于网格和超级计算机多任务计算的研讨会，第1-11页。https://doi.org/10.1109/MTAGS.2008.4777912 \n",
    "Ricci F，Chen W，Aydemir U，Snyder GJ，Rignanese GM，Jain A，Hautier G(2017)数据描述符：用于无机材料的ab initio电子传输数据库。Sci Data 4：170085\n",
    "CrossRef Google学术搜索\n",
    "Sendek AD，Yang Q，Cubuk ED，Duerloo KAN，Cui Y，Reed EJ(2017)整体计算结构筛选超过12,000个固体锂离子导体材料候选者。Ener Env Sci 10：306-320\n",
    "CrossRef Google学术搜索\n",
    "Shandiz MA，Gauvin R(2016)应用机器学习方法预测锂离子电池正极材料的晶体系统。Comput Mater Sci 117：270-278\n",
    "CrossRef Google学术搜索\n",
    "Shi J，Cerqueira TFT，Cui W，Nogueira F，Botti S，Marques MAL(2017)用于p型透明电极的三元硫属元素化物的高通量搜索。Sci Rep 7：43179\n",
    "ADS CrossRef Google学术搜索\n",
    "Singh AK，Zhou L，Shinde A，Suram SK，Montoya JH，Winston D，Gregoire JM，Persson KA(2017)亚稳态材料的电化学稳定性。材料化学p acs.chemmater.7b03980，http： //pubs.acs.org/doi/abs/10.1021/acs.chemmater.7b03980\n",
    "CrossRef Google Scholar\n",
    "Sun W，Dacek ST，Ong SP，Hautier G，Jain A，Richards WD，Gamst AC，Persson KA，Ceder G(2016)无机结晶亚稳态的热力学尺度。Sci Adv 2：e1600225\n",
    "ADS CrossRef Google学术搜索\n",
    "Togo A，Tanaka I(2018)Spglib：用于晶体对称搜索的软件库。ArXiv电子打印：1808.01590。http://adsabs.harvard.edu/abs/2018arXiv180801590T\n",
    "Google学术搜索\n",
    "Tran R，Xu Z，Radhakrishnan B，Winston D，Sun W，Persson KA，Ong SP(2016)元素晶体的表面能。Sci Data 3：160080。https://doi.org/10.1038/sdata.2016.80，http://www.nature.com/doifinder/10.1038/cgt.2016.38，http://www.nature.com/articles/sdata201680"
   ]
  }
 ],
 "metadata": {
  "kernelspec": {
   "display_name": "Python 3",
   "language": "python",
   "name": "python3"
  },
  "language_info": {
   "codemirror_mode": {
    "name": "ipython",
    "version": 3
   },
   "file_extension": ".py",
   "mimetype": "text/x-python",
   "name": "python",
   "nbconvert_exporter": "python",
   "pygments_lexer": "ipython3",
   "version": "3.6.5"
  },
  "toc": {
   "base_numbering": 1,
   "nav_menu": {},
   "number_sections": true,
   "sideBar": true,
   "skip_h1_title": false,
   "title_cell": "Table of Contents",
   "title_sidebar": "Contents",
   "toc_cell": false,
   "toc_position": {},
   "toc_section_display": true,
   "toc_window_display": false
  },
  "varInspector": {
   "cols": {
    "lenName": 16,
    "lenType": 16,
    "lenVar": 40
   },
   "kernels_config": {
    "python": {
     "delete_cmd_postfix": "",
     "delete_cmd_prefix": "del ",
     "library": "var_list.py",
     "varRefreshCmd": "print(var_dic_list())"
    },
    "r": {
     "delete_cmd_postfix": ") ",
     "delete_cmd_prefix": "rm(",
     "library": "var_list.r",
     "varRefreshCmd": "cat(var_dic_list()) "
    }
   },
   "types_to_exclude": [
    "module",
    "function",
    "builtin_function_or_method",
    "instance",
    "_Feature"
   ],
   "window_display": false
  }
 },
 "nbformat": 4,
 "nbformat_minor": 2
}
